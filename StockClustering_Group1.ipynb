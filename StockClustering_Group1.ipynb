{
 "cells": [
  {
   "cell_type": "markdown",
   "metadata": {},
   "source": [
    "# Stock Market Clustering (Group 1)"
   ]
  },
  {
   "cell_type": "markdown",
   "metadata": {},
   "source": [
    "## Main Part"
   ]
  },
  {
   "cell_type": "markdown",
   "metadata": {},
   "source": [
    "Firstly, we will import the Python libraries required for the final project."
   ]
  },
  {
   "cell_type": "code",
   "execution_count": 1,
   "metadata": {
    "collapsed": true
   },
   "outputs": [],
   "source": [
    "import pandas as pd\n",
    "import numpy as np\n",
    "import networkx as nx\n",
    "import matplotlib.pyplot as plt"
   ]
  },
  {
   "cell_type": "markdown",
   "metadata": {},
   "source": [
    "The function **stockReturns** calculates the daily returns for all stocks in the dataframe.\n",
    "* Input: A dataframe which contains all the closing stock prices throughout the year\n",
    "* Output: A dataframe which contains the daily returns for all stocks"
   ]
  },
  {
   "cell_type": "code",
   "execution_count": 2,
   "metadata": {
    "collapsed": true
   },
   "outputs": [],
   "source": [
    "def stockReturns(priceDF):\n",
    "    \n",
    "    # Method 1: Compute daily returns by parsing the Data Frame as numpy matrix (Fastest)\n",
    "    compTickers = priceDF.columns[1: ]    \n",
    "    priceMat = priceDF.loc[ : , compTickers].as_matrix()    \n",
    "    diffMat = (priceMat[1: ] - priceMat[ :-1]) / priceMat[ :-1]\n",
    "    \n",
    "    return pd.DataFrame(data = diffMat, index = priceDF.index[1: ], columns = compTickers)\n",
    "    \n",
    "    # Method 2: Compute daily returns by perfoming assignment directly on pandas Data Frame (Slowest)\n",
    "#    dailyDF = pd.DataFrame(index = priceDF.index, columns = priceDF.columns)\n",
    "#    dailyDF.Date = priceDF.Date\n",
    "#    \n",
    "#    for company in compNames:\n",
    "#        for i in range(1, len(priceDF)):\n",
    "#            prevPrice = priceDF.loc[i - 1, company]\n",
    "#            currPrice = priceDF.loc[i, company]\n",
    "#            dailyDF.loc[i, company] = (currPrice - prevPrice) / prevPrice\n",
    "#    \n",
    "#    return dailyDF[1: ]\n",
    "    \n",
    "    # Method 3: Compute daily returns by perfoming assignment directly on 2D array (Slower)\n",
    "#    nrow = priceDF.shape[0] - 1\n",
    "#    ncol = priceDF.shape[1] - 1\n",
    "#    dailyReturn = [[0 for x in range(ncol)] for y in range(nrow)]\n",
    "#    \n",
    "#    for i in range(0, nrow):\n",
    "#        \n",
    "#        j = 0\n",
    "#        for company in compNames:\n",
    "#            prevPrice = priceDF.loc[i, company]\n",
    "#            currPrice = priceDF.loc[i + 1, company]\n",
    "#            dailyReturn[i][j] = (currPrice - prevPrice) / prevPrice\n",
    "#            j += 1\n",
    "#            \n",
    "#    return dailyReturn"
   ]
  },
  {
   "cell_type": "markdown",
   "metadata": {},
   "source": [
    "The function **calCorrelations** calculates the pairwise correlations between all the stocks.\n",
    "* Input: A dataframe which contains the daily returns for all stocks\n",
    "* Output: A dataframe and a graph which contains correlation coefficients of all stocks"
   ]
  },
  {
   "cell_type": "code",
   "execution_count": 3,
   "metadata": {
    "collapsed": true
   },
   "outputs": [],
   "source": [
    "def calCorrelations(dailyReturn):\n",
    "    \n",
    "    # Method 1: Pandas built-in function to calculate pairwise correlation (Fastest)\n",
    "#    return dailyReturn.corr()\n",
    "    \n",
    "    # Method 2: Manual calculation of pairwise correlation using numpy matrix (Faster)\n",
    "    col = dailyReturn.columns\n",
    "    ncol = len(col)\n",
    "    corrMat = np.identity(ncol)\n",
    "    \n",
    "    G = nx.Graph()\n",
    "    G.add_nodes_from(col.values)\n",
    "        \n",
    "    n = len(dailyReturn)\n",
    "    for i in range(0, ncol):\n",
    "        for j in range(i + 1, ncol):\n",
    "            x = dailyReturn[col[i]]\n",
    "            y = dailyReturn[col[j]]\n",
    "            xsum = sum(x)\n",
    "            ysum = sum(y)\n",
    "            corrMat[i][j] = (n * sum(x * y) - xsum * ysum) / (np.sqrt(n * sum(x**2) - xsum**2) * np.sqrt(n * sum(y**2) - ysum**2))\n",
    "            corrMat[j][i] = corrMat[i][j]\n",
    "            G.add_edge(col[i], col[j], weight = corrMat[i][j])\n",
    "        \n",
    "    return pd.DataFrame(data = corrMat, index = col, columns = col), G\n",
    "    \n",
    "    # Method 3: Manual calculation of pairwise correlation using numpy matrix (Faster)\n",
    "#    col = dailyReturn.columns\n",
    "#    ncol = len(col)\n",
    "#    corrMat = np.zeros([ncol, ncol])\n",
    "#        \n",
    "#    n = len(dailyReturn)\n",
    "#    for i in range(0, ncol):\n",
    "#        for j in range(i, ncol):\n",
    "#            x = dailyReturn[col[i]]\n",
    "#            y = dailyReturn[col[j]]\n",
    "#            xsum = sum(x)\n",
    "#            ysum = sum(y)\n",
    "#            corrMat[i][j] = (n * sum(x * y) - xsum * ysum) / (np.sqrt(n * sum(x**2) - xsum**2) * np.sqrt(n * sum(y**2) - ysum**2))\n",
    "#        \n",
    "#    return pd.DataFrame(data = corrMat, index = col, columns = col)\n",
    "    \n",
    "    # Method 4: Manual calculation of pairwise correlation using pandas Data Frame (Slower)\n",
    "      \n",
    "#    corrDF = pd.DataFrame(index = dailyReturn.columns, columns = dailyReturn.columns)\n",
    "#    corrDF.fillna(0)\n",
    "#\n",
    "#    k = 0\n",
    "#    n = len(dailyReturn)\n",
    "#    for i in corrDF.index:\n",
    "#        for j in corrDF.index[k: ]:\n",
    "#            x = dailyReturn[i]\n",
    "#            y = dailyReturn[j]\n",
    "#            xsum = sum(x)\n",
    "#            ysum = sum(y)\n",
    "#            corr = (n * sum(x * y) - xsum * ysum) / (np.sqrt(n * sum(x**2) - xsum**2) * np.sqrt(n * sum(y**2) - ysum**2))\n",
    "#            corrDF.loc[i, j] = corr\n",
    "#        k += 1\n",
    "#    \n",
    "#    return corrDF"
   ]
  },
  {
   "cell_type": "markdown",
   "metadata": {},
   "source": [
    "The function **stockClustering** clusters similar stocks based on the correlation coefficients.\n",
    "* Input: A graph which contains correlation coefficients of all stocks (as edges' weights)\n",
    "* Output: A list of sets, each set represents a distinct stock cluster"
   ]
  },
  {
   "cell_type": "code",
   "execution_count": 4,
   "metadata": {
    "collapsed": true
   },
   "outputs": [],
   "source": [
    "def stockClustering(graph, k):\n",
    "            \n",
    "    # Method 1: Clustering using dictionary and list\n",
    "    sortedEdges = sorted(graph.edges(data = True), key = lambda edge: edge[2]['weight'], reverse = True)\n",
    "    \n",
    "    listSets = dict()    \n",
    "    for node in graph.nodes():\n",
    "        listSets[node] = {node}\n",
    "        \n",
    "    for i in range(0, k):\n",
    "        (a, b, data) = sortedEdges[i]\n",
    "        mergedSet = listSets[a].union(listSets[b])\n",
    "        for node in mergedSet:\n",
    "            listSets[node] = mergedSet\n",
    "            \n",
    "    resultSets = []\n",
    "    for nodeSet in listSets.values():\n",
    "        if nodeSet not in resultSets:\n",
    "            resultSets.append(nodeSet)\n",
    "        \n",
    "    return resultSets\n",
    "    \n",
    "    # Method 2: Clustering using networkx graph\n",
    "#    sortedEdges = sorted(graph.edges(data = True), key = lambda edge: edge[2]['weight'], reverse = True)\n",
    "#    \n",
    "#    G = nx.Graph()\n",
    "#    G.add_nodes_from(graph.nodes())\n",
    "#    \n",
    "#    for i in range(0, k):\n",
    "#        (a, b, data) = sortedEdges[i]\n",
    "#        G.add_edge(a, b)\n",
    "#        \n",
    "#    return sorted(nx.connected_components(G))"
   ]
  },
  {
   "cell_type": "markdown",
   "metadata": {},
   "source": [
    "The following codes read in the two CSV files and invoke the three functions."
   ]
  },
  {
   "cell_type": "code",
   "execution_count": 5,
   "metadata": {
    "collapsed": true
   },
   "outputs": [],
   "source": [
    "priceDF = pd.read_csv('D:\\Imperial MSc\\Data Structures and Algorithms\\Homework\\Group Project\\SP_500_close_2015.csv')\n",
    "firmDF = pd.read_csv('D:\\Imperial MSc\\Data Structures and Algorithms\\Homework\\Group Project\\SP_500_firms.csv')\n",
    "\n",
    "dailyReturn = stockReturns(priceDF)\n",
    "corr, corrGraph = calCorrelations(dailyReturn)\n",
    "cluster = stockClustering(corrGraph, 800)"
   ]
  },
  {
   "cell_type": "markdown",
   "metadata": {},
   "source": [
    "TEST CODE   \n",
    "The following codes draw the graph with correlation coefficients as edge weights."
   ]
  },
  {
   "cell_type": "code",
   "execution_count": 6,
   "metadata": {
    "collapsed": false
   },
   "outputs": [
    {
     "data": {
      "image/png": "[encoded data removed]",
      "text/plain": [
       "<matplotlib.figure.Figure at 0x1dc1e5a7e80>"
      ]
     },
     "metadata": {},
     "output_type": "display_data"
    }
   ],
   "source": [
    "nx.draw_spectral(corrGraph)\n",
    "plt.show()"
   ]
  },
  {
   "cell_type": "markdown",
   "metadata": {},
   "source": [
    "## Extra"
   ]
  },
  {
   "cell_type": "markdown",
   "metadata": {},
   "source": [
    "Other analyses here..."
   ]
  },
  {
   "cell_type": "code",
   "execution_count": null,
   "metadata": {
    "collapsed": true
   },
   "outputs": [],
   "source": []
  }
 ],
 "metadata": {
  "anaconda-cloud": {},
  "kernelspec": {
   "display_name": "Python [default]",
   "language": "python",
   "name": "python3"
  },
  "language_info": {
   "codemirror_mode": {
    "name": "ipython",
    "version": 3
   },
   "file_extension": ".py",
   "mimetype": "text/x-python",
   "name": "python",
   "nbconvert_exporter": "python",
   "pygments_lexer": "ipython3",
   "version": "3.5.2"
  }
 },
 "nbformat": 4,
 "nbformat_minor": 1
}
