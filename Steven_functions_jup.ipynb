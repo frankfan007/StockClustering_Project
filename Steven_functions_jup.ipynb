{
 "cells": [
  {
   "cell_type": "code",
   "execution_count": 22,
   "metadata": {
    "collapsed": true
   },
   "outputs": [],
   "source": [
    "import pandas as pd\n",
    "import numpy as np\n",
    "import matplotlib.pyplot as plt\n",
    "\n",
    "%matplotlib inline"
   ]
  },
  {
   "cell_type": "code",
   "execution_count": 2,
   "metadata": {
    "collapsed": true
   },
   "outputs": [],
   "source": [
    "# George's stuff\n",
    "\n",
    "def stockReturns(cl_p, date = True):\n",
    "    \"\"\"\n",
    "    Input:  \n",
    "    cl_p: A dataframe that contains the prices of the stocks\n",
    "    date: A logical argument that equals True if the first column\n",
    "          in the dataframe represents dates, False otherwise\n",
    "    Output: \n",
    "    A dataframe with the daily returns of the stocks - same number of\n",
    "    columns as the input vector and one row less than the input vector\n",
    "    \"\"\"    \n",
    "    if date:\n",
    "        d_ret = pd.DataFrame(cl_p.iloc[1:, 0], columns=['Date'])\n",
    "        j = 1\n",
    "    else:\n",
    "        d_ret = pd.DataFrame()\n",
    "        j = 0\n",
    "    for i in range(j, cl_p.shape[1]):\n",
    "        d_ret[cl_p.columns[i]] = (cl_p.iloc[1:,i].values - cl_p.iloc[:-1,i].values) / cl_p.iloc[:-1,i].values\n",
    "    return d_ret\n",
    "\n",
    "\n",
    "def correlations(d_ret):\n",
    "    \"\"\"\n",
    "    Input:  \n",
    "    d_ret: A dataframe with the daily returns of the stocks - The \n",
    "           first column can either indicate dates or not\n",
    "    Output: \n",
    "    A list of tuples. Each tuple in the list have 3 elements:\n",
    "    1. The correlation between two firms\n",
    "    2 and 3. The firms for which we compute the correlation\n",
    "    \"\"\"\n",
    "    cor = d_ret.corr()\n",
    "    n = int(cor.shape[0])\n",
    "    cor_list = []\n",
    "    for i in range(1, n):\n",
    "        for j in range(0, i):\n",
    "            cor_list.append((cor.iloc[i, j], cor.columns.values[i], cor.columns.values[j]))\n",
    "    return cor_list\n",
    "    \n",
    "    \n",
    "def sortCorrs(cor_list): \n",
    "    \"\"\"\n",
    "    Input:  \n",
    "    cor_list: A list of tuples. Each tuple in the list have 3 elements:\n",
    "              1. The correlation between two firms\n",
    "              2. and 3. The firms for which we compute the correlation\n",
    "    Output: \n",
    "    The same list of tuples ordered based on the first element of the\n",
    "    tuples, e.g. the correlations\n",
    "    \"\"\"\n",
    "    return sorted(cor_list, reverse = True)\n",
    "\n",
    "\n",
    "def clusteringAlg(ord_list, k = 0):\n",
    "    \"\"\"\n",
    "    Input:  \n",
    "    ord_list: The ordered list of tuples which include the\n",
    "              correlations between firms and the firms themselves\n",
    "    k: The number of iterations for the clustering algorithm\n",
    "    Output: \n",
    "    A list of sets where each set represents an individual \n",
    "    cluster\n",
    "    \"\"\"\n",
    "    # Initialize the list of sets. Each set represents a cluster\n",
    "    # which initialy includes only one firm\n",
    "    sets = []\n",
    "    for i in range(len(ord_list)):\n",
    "        if not({ord_list[i][1]} in sets):\n",
    "            sets.append({ord_list[i][1]})\n",
    "        if not({ord_list[i][2]} in sets):\n",
    "            sets.append({ord_list[i][2]}) \n",
    "    \n",
    "    # Repeat the algorithm k times\n",
    "    # In each iteration we check the k-th tuple of correlations list\n",
    "    # and whether the 2 firms in that tuple are already in the same\n",
    "    # set. If they do, we move on to the next tuple, otherwise we merge\n",
    "    for j in range(min(k, len(ord_list))):\n",
    "        nd1 = ord_list[j][1]\n",
    "        nd2 = ord_list[j][2]\n",
    "        fl1, fl2 = False, False    \n",
    "        for i in range(len(sets)):\n",
    "            if (nd1 in sets[i]) and fl1 == False:\n",
    "                idx1 = i\n",
    "                fl1 = True\n",
    "            if (nd2 in sets[i]) and fl2 == False:\n",
    "                idx2 = i\n",
    "                fl2 = True\n",
    "        if idx1 != idx2:\n",
    "            sets[idx1] = sets[idx1].union(sets[idx2])\n",
    "            sets.remove(sets[idx2])\n",
    "        print(len(sets))\n",
    "    # Return the final list of sets\n",
    "    return sets\n",
    "\n",
    "\n",
    "def findCor(cl_p, f1, f2):\n",
    "    \"\"\"\n",
    "    Input:\n",
    "    cl_p: A dataframe that contains the prices of the stocks\n",
    "    f1, f2: The abreviations of the firms for which we want to \n",
    "            calculate the correlation\n",
    "    Output: \n",
    "    The correlation of the two firms\n",
    "    \"\"\"\n",
    "    df = stockReturns(cl_p.loc[:, [f1, f2]], date = False)\n",
    "    return df.corr().iloc[1, 0]\n",
    "\n",
    "\n",
    "def plotSetPrices(cl_p, sets):\n",
    "    \"\"\"\n",
    "    Description:\n",
    "    Plots the stock prices of a set of firms that belong to the same\n",
    "    cluster\n",
    "    Input:\n",
    "    cl_p: A dataframe that contains the prices of the stocks\n",
    "    sets: A set that contains all the names of the firms that belong\n",
    "          at the same cluster\n",
    "    \"\"\"\n",
    "    df = cl_p.loc[:, sets]\n",
    "    df.set_index(cl_p.loc[:, 'Date'])\n",
    "    plt.figure();         \n",
    "    df.plot();"
   ]
  },
  {
   "cell_type": "code",
   "execution_count": 4,
   "metadata": {
    "collapsed": true
   },
   "outputs": [],
   "source": [
    "# Steven's stuff\n",
    "\n",
    "def extract_clusters(list_of_sets):\n",
    "    '''\n",
    "    input: clusters from evaluation of clustering algorithm\n",
    "    output: extract all clusters longer than 1 for evaluation of clusters\n",
    "    '''\n",
    "    \n",
    "    extracted_sets = []\n",
    "    \n",
    "    for item in list_of_sets:\n",
    "            if len(item) > 1:   # extract all sets that have more than one element\n",
    "                extracted_sets.append(item)\n",
    "    \n",
    "    return extracted_sets\n",
    "    \n",
    "   \n",
    "   \n",
    "def mean_of_list(list):\n",
    "    '''\n",
    "    input: list of numbers\n",
    "    output: mean of these numbers\n",
    "    '''\n",
    "    sum = 0\n",
    "    \n",
    "    for item in list:\n",
    "        sum += item\n",
    "        \n",
    "    mean = sum / len(list)\n",
    "    \n",
    "    return mean\n",
    "        \n",
    "    \n",
    "    \n",
    "def name_columns(dataframe):\n",
    "    '''\n",
    "    input: takes dataframe with average means and returns of clusters as input\n",
    "    output: returns dataframe with 'Cluter 1, Cluster 2,...' names\n",
    "    '''\n",
    "    \n",
    "    colnames = []\n",
    "    \n",
    "    for i in range(len(dataframe.columns)):\n",
    "        name = 'Cluster ' + str(i + 1)\n",
    "        colnames.append(name)\n",
    "        \n",
    "    dataframe.columns = colnames\n",
    "    return dataframe\n",
    "    \n",
    "    \n",
    "    \n",
    "    \n",
    "def evaluate_clusters(list_of_sets):\n",
    "    '''\n",
    "    input: uses a list of clusters\n",
    "    output: average return and average risk of given cluster\n",
    "    \n",
    "    '''\n",
    "    \n",
    "    dframe = pd.DataFrame()   # initialize empty dataframe\n",
    "    \n",
    "    count = 0   # used to populate columns of dataframe\n",
    "    \n",
    "    mean_dframe = dailyReturns.mean()   # creates a dataframe with expected returns for all stocks\n",
    "    sd_frame = dailyReturns.std()   # creates a dataframe with starndard deviations for all stocks\n",
    "    \n",
    "    for set in list_of_sets:\n",
    "        \n",
    "        iterable_set = list(set)   # turns tuple into list to be able to iterate over it\n",
    "        \n",
    "        mean = []   # list of expected returns for a given cluster\n",
    "        sd = []   # list of standard deviations for a given cluster\n",
    "        \n",
    "        for stock in iterable_set:\n",
    "            mean.append(mean_dframe[stock])\n",
    "            sd.append(sd_frame[stock])\n",
    "        \n",
    "        mean_cluster = mean_of_list(mean)   #\n",
    "        sd_cluster = mean_of_list(sd)\n",
    "        \n",
    "        dframe[count] = [mean_cluster, sd_cluster]\n",
    "        \n",
    "        count += 1\n",
    "        \n",
    "    dframe.index = ['Average Return', 'Average Risk']\n",
    "    name_columns(dframe)   # gives each column the appropriate name (Cluster 1, Cluster 2,...)\n",
    "        \n",
    "    return dframe\n",
    "        \n",
    "        \n",
    "        \n",
    "def risk_analysis(evaluted_cluster_dframe):\n",
    "    \"\"\" input: table of clusters\n",
    "        output: plot to asses risk / return of clusters\n",
    "        note: gets a little crowded with more than 5 clusters\n",
    "    \"\"\"\n",
    "\n",
    "    area = np.pi * 3\n",
    "    \n",
    "    plt.figure(figsize = (8,6))\n",
    "    plt.scatter(evaluted_cluster_dframe.loc['Average Return'], evaluted_cluster_dframe.loc['Average Risk'], s = area)\n",
    "    plt.xlabel('Expected return')\n",
    "    plt.ylabel('Risk')\n",
    "    \n",
    "    for label,x,y in zip(evaluted_cluster_dframe.columns, evaluted_cluster_dframe.loc['Average Return'], evaluted_cluster_dframe.loc['Average Risk']):\n",
    "        plt.annotate(\n",
    "        label,\n",
    "        xy = (x,y), xytext = (50, 50),\n",
    "        textcoords = 'offset points', ha = 'right', va = 'bottom',\n",
    "        arrowprops = dict(arrowstyle = '-', connectionstyle = 'arc3, rad=0.5'))\n",
    "        \n",
    "    "
   ]
  },
  {
   "cell_type": "code",
   "execution_count": 5,
   "metadata": {
    "collapsed": false
   },
   "outputs": [
    {
     "name": "stdout",
     "output_type": "stream",
     "text": [
      "/Users/Steven/Google Drive/Imperial College London/Term 1/Data Structures and Algorithms/Final project/StockClustering_Project\r\n"
     ]
    }
   ],
   "source": [
    "!pwd"
   ]
  },
  {
   "cell_type": "code",
   "execution_count": 6,
   "metadata": {
    "collapsed": true
   },
   "outputs": [],
   "source": [
    "priceDF = pd.read_csv('SP_500_close_2015.csv')"
   ]
  },
  {
   "cell_type": "code",
   "execution_count": 7,
   "metadata": {
    "collapsed": true
   },
   "outputs": [],
   "source": [
    "dailyReturns = stockReturns(priceDF)"
   ]
  },
  {
   "cell_type": "code",
   "execution_count": 8,
   "metadata": {
    "collapsed": true
   },
   "outputs": [],
   "source": [
    "corrs = correlations(dailyReturns)"
   ]
  },
  {
   "cell_type": "code",
   "execution_count": 9,
   "metadata": {
    "collapsed": true
   },
   "outputs": [],
   "source": [
    "corrs = sortCorrs(corrs)"
   ]
  },
  {
   "cell_type": "code",
   "execution_count": 18,
   "metadata": {
    "collapsed": false
   },
   "outputs": [
    {
     "name": "stdout",
     "output_type": "stream",
     "text": [
      "495\n",
      "494\n",
      "493\n",
      "492\n",
      "491\n",
      "490\n",
      "489\n",
      "488\n",
      "487\n",
      "486\n"
     ]
    }
   ],
   "source": [
    "clust = clusteringAlg(corrs, 10)"
   ]
  },
  {
   "cell_type": "code",
   "execution_count": null,
   "metadata": {
    "collapsed": true
   },
   "outputs": [],
   "source": []
  },
  {
   "cell_type": "code",
   "execution_count": 19,
   "metadata": {
    "collapsed": true
   },
   "outputs": [],
   "source": [
    "# extract all the relevent clusters\n",
    "clust = extract_clusters(clust)"
   ]
  },
  {
   "cell_type": "code",
   "execution_count": null,
   "metadata": {
    "collapsed": true
   },
   "outputs": [],
   "source": []
  },
  {
   "cell_type": "code",
   "execution_count": 20,
   "metadata": {
    "collapsed": false
   },
   "outputs": [],
   "source": [
    "# evaluate the clusters \n",
    "dframe = evaluate_clusters(clust)"
   ]
  },
  {
   "cell_type": "code",
   "execution_count": 23,
   "metadata": {
    "collapsed": false
   },
   "outputs": [
    {
     "data": {
      "image/png": "[encoded data removed]",
      "text/plain": [
       "<matplotlib.figure.Figure at 0x11693e470>"
      ]
     },
     "metadata": {},
     "output_type": "display_data"
    }
   ],
   "source": [
    "risk_analysis(dframe)\n",
    "\n",
    "# evaluates clusters of algorithm on a risk / return basis"
   ]
  },
  {
   "cell_type": "code",
   "execution_count": null,
   "metadata": {
    "collapsed": true
   },
   "outputs": [],
   "source": []
  },
  {
   "cell_type": "code",
   "execution_count": null,
   "metadata": {
    "collapsed": true
   },
   "outputs": [],
   "source": []
  },
  {
   "cell_type": "code",
   "execution_count": null,
   "metadata": {
    "collapsed": true
   },
   "outputs": [],
   "source": []
  },
  {
   "cell_type": "code",
   "execution_count": null,
   "metadata": {
    "collapsed": true
   },
   "outputs": [],
   "source": []
  },
  {
   "cell_type": "code",
   "execution_count": null,
   "metadata": {
    "collapsed": true
   },
   "outputs": [],
   "source": []
  }
 ],
 "metadata": {
  "anaconda-cloud": {},
  "kernelspec": {
   "display_name": "Python [Root]",
   "language": "python",
   "name": "Python [Root]"
  },
  "language_info": {
   "codemirror_mode": {
    "name": "ipython",
    "version": 3
   },
   "file_extension": ".py",
   "mimetype": "text/x-python",
   "name": "python",
   "nbconvert_exporter": "python",
   "pygments_lexer": "ipython3",
   "version": "3.5.2"
  }
 },
 "nbformat": 4,
 "nbformat_minor": 0
}
