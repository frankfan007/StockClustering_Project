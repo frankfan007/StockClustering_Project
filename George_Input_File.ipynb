{
 "cells": [
  {
   "cell_type": "code",
   "execution_count": 2,
   "metadata": {
    "collapsed": false
   },
   "outputs": [
    {
     "name": "stdout",
     "output_type": "stream",
     "text": [
      "  Symbol                 Name                  Sector\n",
      "0    MMM           3M Company             Industrials\n",
      "1    ABT  Abbott Laboratories             Health Care\n",
      "2   ABBV               AbbVie             Health Care\n",
      "3    ACN        Accenture plc  Information Technology\n",
      "4   ATVI  Activision Blizzard  Information Technology\n",
      "         Date         MMM        ABT       ABBV        ACN       ATVI  \\\n",
      "0  2015-01-02  156.678596  43.160459  61.986410  86.129228  19.765196   \n",
      "1  2015-01-05  153.145069  43.170070  60.819874  84.674997  19.490271   \n",
      "2  2015-01-06  151.511999  42.679830  60.518833  84.064223  19.126976   \n",
      "3  2015-01-07  152.610267  43.025880  62.964797  85.828689  18.714587   \n",
      "4  2015-01-08  156.267949  43.910238  63.623323  87.137495  18.901144   \n",
      "\n",
      "          AYI       ADBE         AAP        AES        AET  \n",
      "0  139.234407  72.339996  158.132353  12.860543  87.354435  \n",
      "1  135.889914  71.980003  156.047994  12.494440  86.173965  \n",
      "2  134.187800  70.529999  155.938290  12.212822  86.301853  \n",
      "3  136.566769  71.110001  159.289228  12.231597  88.033197  \n",
      "4  141.344618  72.919998  160.685446  12.419342  90.885990  \n"
     ]
    }
   ],
   "source": [
    "import pandas as pd # for dataframes manipulation\n",
    "#import matplotlib.pyplot as plt\n",
    "\n",
    "# Import the data\n",
    "firms = pd.read_csv('SP_500_firms.csv')\n",
    "close_prices = pd.read_csv('SP_500_close_2015.csv')\n",
    "\n",
    "# Create subset of the original dataset which includes\n",
    "# only 10 firms - used for test purposes\n",
    "firms_small = firms.iloc[:10, :]\n",
    "close_prices_small = close_prices.iloc[:, :11]\n",
    "\n",
    "print(firms_small[:5])\n",
    "print(close_prices_small[:5])"
   ]
  },
  {
   "cell_type": "code",
   "execution_count": 4,
   "metadata": {
    "collapsed": false
   },
   "outputs": [],
   "source": [
    "# ### 1 ###\n",
    "# Create a function that takes a dataframe with closing prices \n",
    "# and returns a dataframe with daily returns\n",
    "# Date is to define whether the dataframe has a first\n",
    "def StockReturns(cl_p, Date = True):\n",
    "    \"\"\"\n",
    "    Input:  The dataframe with the prices of the stocks\n",
    "            A logical argument that equals True if the first column\n",
    "            in the dataframe represents dates, False otherwise\n",
    "    Output: A dataframe with the daily returns of the stocks - same \n",
    "            number of columns as the input vector and one row less \n",
    "            than the input vector\n",
    "    \"\"\"    \n",
    "    if Date:\n",
    "        d_ret = pd.DataFrame(cl_p.iloc[1:, 0], columns=['Date'])\n",
    "        j = 1\n",
    "    else:\n",
    "        d_ret = pd.DataFrame()\n",
    "        j = 0\n",
    "    for i in range(j, cl_p.shape[1]):\n",
    "        d_ret[cl_p.columns[i]] = (cl_p.iloc[1:,i].values - cl_p.iloc[:-1,i].values) / cl_p.iloc[:-1,i].values\n",
    "    return d_ret"
   ]
  },
  {
   "cell_type": "code",
   "execution_count": 5,
   "metadata": {
    "collapsed": false
   },
   "outputs": [
    {
     "name": "stdout",
     "output_type": "stream",
     "text": [
      "         Date       MMM       ABT      ABBV       ACN\n",
      "1  2015-01-05 -0.022553  0.000223 -0.018819 -0.016884\n",
      "2  2015-01-06 -0.010664 -0.011356 -0.004950 -0.007213\n",
      "3  2015-01-07  0.007249  0.008108  0.040417  0.020989\n",
      "4  2015-01-08  0.023967  0.020554  0.010459  0.015249\n",
      "5  2015-01-09 -0.012284 -0.010508 -0.027355 -0.001113\n",
      "        MMM       ABT      ABBV       ACN      ATVI\n",
      "0 -0.022553  0.000223 -0.018819 -0.016884 -0.013910\n",
      "1 -0.010664 -0.011356 -0.004950 -0.007213 -0.018640\n",
      "2  0.007249  0.008108  0.040417  0.020989 -0.021561\n",
      "3  0.023967  0.020554  0.010459  0.015249  0.009969\n",
      "4 -0.012284 -0.010508 -0.027355 -0.001113 -0.018182\n"
     ]
    }
   ],
   "source": [
    "# Test the previous function on the small dataset\n",
    "\n",
    "# Daily returns including the Date column    \n",
    "daily_returns = StockReturns(close_prices_small) \n",
    "print(daily_returns.iloc[:5, :5])\n",
    "\n",
    "# Daily returns excluding the Date column\n",
    "daily_returns_2 = StockReturns(close_prices_small.iloc[:, 1:], Date = False)\n",
    "print(daily_returns_2.iloc[:5, :5])   "
   ]
  },
  {
   "cell_type": "code",
   "execution_count": 6,
   "metadata": {
    "collapsed": true
   },
   "outputs": [],
   "source": [
    "# ### 2 ###\n",
    "# Create a function that returns a list of correlations between all the\n",
    "# firms\n",
    "def Correlations(d_ret):\n",
    "    \"\"\"\n",
    "    Input:  A dataframe with the daily returns of the stocks - The \n",
    "            first column can either indicate dates or not\n",
    "    Output: A list of tuples. Each tuple in the list have 3 elements:\n",
    "            1. The correlation between two firms\n",
    "            2 and 3. The firms for which we compute the correlation\n",
    "    \"\"\"\n",
    "    cor = d_ret.corr()\n",
    "    n = int(cor.shape[0])\n",
    "    cor_list = []\n",
    "    for i in range(1, n):\n",
    "        for j in range(0, i):\n",
    "            cor_list.append((cor.iloc[i, j], cor.columns.values[i], cor.columns.values[j]))\n",
    "    return cor_list"
   ]
  },
  {
   "cell_type": "code",
   "execution_count": 9,
   "metadata": {
    "collapsed": false
   },
   "outputs": [
    {
     "name": "stdout",
     "output_type": "stream",
     "text": [
      "[(0.59866616402973749, 'ABT', 'MMM'), (0.32263699601940204, 'ABBV', 'MMM'), (0.48366885347180477, 'ABBV', 'ABT'), (0.63205934885601844, 'ACN', 'MMM'), (0.64408052989752662, 'ACN', 'ABT')]\n"
     ]
    }
   ],
   "source": [
    "# Test the previous function on the small dataset\n",
    "\n",
    "# Correlation list\n",
    "correlation_list = Correlations(daily_returns)\n",
    "print(correlation_list[:5])"
   ]
  },
  {
   "cell_type": "code",
   "execution_count": 11,
   "metadata": {
    "collapsed": true
   },
   "outputs": [],
   "source": [
    "# Create a function that sorts the list based on the correlation in \n",
    "# decreasing order\n",
    "def SortCorrs(cor_list): \n",
    "    \"\"\"\n",
    "    Input:  A list of tuples. Each tuple in the list have 3 elements:\n",
    "            1. The correlation between two firms\n",
    "            2 and 3. The firms for which we compute the correlation\n",
    "    Output: Returns the same list of tuples ordered based on the\n",
    "            first element of the tuples, e.g. the correlation\n",
    "    \"\"\"\n",
    "    return sorted(cor_list, reverse = True)"
   ]
  },
  {
   "cell_type": "code",
   "execution_count": 12,
   "metadata": {
    "collapsed": false
   },
   "outputs": [
    {
     "name": "stdout",
     "output_type": "stream",
     "text": [
      "[(0.64408052989752662, 'ACN', 'ABT'), (0.63205934885601844, 'ACN', 'MMM'), (0.59866616402973749, 'ABT', 'MMM'), (0.58567123295127221, 'ADBE', 'ABT'), (0.56075923030727226, 'ADBE', 'ACN')]\n"
     ]
    }
   ],
   "source": [
    "# Test the previous function\n",
    "\n",
    "ordered_list = SortCorrs(correlation_list)\n",
    "print(ordered_list[:5])"
   ]
  },
  {
   "cell_type": "code",
   "execution_count": 13,
   "metadata": {
    "collapsed": true
   },
   "outputs": [],
   "source": [
    "# ### 3 ###\n",
    "# Create the function that performs the clustering algorithm\n",
    "def ClusteringAlg(ord_list, k = 0):\n",
    "    \"\"\"\n",
    "    Input:  The ordered list of tuples which include the\n",
    "            correlations between firms and the firms themselves\n",
    "            The number of iterations for the clustering algorithm\n",
    "    Output: A list of lists which represent the individual sets \n",
    "            or clusters\n",
    "    \"\"\"\n",
    "    # Initialize the list of the sets. Each sets is represented by a\n",
    "    # list which includes only one argument, e.g. each firm is \n",
    "    # represented as a cluster by itself\n",
    "    sets = []\n",
    "    for i in range(len(ordered_list)):\n",
    "        if not([ord_list[i][1]] in sets):\n",
    "            sets.append([ord_list[i][1]])\n",
    "        if not([ord_list[i][2]] in sets):\n",
    "            sets.append([ord_list[i][2]]) \n",
    "    \n",
    "    # Repeat the algorithm k times:\n",
    "    # Finds in which sets are the firms with the current highest\n",
    "    # correlation and merges those two lists into one, which insludes\n",
    "    # both the firms\n",
    "    for j in range(k):\n",
    "        nd1 = ord_list[j][1]\n",
    "        nd2 = ord_list[j][2]\n",
    "        fl1, fl2 = False, False    \n",
    "        for i in range(len(sets)):\n",
    "            if (nd1 in sets[i]):\n",
    "                idx1 = i\n",
    "                fl1 = True\n",
    "            elif (nd2 in sets[i]):\n",
    "                idx2 = i\n",
    "                fl2 = True\n",
    "        if (fl1 and fl2):\n",
    "            sets[idx1] = sets[idx1] + sets[idx2]\n",
    "            sets.remove(sets[idx2])\n",
    "    return sets"
   ]
  },
  {
   "cell_type": "code",
   "execution_count": 14,
   "metadata": {
    "collapsed": false
   },
   "outputs": [
    {
     "name": "stdout",
     "output_type": "stream",
     "text": [
      "[['ADBE', 'ACN', 'ABT', 'MMM'], ['AYI'], ['ABBV'], ['ATVI'], ['AET'], ['AES'], ['AAP']]\n"
     ]
    }
   ],
   "source": [
    "# Test the previous function in the small dataset\n",
    "\n",
    "clusters = ClusteringAlg(ordered_list, 5)\n",
    "print(clusters)"
   ]
  }
 ],
 "metadata": {
  "kernelspec": {
   "display_name": "Python [Root]",
   "language": "python",
   "name": "Python [Root]"
  },
  "language_info": {
   "codemirror_mode": {
    "name": "ipython",
    "version": 3
   },
   "file_extension": ".py",
   "mimetype": "text/x-python",
   "name": "python",
   "nbconvert_exporter": "python",
   "pygments_lexer": "ipython3",
   "version": "3.5.2"
  }
 },
 "nbformat": 4,
 "nbformat_minor": 0
}
