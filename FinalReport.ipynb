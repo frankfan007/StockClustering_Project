{
 "cells": [
  {
   "cell_type": "code",
   "execution_count": 1,
   "metadata": {
    "collapsed": false
   },
   "outputs": [],
   "source": [
    "import pandas as pd\n",
    "from pandas import DataFrame\n",
    "import numpy as np\n",
    "import networkx as nx\n",
    "import csv\n",
    "import matplotlib.pyplot as plt\n",
    "import pylab\n",
    "%matplotlib inline\n",
    "from IPython.display import display, HTML\n",
    "pylab.rcParams['figure.figsize'] = (10, 6)"
   ]
  },
  {
   "cell_type": "code",
   "execution_count": 3,
   "metadata": {
    "collapsed": false
   },
   "outputs": [
    {
     "data": {
      "text/html": [
       "<script>\n",
       "code_show=true; \n",
       "function code_toggle() {\n",
       " if (code_show){\n",
       " $('div.input').hide();\n",
       " } else {\n",
       " $('div.input').show();\n",
       " }\n",
       " code_show = !code_show\n",
       "} \n",
       "$( document ).ready(code_toggle);\n",
       "</script>\n",
       "The raw code for this IPython notebook is by default hidden for easier reading.\n",
       "To toggle on/off the raw code, click <a href=\"javascript:code_toggle()\">here</a>."
      ],
      "text/plain": [
       "<IPython.core.display.HTML object>"
      ]
     },
     "execution_count": 3,
     "metadata": {},
     "output_type": "execute_result"
    }
   ],
   "source": [
    "HTML('''<script>\n",
    "code_show=true; \n",
    "function code_toggle() {\n",
    " if (code_show){\n",
    " $('div.input').hide();\n",
    " } else {\n",
    " $('div.input').show();\n",
    " }\n",
    " code_show = !code_show\n",
    "} \n",
    "$( document ).ready(code_toggle);\n",
    "</script>\n",
    "The raw code for this IPython notebook is by default hidden for easier reading.\n",
    "To toggle on/off the raw code, click <a href=\"javascript:code_toggle()\">here</a>.''')"
   ]
  },
  {
   "cell_type": "markdown",
   "metadata": {},
   "source": [
    "# Stock Market Clustering"
   ]
  },
  {
   "cell_type": "markdown",
   "metadata": {},
   "source": [
    "Firstly, we will import our data, which consists of the following two *.csv* files:\n",
    "\n",
    "* **SP_500_firms.csv:** This fi\u001c",
    "le contains all \u001c",
    "firms currently included in the S&P 500 index.\n",
    "* **SP_500_close_2015.csv:** This fi\u001c",
    "le contains daily stock price data of the fi\u001c",
    "rms listed in the previous fi\u001c",
    "le for 2015 (without some \u001c",
    "firms for which data was not available for the entire year)."
   ]
  },
  {
   "cell_type": "markdown",
   "metadata": {},
   "source": [
    "After importing the data, we inspect the first observations for each dataframe."
   ]
  },
  {
   "cell_type": "code",
   "execution_count": 4,
   "metadata": {
    "collapsed": false
   },
   "outputs": [],
   "source": [
    "# Load companies information\n",
    "firms = pd.read_csv('SP_500_firms.csv', index_col = 0)\n",
    "# Load companies stock prices\n",
    "stockPrices = pd.read_csv('SP_500_close_2015.csv', index_col = 0)"
   ]
  },
  {
   "cell_type": "code",
   "execution_count": 5,
   "metadata": {
    "collapsed": false,
    "scrolled": false
   },
   "outputs": [
    {
     "data": {
      "text/html": [
       "<div>\n",
       "<table border=\"1\" class=\"dataframe\">\n",
       "  <thead>\n",
       "    <tr style=\"text-align: right;\">\n",
       "      <th></th>\n",
       "      <th>Name</th>\n",
       "      <th>Sector</th>\n",
       "    </tr>\n",
       "    <tr>\n",
       "      <th>Symbol</th>\n",
       "      <th></th>\n",
       "      <th></th>\n",
       "    </tr>\n",
       "  </thead>\n",
       "  <tbody>\n",
       "    <tr>\n",
       "      <th>MMM</th>\n",
       "      <td>3M Company</td>\n",
       "      <td>Industrials</td>\n",
       "    </tr>\n",
       "    <tr>\n",
       "      <th>ABT</th>\n",
       "      <td>Abbott Laboratories</td>\n",
       "      <td>Health Care</td>\n",
       "    </tr>\n",
       "    <tr>\n",
       "      <th>ABBV</th>\n",
       "      <td>AbbVie</td>\n",
       "      <td>Health Care</td>\n",
       "    </tr>\n",
       "    <tr>\n",
       "      <th>ACN</th>\n",
       "      <td>Accenture plc</td>\n",
       "      <td>Information Technology</td>\n",
       "    </tr>\n",
       "    <tr>\n",
       "      <th>ATVI</th>\n",
       "      <td>Activision Blizzard</td>\n",
       "      <td>Information Technology</td>\n",
       "    </tr>\n",
       "  </tbody>\n",
       "</table>\n",
       "</div>"
      ],
      "text/plain": [
       "                       Name                  Sector\n",
       "Symbol                                             \n",
       "MMM              3M Company             Industrials\n",
       "ABT     Abbott Laboratories             Health Care\n",
       "ABBV                 AbbVie             Health Care\n",
       "ACN           Accenture plc  Information Technology\n",
       "ATVI    Activision Blizzard  Information Technology"
      ]
     },
     "execution_count": 5,
     "metadata": {},
     "output_type": "execute_result"
    }
   ],
   "source": [
    "firms.iloc[:5, :]"
   ]
  },
  {
   "cell_type": "code",
   "execution_count": 6,
   "metadata": {
    "collapsed": false
   },
   "outputs": [
    {
     "data": {
      "text/html": [
       "<div>\n",
       "<table border=\"1\" class=\"dataframe\">\n",
       "  <thead>\n",
       "    <tr style=\"text-align: right;\">\n",
       "      <th></th>\n",
       "      <th>MMM</th>\n",
       "      <th>ABT</th>\n",
       "      <th>ABBV</th>\n",
       "      <th>ACN</th>\n",
       "      <th>ATVI</th>\n",
       "    </tr>\n",
       "    <tr>\n",
       "      <th>Date</th>\n",
       "      <th></th>\n",
       "      <th></th>\n",
       "      <th></th>\n",
       "      <th></th>\n",
       "      <th></th>\n",
       "    </tr>\n",
       "  </thead>\n",
       "  <tbody>\n",
       "    <tr>\n",
       "      <th>2015-01-02</th>\n",
       "      <td>156.678596</td>\n",
       "      <td>43.160459</td>\n",
       "      <td>61.986410</td>\n",
       "      <td>86.129228</td>\n",
       "      <td>19.765196</td>\n",
       "    </tr>\n",
       "    <tr>\n",
       "      <th>2015-01-05</th>\n",
       "      <td>153.145069</td>\n",
       "      <td>43.170070</td>\n",
       "      <td>60.819874</td>\n",
       "      <td>84.674997</td>\n",
       "      <td>19.490271</td>\n",
       "    </tr>\n",
       "    <tr>\n",
       "      <th>2015-01-06</th>\n",
       "      <td>151.511999</td>\n",
       "      <td>42.679830</td>\n",
       "      <td>60.518833</td>\n",
       "      <td>84.064223</td>\n",
       "      <td>19.126976</td>\n",
       "    </tr>\n",
       "    <tr>\n",
       "      <th>2015-01-07</th>\n",
       "      <td>152.610267</td>\n",
       "      <td>43.025880</td>\n",
       "      <td>62.964797</td>\n",
       "      <td>85.828689</td>\n",
       "      <td>18.714587</td>\n",
       "    </tr>\n",
       "    <tr>\n",
       "      <th>2015-01-08</th>\n",
       "      <td>156.267949</td>\n",
       "      <td>43.910238</td>\n",
       "      <td>63.623323</td>\n",
       "      <td>87.137495</td>\n",
       "      <td>18.901144</td>\n",
       "    </tr>\n",
       "  </tbody>\n",
       "</table>\n",
       "</div>"
      ],
      "text/plain": [
       "                   MMM        ABT       ABBV        ACN       ATVI\n",
       "Date                                                              \n",
       "2015-01-02  156.678596  43.160459  61.986410  86.129228  19.765196\n",
       "2015-01-05  153.145069  43.170070  60.819874  84.674997  19.490271\n",
       "2015-01-06  151.511999  42.679830  60.518833  84.064223  19.126976\n",
       "2015-01-07  152.610267  43.025880  62.964797  85.828689  18.714587\n",
       "2015-01-08  156.267949  43.910238  63.623323  87.137495  18.901144"
      ]
     },
     "execution_count": 6,
     "metadata": {},
     "output_type": "execute_result"
    }
   ],
   "source": [
    "stockPrices.iloc[:5, :5]"
   ]
  },
  {
   "cell_type": "markdown",
   "metadata": {},
   "source": [
    "## The main part "
   ]
  },
  {
   "cell_type": "markdown",
   "metadata": {},
   "source": [
    "### 1. Stock returns"
   ]
  },
  {
   "cell_type": "markdown",
   "metadata": {},
   "source": [
    "#### Daily returns"
   ]
  },
  {
   "cell_type": "markdown",
   "metadata": {},
   "source": [
    "In order to analyse how similar those companies perform, we will look at their daily stock price movements. We will assume that companies that have similar stock price movements from day to day, perform similarly. To calculate the daily returns for all stocks in the data we define function `stockReturns` which takes as input the dataframe of the stock prices and returns a dataframe with the daily returns of those stocks. The daily returns are calculated based on the following formula:\n",
    "\n",
    "$$x_t = \\frac{p_t - p_{t-1}}{p_{t-1}}$$"
   ]
  },
  {
   "cell_type": "code",
   "execution_count": 7,
   "metadata": {
    "collapsed": false
   },
   "outputs": [],
   "source": [
    "def stockReturns(priceDF):\n",
    "    \n",
    "    compTickers = priceDF.columns[0: ]    \n",
    "    priceMat = priceDF.loc[ : , compTickers].as_matrix()    \n",
    "    diffMat = (priceMat[1: ] - priceMat[ :-1]) / priceMat[ :-1]\n",
    "    \n",
    "    return pd.DataFrame(data = diffMat, index = priceDF.index[1: ], \\\n",
    "                        columns = compTickers)    "
   ]
  },
  {
   "cell_type": "code",
   "execution_count": 8,
   "metadata": {
    "collapsed": false,
    "scrolled": true
   },
   "outputs": [
    {
     "data": {
      "text/html": [
       "<div>\n",
       "<table border=\"1\" class=\"dataframe\">\n",
       "  <thead>\n",
       "    <tr style=\"text-align: right;\">\n",
       "      <th></th>\n",
       "      <th>MMM</th>\n",
       "      <th>ABT</th>\n",
       "      <th>ABBV</th>\n",
       "      <th>ACN</th>\n",
       "      <th>ATVI</th>\n",
       "    </tr>\n",
       "    <tr>\n",
       "      <th>Date</th>\n",
       "      <th></th>\n",
       "      <th></th>\n",
       "      <th></th>\n",
       "      <th></th>\n",
       "      <th></th>\n",
       "    </tr>\n",
       "  </thead>\n",
       "  <tbody>\n",
       "    <tr>\n",
       "      <th>2015-01-05</th>\n",
       "      <td>-0.022553</td>\n",
       "      <td>0.000223</td>\n",
       "      <td>-0.018819</td>\n",
       "      <td>-0.016884</td>\n",
       "      <td>-0.013910</td>\n",
       "    </tr>\n",
       "    <tr>\n",
       "      <th>2015-01-06</th>\n",
       "      <td>-0.010664</td>\n",
       "      <td>-0.011356</td>\n",
       "      <td>-0.004950</td>\n",
       "      <td>-0.007213</td>\n",
       "      <td>-0.018640</td>\n",
       "    </tr>\n",
       "    <tr>\n",
       "      <th>2015-01-07</th>\n",
       "      <td>0.007249</td>\n",
       "      <td>0.008108</td>\n",
       "      <td>0.040417</td>\n",
       "      <td>0.020989</td>\n",
       "      <td>-0.021561</td>\n",
       "    </tr>\n",
       "    <tr>\n",
       "      <th>2015-01-08</th>\n",
       "      <td>0.023967</td>\n",
       "      <td>0.020554</td>\n",
       "      <td>0.010459</td>\n",
       "      <td>0.015249</td>\n",
       "      <td>0.009969</td>\n",
       "    </tr>\n",
       "    <tr>\n",
       "      <th>2015-01-09</th>\n",
       "      <td>-0.012284</td>\n",
       "      <td>-0.010508</td>\n",
       "      <td>-0.027355</td>\n",
       "      <td>-0.001113</td>\n",
       "      <td>-0.018182</td>\n",
       "    </tr>\n",
       "  </tbody>\n",
       "</table>\n",
       "</div>"
      ],
      "text/plain": [
       "                 MMM       ABT      ABBV       ACN      ATVI\n",
       "Date                                                        \n",
       "2015-01-05 -0.022553  0.000223 -0.018819 -0.016884 -0.013910\n",
       "2015-01-06 -0.010664 -0.011356 -0.004950 -0.007213 -0.018640\n",
       "2015-01-07  0.007249  0.008108  0.040417  0.020989 -0.021561\n",
       "2015-01-08  0.023967  0.020554  0.010459  0.015249  0.009969\n",
       "2015-01-09 -0.012284 -0.010508 -0.027355 -0.001113 -0.018182"
      ]
     },
     "execution_count": 8,
     "metadata": {},
     "output_type": "execute_result"
    }
   ],
   "source": [
    "dailyReturns = stockReturns(stockPrices)\n",
    "dailyReturns.iloc[:5, :5]"
   ]
  },
  {
   "cell_type": "markdown",
   "metadata": {},
   "source": [
    "The daily returns of the stocks can be seen in the following figure:"
   ]
  },
  {
   "cell_type": "code",
   "execution_count": 9,
   "metadata": {
    "collapsed": false
   },
   "outputs": [
    {
     "data": {
      "image/png": "[encoded data removed]",
      "text/plain": [
       "<matplotlib.figure.Figure at 0x114e9ff98>"
      ]
     },
     "metadata": {},
     "output_type": "display_data"
    }
   ],
   "source": [
    "dailyReturns.plot(legend = False);"
   ]
  },
  {
   "cell_type": "markdown",
   "metadata": {},
   "source": [
    "Next, we will find which companies experienced the **maximum** and **minimum** daily returns,  and what potential evidence there may be for those extreme returns.\n",
    "\n",
    "To do so, we will merge the daily returns of all companies in one column and then sort this column in descending order."
   ]
  },
  {
   "cell_type": "code",
   "execution_count": 10,
   "metadata": {
    "collapsed": true
   },
   "outputs": [],
   "source": [
    "dailyReturns['Date'] = dailyReturns.index\n",
    "# Melt data frame so each row is one price change observation\n",
    "dailyReturnsMelted = pd.melt(dailyReturns, id_vars = \"Date\")\n",
    "dailyReturnsMelted = dailyReturnsMelted.rename(columns = {\n",
    "    'variable':'Symbol',\n",
    "    'value':'Price Change'\n",
    "})\n",
    "# Sort melted dataframe in descending order of price change\n",
    "dailyReturnsSorted = dailyReturnsMelted.sort_values(by = 'Price Change', \\\n",
    "                                                    ascending = False)\n",
    "# Merge on firm data with the symbol as the key\n",
    "dailyReturnsSorted = dailyReturnsSorted.merge(firms, left_on = 'Symbol', \\\n",
    "                                              right_index = True, how = 'left')"
   ]
  },
  {
   "cell_type": "markdown",
   "metadata": {},
   "source": [
    "The **maximum** daily returns for 2015 were the following:"
   ]
  },
  {
   "cell_type": "code",
   "execution_count": 11,
   "metadata": {
    "collapsed": false
   },
   "outputs": [
    {
     "data": {
      "text/html": [
       "<div>\n",
       "<table border=\"1\" class=\"dataframe\">\n",
       "  <thead>\n",
       "    <tr style=\"text-align: right;\">\n",
       "      <th></th>\n",
       "      <th>Date</th>\n",
       "      <th>Symbol</th>\n",
       "      <th>Price Change</th>\n",
       "      <th>Name</th>\n",
       "      <th>Sector</th>\n",
       "    </tr>\n",
       "  </thead>\n",
       "  <tbody>\n",
       "    <tr>\n",
       "      <th>49359</th>\n",
       "      <td>2015-08-27</td>\n",
       "      <td>FCX</td>\n",
       "      <td>0.286616</td>\n",
       "      <td>Freeport-McMoran Cp &amp; Gld</td>\n",
       "      <td>Materials</td>\n",
       "    </tr>\n",
       "    <tr>\n",
       "      <th>121098</th>\n",
       "      <td>2015-06-22</td>\n",
       "      <td>WMB</td>\n",
       "      <td>0.258999</td>\n",
       "      <td>Williams Cos.</td>\n",
       "      <td>Energy</td>\n",
       "    </tr>\n",
       "    <tr>\n",
       "      <th>110887</th>\n",
       "      <td>2015-10-14</td>\n",
       "      <td>TRIP</td>\n",
       "      <td>0.255361</td>\n",
       "      <td>TripAdvisor</td>\n",
       "      <td>Consumer Discretionary</td>\n",
       "    </tr>\n",
       "    <tr>\n",
       "      <th>53731</th>\n",
       "      <td>2015-01-29</td>\n",
       "      <td>HAR</td>\n",
       "      <td>0.237600</td>\n",
       "      <td>Harman Int'l Industries</td>\n",
       "      <td>Consumer Discretionary</td>\n",
       "    </tr>\n",
       "    <tr>\n",
       "      <th>92330</th>\n",
       "      <td>2015-11-06</td>\n",
       "      <td>QRVO</td>\n",
       "      <td>0.232254</td>\n",
       "      <td>Qorvo</td>\n",
       "      <td>Information Technology</td>\n",
       "    </tr>\n",
       "    <tr>\n",
       "      <th>121923</th>\n",
       "      <td>2015-10-02</td>\n",
       "      <td>WYNN</td>\n",
       "      <td>0.228389</td>\n",
       "      <td>Wynn Resorts Ltd</td>\n",
       "      <td>Consumer Discretionary</td>\n",
       "    </tr>\n",
       "    <tr>\n",
       "      <th>110718</th>\n",
       "      <td>2015-02-12</td>\n",
       "      <td>TRIP</td>\n",
       "      <td>0.224915</td>\n",
       "      <td>TripAdvisor</td>\n",
       "      <td>Consumer Discretionary</td>\n",
       "    </tr>\n",
       "    <tr>\n",
       "      <th>57579</th>\n",
       "      <td>2015-05-29</td>\n",
       "      <td>HUM</td>\n",
       "      <td>0.203128</td>\n",
       "      <td>Humana Inc.</td>\n",
       "      <td>Health Care</td>\n",
       "    </tr>\n",
       "    <tr>\n",
       "      <th>64457</th>\n",
       "      <td>2015-10-21</td>\n",
       "      <td>KLAC</td>\n",
       "      <td>0.187895</td>\n",
       "      <td>KLA-Tencor Corp.</td>\n",
       "      <td>Information Technology</td>\n",
       "    </tr>\n",
       "    <tr>\n",
       "      <th>86408</th>\n",
       "      <td>2015-04-08</td>\n",
       "      <td>PRGO</td>\n",
       "      <td>0.183899</td>\n",
       "      <td>Perrigo</td>\n",
       "      <td>Health Care</td>\n",
       "    </tr>\n",
       "  </tbody>\n",
       "</table>\n",
       "</div>"
      ],
      "text/plain": [
       "              Date Symbol  Price Change                       Name  \\\n",
       "49359   2015-08-27    FCX      0.286616  Freeport-McMoran Cp & Gld   \n",
       "121098  2015-06-22    WMB      0.258999              Williams Cos.   \n",
       "110887  2015-10-14   TRIP      0.255361                TripAdvisor   \n",
       "53731   2015-01-29    HAR      0.237600    Harman Int'l Industries   \n",
       "92330   2015-11-06   QRVO      0.232254                      Qorvo   \n",
       "121923  2015-10-02   WYNN      0.228389           Wynn Resorts Ltd   \n",
       "110718  2015-02-12   TRIP      0.224915                TripAdvisor   \n",
       "57579   2015-05-29    HUM      0.203128                Humana Inc.   \n",
       "64457   2015-10-21   KLAC      0.187895           KLA-Tencor Corp.   \n",
       "86408   2015-04-08   PRGO      0.183899                    Perrigo   \n",
       "\n",
       "                        Sector  \n",
       "49359                Materials  \n",
       "121098                  Energy  \n",
       "110887  Consumer Discretionary  \n",
       "53731   Consumer Discretionary  \n",
       "92330   Information Technology  \n",
       "121923  Consumer Discretionary  \n",
       "110718  Consumer Discretionary  \n",
       "57579              Health Care  \n",
       "64457   Information Technology  \n",
       "86408              Health Care  "
      ]
     },
     "execution_count": 11,
     "metadata": {},
     "output_type": "execute_result"
    }
   ],
   "source": [
    "dailyReturnsSorted.iloc[:10, :]"
   ]
  },
  {
   "cell_type": "markdown",
   "metadata": {},
   "source": [
    "Potential evidence for some of the **maximum** daily returns presented above can be found on the following links:\n",
    "\n",
    "* Trip advisor: http://fortune.com/2015/10/14/tripadvisor-stock-gain-priceline-deal/\n",
    "* Williams: http://www.forbes.com/sites/antoinegara/2015/06/22/pipeline-giant-williams-rejects-64-a-share-takeover-bid-from-energy-transfer/#318056c339f8\n",
    "* Harman: http://investor.harman.com/releasedetail.cfm?releaseid=890984 and http://investor.harman.com/releasedetail.cfm?releaseid=893546 \n",
    "* Qorvo: http://www.qorvo.com/news/2015/qorvo-announces-proposed-1-billion-senior-notes-offering and http://www.bizjournals.com/triad/news/2015/11/06/qorvo-revenue-rises-in-latest-quarter.html"
   ]
  },
  {
   "cell_type": "markdown",
   "metadata": {},
   "source": [
    "The **minimum** daily returns for 2015 were the following:"
   ]
  },
  {
   "cell_type": "code",
   "execution_count": 12,
   "metadata": {
    "collapsed": false
   },
   "outputs": [
    {
     "data": {
      "text/html": [
       "<div>\n",
       "<table border=\"1\" class=\"dataframe\">\n",
       "  <thead>\n",
       "    <tr style=\"text-align: right;\">\n",
       "      <th></th>\n",
       "      <th>Date</th>\n",
       "      <th>Symbol</th>\n",
       "      <th>Price Change</th>\n",
       "      <th>Name</th>\n",
       "      <th>Sector</th>\n",
       "    </tr>\n",
       "  </thead>\n",
       "  <tbody>\n",
       "    <tr>\n",
       "      <th>3720</th>\n",
       "      <td>2015-10-28</td>\n",
       "      <td>AKAM</td>\n",
       "      <td>-0.167306</td>\n",
       "      <td>Akamai Technologies Inc</td>\n",
       "      <td>Information Technology</td>\n",
       "    </tr>\n",
       "    <tr>\n",
       "      <th>70243</th>\n",
       "      <td>2015-11-09</td>\n",
       "      <td>MNK</td>\n",
       "      <td>-0.169981</td>\n",
       "      <td>Mallinckrodt Plc</td>\n",
       "      <td>Health Care</td>\n",
       "    </tr>\n",
       "    <tr>\n",
       "      <th>82309</th>\n",
       "      <td>2015-12-04</td>\n",
       "      <td>NRG</td>\n",
       "      <td>-0.179581</td>\n",
       "      <td>NRG Energy</td>\n",
       "      <td>Utilities</td>\n",
       "    </tr>\n",
       "    <tr>\n",
       "      <th>74667</th>\n",
       "      <td>2015-06-26</td>\n",
       "      <td>MU</td>\n",
       "      <td>-0.181515</td>\n",
       "      <td>Micron Technology</td>\n",
       "      <td>Information Technology</td>\n",
       "    </tr>\n",
       "    <tr>\n",
       "      <th>88624</th>\n",
       "      <td>2015-02-04</td>\n",
       "      <td>RL</td>\n",
       "      <td>-0.182169</td>\n",
       "      <td>Polo Ralph Lauren Corp.</td>\n",
       "      <td>Consumer Discretionary</td>\n",
       "    </tr>\n",
       "    <tr>\n",
       "      <th>123683</th>\n",
       "      <td>2015-10-07</td>\n",
       "      <td>YUM</td>\n",
       "      <td>-0.188324</td>\n",
       "      <td>Yum! Brands Inc</td>\n",
       "      <td>Consumer Discretionary</td>\n",
       "    </tr>\n",
       "    <tr>\n",
       "      <th>103364</th>\n",
       "      <td>2015-10-23</td>\n",
       "      <td>SRCL</td>\n",
       "      <td>-0.192767</td>\n",
       "      <td>Stericycle Inc</td>\n",
       "      <td>Industrials</td>\n",
       "    </tr>\n",
       "    <tr>\n",
       "      <th>17458</th>\n",
       "      <td>2015-07-24</td>\n",
       "      <td>BIIB</td>\n",
       "      <td>-0.220802</td>\n",
       "      <td>BIOGEN IDEC Inc.</td>\n",
       "      <td>Health Care</td>\n",
       "    </tr>\n",
       "    <tr>\n",
       "      <th>74143</th>\n",
       "      <td>2015-05-27</td>\n",
       "      <td>KORS</td>\n",
       "      <td>-0.241954</td>\n",
       "      <td>Michael Kors Holdings</td>\n",
       "      <td>Consumer Discretionary</td>\n",
       "    </tr>\n",
       "    <tr>\n",
       "      <th>92817</th>\n",
       "      <td>2015-10-16</td>\n",
       "      <td>PWR</td>\n",
       "      <td>-0.285006</td>\n",
       "      <td>Quanta Services Inc.</td>\n",
       "      <td>Industrials</td>\n",
       "    </tr>\n",
       "  </tbody>\n",
       "</table>\n",
       "</div>"
      ],
      "text/plain": [
       "              Date Symbol  Price Change                     Name  \\\n",
       "3720    2015-10-28   AKAM     -0.167306  Akamai Technologies Inc   \n",
       "70243   2015-11-09    MNK     -0.169981         Mallinckrodt Plc   \n",
       "82309   2015-12-04    NRG     -0.179581               NRG Energy   \n",
       "74667   2015-06-26     MU     -0.181515        Micron Technology   \n",
       "88624   2015-02-04     RL     -0.182169  Polo Ralph Lauren Corp.   \n",
       "123683  2015-10-07    YUM     -0.188324          Yum! Brands Inc   \n",
       "103364  2015-10-23   SRCL     -0.192767           Stericycle Inc   \n",
       "17458   2015-07-24   BIIB     -0.220802         BIOGEN IDEC Inc.   \n",
       "74143   2015-05-27   KORS     -0.241954    Michael Kors Holdings   \n",
       "92817   2015-10-16    PWR     -0.285006     Quanta Services Inc.   \n",
       "\n",
       "                        Sector  \n",
       "3720    Information Technology  \n",
       "70243              Health Care  \n",
       "82309                Utilities  \n",
       "74667   Information Technology  \n",
       "88624   Consumer Discretionary  \n",
       "123683  Consumer Discretionary  \n",
       "103364             Industrials  \n",
       "17458              Health Care  \n",
       "74143   Consumer Discretionary  \n",
       "92817              Industrials  "
      ]
     },
     "execution_count": 12,
     "metadata": {},
     "output_type": "execute_result"
    }
   ],
   "source": [
    "dailyReturnsSorted.iloc[-10:, :]"
   ]
  },
  {
   "cell_type": "markdown",
   "metadata": {},
   "source": [
    "Potential evidence for some of the **minimum** daily returns presented above can be found on the following links:\n",
    "\n",
    "* Akami: http://www.fool.com/investing/general/2015/10/28/why-akamai-technologies-inc-fell-hard-on-wednesday.aspx\n",
    "* Millinckrodt: http://www.bloomberg.com/news/articles/2015-11-09/mallinckrodt-slumps-on-scrutiny-from-valeant-foe-citron-research\n",
    "* NRG Energy: http://247wallst.com/infrastructure/2015/12/04/nrg-continues-to-fall-as-ceo-steps-down/\n",
    "* Micron: http://marketrealist.com/2015/06/microns-share-price-fall-19-june-26/\n",
    "* Yum: http://www.reuters.com/article/us-yum-brands-china-idUSKCN0S11SZ20151007\n",
    "* Michael Kors: http://money.cnn.com/2015/05/27/investing/michael-kors-earnings-stock-drop/"
   ]
  },
  {
   "cell_type": "markdown",
   "metadata": {},
   "source": [
    "#### Yearly returns"
   ]
  },
  {
   "cell_type": "markdown",
   "metadata": {},
   "source": [
    "Next, we will look at the overall performance of the S&P 500 companies over the whole year. Same as before, we create the function `yearlyStockReturns` which takes as input the dataframe of the stock prices and returns a dataframe with the yearly returns of those stocks."
   ]
  },
  {
   "cell_type": "code",
   "execution_count": 13,
   "metadata": {
    "collapsed": true
   },
   "outputs": [],
   "source": [
    "def yearlyStockReturns(priceDF):\n",
    "    priceMatrix = priceDF.as_matrix()\n",
    "    # Calculate the yearly returns:\n",
    "    # (final price - start price) / start price\n",
    "    TotalPriceChangeMatrix = (priceMatrix[-1: ] - priceMatrix[ :1]) \\\n",
    "                              / priceMatrix[ :1]\n",
    "    # Convert the result to a dataframe \n",
    "    # with the correct index and column names\n",
    "    TotalPriceChangeDF = pd.DataFrame(TotalPriceChangeMatrix, \\\n",
    "                                      columns = priceDF.columns)\n",
    "    # Transpose dataframe\n",
    "    TotalPriceChangeDFtransposed = TotalPriceChangeDF.transpose()\n",
    "    TotalPriceChangeDFtransposed.columns = ['Price Change']\n",
    "    \n",
    "    return TotalPriceChangeDFtransposed"
   ]
  },
  {
   "cell_type": "markdown",
   "metadata": {},
   "source": [
    "To find which companies performed overall best and worst over the year we will sort the yearly returns of all companies in descending order."
   ]
  },
  {
   "cell_type": "code",
   "execution_count": 14,
   "metadata": {
    "collapsed": false
   },
   "outputs": [],
   "source": [
    "yearlyReturns = yearlyStockReturns(stockPrices)\n",
    "\n",
    "# Sort them\n",
    "yearlyReturnsSorted = yearlyReturns.sort_values(by='Price Change', ascending=False)\n",
    "# Merge on firm data with the symbol as the key (index in both dfs)\n",
    "yearlyReturnsSorted = yearlyReturnsSorted.merge(firms, left_index=True, right_index=True, how='left')"
   ]
  },
  {
   "cell_type": "markdown",
   "metadata": {},
   "source": [
    "The companies that performed **best** over the year are the following:"
   ]
  },
  {
   "cell_type": "code",
   "execution_count": 15,
   "metadata": {
    "collapsed": false
   },
   "outputs": [
    {
     "data": {
      "text/html": [
       "<div>\n",
       "<table border=\"1\" class=\"dataframe\">\n",
       "  <thead>\n",
       "    <tr style=\"text-align: right;\">\n",
       "      <th></th>\n",
       "      <th>Price Change</th>\n",
       "      <th>Name</th>\n",
       "      <th>Sector</th>\n",
       "    </tr>\n",
       "  </thead>\n",
       "  <tbody>\n",
       "    <tr>\n",
       "      <th>NFLX</th>\n",
       "      <td>1.294549</td>\n",
       "      <td>Netflix Inc.</td>\n",
       "      <td>Information Technology</td>\n",
       "    </tr>\n",
       "    <tr>\n",
       "      <th>AMZN</th>\n",
       "      <td>1.190750</td>\n",
       "      <td>Amazon.com Inc</td>\n",
       "      <td>Consumer Discretionary</td>\n",
       "    </tr>\n",
       "    <tr>\n",
       "      <th>ATVI</th>\n",
       "      <td>0.942684</td>\n",
       "      <td>Activision Blizzard</td>\n",
       "      <td>Information Technology</td>\n",
       "    </tr>\n",
       "    <tr>\n",
       "      <th>AYI</th>\n",
       "      <td>0.676443</td>\n",
       "      <td>Acuity Brands Inc</td>\n",
       "      <td>Industrials</td>\n",
       "    </tr>\n",
       "    <tr>\n",
       "      <th>NVDA</th>\n",
       "      <td>0.664514</td>\n",
       "      <td>Nvidia Corporation</td>\n",
       "      <td>Information Technology</td>\n",
       "    </tr>\n",
       "    <tr>\n",
       "      <th>GPN</th>\n",
       "      <td>0.600933</td>\n",
       "      <td>Global Payments Inc</td>\n",
       "      <td>Information Technology</td>\n",
       "    </tr>\n",
       "    <tr>\n",
       "      <th>HRL</th>\n",
       "      <td>0.559016</td>\n",
       "      <td>Hormel Foods Corp.</td>\n",
       "      <td>Consumer Staples</td>\n",
       "    </tr>\n",
       "    <tr>\n",
       "      <th>EXR</th>\n",
       "      <td>0.544469</td>\n",
       "      <td>Extra Space Storage</td>\n",
       "      <td>Financials</td>\n",
       "    </tr>\n",
       "    <tr>\n",
       "      <th>VRSN</th>\n",
       "      <td>0.527540</td>\n",
       "      <td>Verisign Inc.</td>\n",
       "      <td>Information Technology</td>\n",
       "    </tr>\n",
       "    <tr>\n",
       "      <th>RAI</th>\n",
       "      <td>0.497837</td>\n",
       "      <td>Reynolds American Inc.</td>\n",
       "      <td>Consumer Staples</td>\n",
       "    </tr>\n",
       "  </tbody>\n",
       "</table>\n",
       "</div>"
      ],
      "text/plain": [
       "      Price Change                    Name                  Sector\n",
       "NFLX      1.294549            Netflix Inc.  Information Technology\n",
       "AMZN      1.190750          Amazon.com Inc  Consumer Discretionary\n",
       "ATVI      0.942684     Activision Blizzard  Information Technology\n",
       "AYI       0.676443       Acuity Brands Inc             Industrials\n",
       "NVDA      0.664514      Nvidia Corporation  Information Technology\n",
       "GPN       0.600933     Global Payments Inc  Information Technology\n",
       "HRL       0.559016      Hormel Foods Corp.        Consumer Staples\n",
       "EXR       0.544469     Extra Space Storage              Financials\n",
       "VRSN      0.527540           Verisign Inc.  Information Technology\n",
       "RAI       0.497837  Reynolds American Inc.        Consumer Staples"
      ]
     },
     "execution_count": 15,
     "metadata": {},
     "output_type": "execute_result"
    }
   ],
   "source": [
    "yearlyReturnsSorted.head(10)"
   ]
  },
  {
   "cell_type": "code",
   "execution_count": 16,
   "metadata": {
    "collapsed": false
   },
   "outputs": [
    {
     "data": {
      "image/png": "[encoded data removed]",
      "text/plain": [
       "<matplotlib.figure.Figure at 0x118644588>"
      ]
     },
     "metadata": {},
     "output_type": "display_data"
    }
   ],
   "source": [
    "y_pos_top_10 = np.arange(len(yearlyReturnsSorted['Name'][:10])-1,-1,-1)\n",
    "plt.barh(y_pos_top_10, yearlyReturnsSorted['Price Change'][:10]*100,\n",
    "         align='center', color='darkgreen')\n",
    "plt.yticks(y_pos_top_10, yearlyReturnsSorted['Name'][:10])\n",
    "plt.xlabel(\"% change on year\")\n",
    "plt.title(\"Top 10 performing stocks in 2015\");"
   ]
  },
  {
   "cell_type": "markdown",
   "metadata": {},
   "source": [
    "The companies that performed **worst** over the year are the following:"
   ]
  },
  {
   "cell_type": "code",
   "execution_count": null,
   "metadata": {
    "collapsed": false
   },
   "outputs": [],
   "source": [
    "yearlyReturnsSorted.tail(10)"
   ]
  },
  {
   "cell_type": "code",
   "execution_count": null,
   "metadata": {
    "collapsed": false
   },
   "outputs": [],
   "source": [
    "y_pos_top_10 = np.arange(len(yearlyReturnsSorted['Name'][-10:]))\n",
    "plt.barh(y_pos_top_10, yearlyReturnsSorted['Price Change'][-10:]*100,\n",
    "         align='center', color='darkred')\n",
    "plt.yticks(y_pos_top_10, yearlyReturnsSorted['Name'][-10:])\n",
    "plt.xlabel(\"% change on year\")\n",
    "plt.title(\"Bottom 10 performing stocks in 2015\");"
   ]
  },
  {
   "cell_type": "markdown",
   "metadata": {},
   "source": [
    "#### Volatility"
   ]
  },
  {
   "cell_type": "markdown",
   "metadata": {},
   "source": [
    "Finally, we will try to figure out which companies exhibited **most** and **least** volatility. The volatility of the companies is measured based on the standard deviation of their daily returns over the year. We create the function `volatility` which takes as input a dataframe with the daily returns of the companies and returns a dataframe with the volatility measure of those companies, as defined above."
   ]
  },
  {
   "cell_type": "code",
   "execution_count": null,
   "metadata": {
    "collapsed": false
   },
   "outputs": [],
   "source": [
    "def volatility(dailyReturns):\n",
    "    ##calculate sds and change into panda dataframe\n",
    "    sdPriceChangeDF = pd.DataFrame(np.std(dailyReturns, axis = 0), \\\n",
    "                                   columns = ['Standard Deviation'])\n",
    "    \n",
    "    return sdPriceChangeDF"
   ]
  },
  {
   "cell_type": "markdown",
   "metadata": {},
   "source": [
    "Next we sort the dataframe of the volatilities in order to find the most and least volatile companies for 2015."
   ]
  },
  {
   "cell_type": "code",
   "execution_count": null,
   "metadata": {
    "collapsed": false
   },
   "outputs": [],
   "source": [
    "sdPriceChangeDF = volatility(dailyReturns)\n",
    "\n",
    "# Sort on standard deviation\n",
    "sdPriceChangeDFsorted = sdPriceChangeDF.sort_values(by = 'Standard Deviation', \\\n",
    "                                                    ascending = False)\n",
    "# Merge on firm data with the symbol as the key (index in both dfs)\n",
    "sdPriceChangeDFsortedfull = sdPriceChangeDFsorted.merge(firms, \\\n",
    "                                                        left_index = True, \\\n",
    "                                                        right_index = True, \\\n",
    "                                                        how = 'left')"
   ]
  },
  {
   "cell_type": "markdown",
   "metadata": {},
   "source": [
    "The **most volatile** companies for 2015 were the following:"
   ]
  },
  {
   "cell_type": "code",
   "execution_count": null,
   "metadata": {
    "collapsed": false,
    "scrolled": true
   },
   "outputs": [],
   "source": [
    "sdPriceChangeDFsortedfull.head(10)"
   ]
  },
  {
   "cell_type": "code",
   "execution_count": null,
   "metadata": {
    "collapsed": false
   },
   "outputs": [],
   "source": [
    "## create list of company ticker names that are in the top 10 most variable\n",
    "columnlist = sdPriceChangeDFsortedfull[0:10].index.values.tolist()\n",
    "##create data frame of price data for just the top 10 most variable companies\n",
    "variablePriceData = stockPrices[columnlist]\n",
    "##scale based on first price\n",
    "variablePricesScaled = variablePriceData.divide(stockPrices[columnlist].ix[0])\n",
    "y_pos_dates = np.arange(len(variablePricesScaled.index))\n",
    "##Set colour scheme\n",
    "colors = ['#9970ab','#5aae61','#4393c3','#de77ae','#35978f','#f768a1','#fec44f','#d0d1e6','#08306b','#a50f15']\n",
    "\n",
    "for i in range(0,len(columnlist)):\n",
    "    plt.plot(y_pos_dates,variablePricesScaled[columnlist[i]], c=colors[i], label=columnlist[i].format(i=i))\n",
    "plt.legend(loc='best')\n",
    "plt.xticks([len(variablePricesScaled.index)/4,\n",
    "            len(variablePricesScaled.index)*2/4,\n",
    "            len(variablePricesScaled.index)*3/4,\n",
    "            len(variablePricesScaled.index)],\n",
    "           [\"Mar-2015\",\"Jun-2015\",\"Sep-2015\",\"Dec-2015\"])\n",
    "plt.legend(loc=5,prop={'size':10})\n",
    "plt.show();"
   ]
  },
  {
   "cell_type": "markdown",
   "metadata": {},
   "source": [
    "The **least volatile** companies for 2015 were the following:"
   ]
  },
  {
   "cell_type": "code",
   "execution_count": null,
   "metadata": {
    "collapsed": false
   },
   "outputs": [],
   "source": [
    "sdPriceChangeDFsortedfull.tail(10)"
   ]
  },
  {
   "cell_type": "code",
   "execution_count": null,
   "metadata": {
    "collapsed": false
   },
   "outputs": [],
   "source": [
    "## create list of company ticker names that are in the top 10 most variable\n",
    "columnlist = sdPriceChangeDFsortedfull[-10:].index.values.tolist()\n",
    "##create data frame of price data for just the top 10 most variable companies\n",
    "variablePriceData = stockPrices[columnlist]\n",
    "##scale based on first price\n",
    "variablePricesScaled = variablePriceData.divide(stockPrices[columnlist].ix[0])\n",
    "y_pos_dates = np.arange(len(variablePricesScaled.index))\n",
    "##Set colour scheme\n",
    "colors = ['#9970ab','#5aae61','#4393c3','#de77ae','#35978f','#f768a1','#fec44f','#d0d1e6','#08306b','#a50f15']\n",
    "\n",
    "for i in range(0,len(columnlist)):\n",
    "    plt.plot(y_pos_dates,variablePricesScaled[columnlist[i]], c=colors[i], label=columnlist[i].format(i=i))\n",
    "plt.legend(loc='best')\n",
    "plt.xticks([len(variablePricesScaled.index)/4,\n",
    "            len(variablePricesScaled.index)*2/4,\n",
    "            len(variablePricesScaled.index)*3/4,\n",
    "            len(variablePricesScaled.index)],\n",
    "           [\"Mar-2015\",\"Jun-2015\",\"Sep-2015\",\"Dec-2015\"])\n",
    "plt.legend(loc=5,prop={'size':10})\n",
    "axes = plt.gca()\n",
    "axes.set_ylim([0,3])\n",
    "plt.show();"
   ]
  },
  {
   "cell_type": "markdown",
   "metadata": {},
   "source": [
    "### 2. Correlations"
   ]
  },
  {
   "cell_type": "markdown",
   "metadata": {},
   "source": [
    "To find the similarities between stock price movements for different companies, we will calculate the correlation between the returns of different stock prices. For two companies with stock price returns $x, y$ and observations for $n$ days, their correlation is given by the following formula:\n",
    "\n",
    "$$r_{xy} = \\frac{n\\sum x_i y_i - \\sum x_i \\sum y_i}{\\sqrt{n\\sum x_i^2 - (\\sum x_i)^2} \\sqrt{n\\sum y_i^2 - (\\sum y_i)^2}}$$"
   ]
  },
  {
   "cell_type": "markdown",
   "metadata": {},
   "source": [
    "In order to compute the correlation of the companies, we define function `calCorrelations`, which takes as input a dataframe with the daily returns of the S&P 500 companies and returns their correlations in two different formats:\n",
    "\n",
    "1. A **correlations matrix**, where each element represents the correlation between the two companies indicated by the specific row and column. \n",
    "2. A **graph** where each node represents a company and each edge between two nodes represent the correlation between those two companies."
   ]
  },
  {
   "cell_type": "code",
   "execution_count": 17,
   "metadata": {
    "collapsed": false
   },
   "outputs": [],
   "source": [
    "def calCorrelations(dailyReturn):\n",
    "    col = dailyReturn.columns\n",
    "    ncol = len(col)\n",
    "    corrMat = np.identity(ncol)\n",
    "    \n",
    "    G = nx.Graph()\n",
    "    G.add_nodes_from(col.values)\n",
    "        \n",
    "    n = len(dailyReturn)\n",
    "    for i in range(0, ncol):\n",
    "        for j in range(i + 1, ncol):\n",
    "            x = dailyReturn[col[i]]\n",
    "            y = dailyReturn[col[j]]\n",
    "            xsum = sum(x)\n",
    "            ysum = sum(y)\n",
    "            corrMat[i][j] = (n * sum(x * y) - xsum * ysum) / (np.sqrt(n * sum(x**2) - xsum**2) * np.sqrt(n * sum(y**2) - ysum**2))\n",
    "            corrMat[j][i] = corrMat[i][j]\n",
    "            G.add_edge(col[i], col[j], weight = corrMat[i][j])\n",
    "        \n",
    "    return pd.DataFrame(data = corrMat, index = col, columns = col), G"
   ]
  },
  {
   "cell_type": "code",
   "execution_count": 18,
   "metadata": {
    "collapsed": false,
    "scrolled": true
   },
   "outputs": [
    {
     "data": {
      "text/html": [
       "<div>\n",
       "<table border=\"1\" class=\"dataframe\">\n",
       "  <thead>\n",
       "    <tr style=\"text-align: right;\">\n",
       "      <th></th>\n",
       "      <th>MMM</th>\n",
       "      <th>ABT</th>\n",
       "      <th>ABBV</th>\n",
       "      <th>ACN</th>\n",
       "      <th>ATVI</th>\n",
       "    </tr>\n",
       "  </thead>\n",
       "  <tbody>\n",
       "    <tr>\n",
       "      <th>MMM</th>\n",
       "      <td>1.000000</td>\n",
       "      <td>0.598666</td>\n",
       "      <td>0.322637</td>\n",
       "      <td>0.632059</td>\n",
       "      <td>0.418550</td>\n",
       "    </tr>\n",
       "    <tr>\n",
       "      <th>ABT</th>\n",
       "      <td>0.598666</td>\n",
       "      <td>1.000000</td>\n",
       "      <td>0.483669</td>\n",
       "      <td>0.644081</td>\n",
       "      <td>0.434370</td>\n",
       "    </tr>\n",
       "    <tr>\n",
       "      <th>ABBV</th>\n",
       "      <td>0.322637</td>\n",
       "      <td>0.483669</td>\n",
       "      <td>1.000000</td>\n",
       "      <td>0.318051</td>\n",
       "      <td>0.226868</td>\n",
       "    </tr>\n",
       "    <tr>\n",
       "      <th>ACN</th>\n",
       "      <td>0.632059</td>\n",
       "      <td>0.644081</td>\n",
       "      <td>0.318051</td>\n",
       "      <td>1.000000</td>\n",
       "      <td>0.462545</td>\n",
       "    </tr>\n",
       "    <tr>\n",
       "      <th>ATVI</th>\n",
       "      <td>0.418550</td>\n",
       "      <td>0.434370</td>\n",
       "      <td>0.226868</td>\n",
       "      <td>0.462545</td>\n",
       "      <td>1.000000</td>\n",
       "    </tr>\n",
       "  </tbody>\n",
       "</table>\n",
       "</div>"
      ],
      "text/plain": [
       "           MMM       ABT      ABBV       ACN      ATVI\n",
       "MMM   1.000000  0.598666  0.322637  0.632059  0.418550\n",
       "ABT   0.598666  1.000000  0.483669  0.644081  0.434370\n",
       "ABBV  0.322637  0.483669  1.000000  0.318051  0.226868\n",
       "ACN   0.632059  0.644081  0.318051  1.000000  0.462545\n",
       "ATVI  0.418550  0.434370  0.226868  0.462545  1.000000"
      ]
     },
     "execution_count": 18,
     "metadata": {},
     "output_type": "execute_result"
    }
   ],
   "source": [
    "corMatrix = calCorrelations(stockReturns(stockPrices))[0]\n",
    "corMatrix.iloc[:5, :5]"
   ]
  },
  {
   "cell_type": "markdown",
   "metadata": {},
   "source": [
    "In addition, in order to be able to find and print correlations easily between companies, we provide the following helper functions:\n",
    "\n",
    "1. `cal2CompCor`: It takes as inputs the correlation matrix of the companies, the dataframe with the companies information and the symbols of two companies. It returns their full names and correlation.\n",
    "2. `calTopLow5`: It takes as inputs the correlation matrix of the companies and the symbol of a company. It returns the symbols and correlations of the five highest and lowest correlated companies."
   ]
  },
  {
   "cell_type": "code",
   "execution_count": 19,
   "metadata": {
    "collapsed": true
   },
   "outputs": [],
   "source": [
    "def cal2CompCor(correlationmatrix, firms, company1, company2):\n",
    "    print(\"The correlation between \" + firms.loc[company1, 'Name'] + \\\n",
    "          \" and \" + firms.loc[company2, 'Name'] + \" is \" + \\\n",
    "          str(correlationmatrix.loc[company1, company2]) + \".\")"
   ]
  },
  {
   "cell_type": "code",
   "execution_count": 20,
   "metadata": {
    "collapsed": true
   },
   "outputs": [],
   "source": [
    "def highLowCorrelation(correlationmatrix, company):\n",
    "    namesDict = dict()\n",
    "    input_file = csv.DictReader(open('SP_500_firms.csv'))\n",
    "    for row in input_file:\n",
    "        #print(row)\n",
    "        namesDict[row['Symbol']] = [row['Name'],row['Sector']]\n",
    "    \n",
    "    i = correlationmatrix.columns.get_loc(company)  \n",
    "    j = correlationmatrix.ix[ : , i]\n",
    "    high = j.nlargest(6)\n",
    "    highindex = high.index\n",
    "    listofhighcomp = []    \n",
    "    for k in highindex:\n",
    "        listofhighcomp.append(namesDict[k])\n",
    "    low = j.nsmallest(5)\n",
    "    lowindex = low.index\n",
    "    listoflowcomp = []    \n",
    "    for k in lowindex:\n",
    "        listoflowcomp.append(namesDict[k])\n",
    "       \n",
    "    dflistofhighcomp = DataFrame(listofhighcomp)\n",
    "    dfhighindex = DataFrame(highindex)\n",
    "    dflistofhighcomp = dflistofhighcomp.merge(dfhighindex,right_index=True, left_index=True, how = 'left')\n",
    "    dfhigh = DataFrame(high)\n",
    "    table2 = dfhigh.merge(dflistofhighcomp, left_index = True, right_on='0_y', how = 'left')    \n",
    "    table2.index = table2['0_y'].as_matrix()\n",
    "    del table2['0_y']\n",
    "    table2 = table2.rename(columns={company: 'Correlation', '0_x': 'Name of Company', 1: 'Industry'})\n",
    "\n",
    "    dflistoflowcomp = DataFrame(listoflowcomp)\n",
    "    dflowindex = DataFrame(lowindex)\n",
    "    dflistoflowcomp = dflistoflowcomp.merge(dflowindex,right_index=True, left_index=True, how = 'left')\n",
    "    dflow = DataFrame(low)\n",
    "    table = dflow.merge(dflistoflowcomp, left_index = True, right_on='0_y', how = 'left')\n",
    "    table.index = table['0_y'].as_matrix()\n",
    "    del table['0_y']\n",
    "    table = table.rename(columns={company: 'Correlation', '0_x': 'Name of Company', 1: 'Industry'})\n",
    "\n",
    "    return(table2[1:], table)"
   ]
  },
  {
   "cell_type": "markdown",
   "metadata": {
    "collapsed": true
   },
   "source": [
    "We will use the functions defined above to explore some of the companies in the tech sector, like *Amazon*, *Microsoft*, *Facebook*, *Apple*, and *Google*. All stocks are affected by macroeconomic environments and thus are correlated with each other, either positively or negatively. There are various factors which determine how correlated two stocks are. \n",
    "\n",
    "Usually, stock prices of two companies from the same industry would move in tandem with each other as the market conditions would affect them both in the same way. However, there could also be cases when the market conditions have different effects on companies in the same industry."
   ]
  },
  {
   "cell_type": "code",
   "execution_count": 21,
   "metadata": {
    "collapsed": false
   },
   "outputs": [
    {
     "data": {
      "text/html": [
       "<div>\n",
       "<table border=\"1\" class=\"dataframe\">\n",
       "  <thead>\n",
       "    <tr style=\"text-align: right;\">\n",
       "      <th></th>\n",
       "      <th>Correlation</th>\n",
       "      <th>Name of Company</th>\n",
       "      <th>Industry</th>\n",
       "    </tr>\n",
       "  </thead>\n",
       "  <tbody>\n",
       "    <tr>\n",
       "      <th>GOOGL</th>\n",
       "      <td>0.585553</td>\n",
       "      <td>Alphabet Inc Class A</td>\n",
       "      <td>Information Technology</td>\n",
       "    </tr>\n",
       "    <tr>\n",
       "      <th>GOOG</th>\n",
       "      <td>0.584337</td>\n",
       "      <td>Alphabet Inc Class C</td>\n",
       "      <td>Information Technology</td>\n",
       "    </tr>\n",
       "    <tr>\n",
       "      <th>SBUX</th>\n",
       "      <td>0.571951</td>\n",
       "      <td>Starbucks Corp.</td>\n",
       "      <td>Consumer Discretionary</td>\n",
       "    </tr>\n",
       "    <tr>\n",
       "      <th>V</th>\n",
       "      <td>0.560704</td>\n",
       "      <td>Visa Inc.</td>\n",
       "      <td>Information Technology</td>\n",
       "    </tr>\n",
       "    <tr>\n",
       "      <th>MA</th>\n",
       "      <td>0.538708</td>\n",
       "      <td>Mastercard Inc.</td>\n",
       "      <td>Information Technology</td>\n",
       "    </tr>\n",
       "  </tbody>\n",
       "</table>\n",
       "</div>"
      ],
      "text/plain": [
       "       Correlation       Name of Company                Industry\n",
       "GOOGL     0.585553  Alphabet Inc Class A  Information Technology\n",
       "GOOG      0.584337  Alphabet Inc Class C  Information Technology\n",
       "SBUX      0.571951       Starbucks Corp.  Consumer Discretionary\n",
       "V         0.560704             Visa Inc.  Information Technology\n",
       "MA        0.538708       Mastercard Inc.  Information Technology"
      ]
     },
     "execution_count": 21,
     "metadata": {},
     "output_type": "execute_result"
    }
   ],
   "source": [
    "pd.DataFrame(highLowCorrelation(corMatrix, 'AMZN')[0])"
   ]
  },
  {
   "cell_type": "code",
   "execution_count": 22,
   "metadata": {
    "collapsed": false
   },
   "outputs": [
    {
     "data": {
      "text/html": [
       "<div>\n",
       "<table border=\"1\" class=\"dataframe\">\n",
       "  <thead>\n",
       "    <tr style=\"text-align: right;\">\n",
       "      <th></th>\n",
       "      <th>Correlation</th>\n",
       "      <th>Name of Company</th>\n",
       "      <th>Industry</th>\n",
       "    </tr>\n",
       "  </thead>\n",
       "  <tbody>\n",
       "    <tr>\n",
       "      <th>SRCL</th>\n",
       "      <td>0.056451</td>\n",
       "      <td>Stericycle Inc</td>\n",
       "      <td>Industrials</td>\n",
       "    </tr>\n",
       "    <tr>\n",
       "      <th>RIG</th>\n",
       "      <td>0.060162</td>\n",
       "      <td>Transocean</td>\n",
       "      <td>Energy</td>\n",
       "    </tr>\n",
       "    <tr>\n",
       "      <th>SWN</th>\n",
       "      <td>0.082376</td>\n",
       "      <td>Southwestern Energy</td>\n",
       "      <td>Energy</td>\n",
       "    </tr>\n",
       "    <tr>\n",
       "      <th>TRIP</th>\n",
       "      <td>0.087684</td>\n",
       "      <td>TripAdvisor</td>\n",
       "      <td>Consumer Discretionary</td>\n",
       "    </tr>\n",
       "    <tr>\n",
       "      <th>WFM</th>\n",
       "      <td>0.090700</td>\n",
       "      <td>Whole Foods Market</td>\n",
       "      <td>Consumer Staples</td>\n",
       "    </tr>\n",
       "  </tbody>\n",
       "</table>\n",
       "</div>"
      ],
      "text/plain": [
       "      Correlation      Name of Company                Industry\n",
       "SRCL     0.056451       Stericycle Inc             Industrials\n",
       "RIG      0.060162           Transocean                  Energy\n",
       "SWN      0.082376  Southwestern Energy                  Energy\n",
       "TRIP     0.087684          TripAdvisor  Consumer Discretionary\n",
       "WFM      0.090700   Whole Foods Market        Consumer Staples"
      ]
     },
     "execution_count": 22,
     "metadata": {},
     "output_type": "execute_result"
    }
   ],
   "source": [
    "pd.DataFrame(highLowCorrelation(corMatrix, 'AMZN')[1])"
   ]
  },
  {
   "cell_type": "markdown",
   "metadata": {},
   "source": [
    "For the top five stocks correlated with Amazon's stocks, $4$ out of the $5$ companies are IT companies and are growth stocks, which is not surprising. However, Starbucks also happens to have a relatively high correlation with Amazon's stocks though it comes from a completely different industry. "
   ]
  },
  {
   "cell_type": "code",
   "execution_count": 23,
   "metadata": {
    "collapsed": false
   },
   "outputs": [
    {
     "data": {
      "text/html": [
       "<div>\n",
       "<table border=\"1\" class=\"dataframe\">\n",
       "  <thead>\n",
       "    <tr style=\"text-align: right;\">\n",
       "      <th></th>\n",
       "      <th>Correlation</th>\n",
       "      <th>Name of Company</th>\n",
       "      <th>Industry</th>\n",
       "    </tr>\n",
       "  </thead>\n",
       "  <tbody>\n",
       "    <tr>\n",
       "      <th>MMC</th>\n",
       "      <td>0.604549</td>\n",
       "      <td>Marsh &amp; McLennan</td>\n",
       "      <td>Financials</td>\n",
       "    </tr>\n",
       "    <tr>\n",
       "      <th>PG</th>\n",
       "      <td>0.604204</td>\n",
       "      <td>Procter &amp; Gamble</td>\n",
       "      <td>Consumer Staples</td>\n",
       "    </tr>\n",
       "    <tr>\n",
       "      <th>MA</th>\n",
       "      <td>0.590886</td>\n",
       "      <td>Mastercard Inc.</td>\n",
       "      <td>Information Technology</td>\n",
       "    </tr>\n",
       "    <tr>\n",
       "      <th>ADP</th>\n",
       "      <td>0.589445</td>\n",
       "      <td>Automatic Data Processing</td>\n",
       "      <td>Information Technology</td>\n",
       "    </tr>\n",
       "    <tr>\n",
       "      <th>SBUX</th>\n",
       "      <td>0.583705</td>\n",
       "      <td>Starbucks Corp.</td>\n",
       "      <td>Consumer Discretionary</td>\n",
       "    </tr>\n",
       "  </tbody>\n",
       "</table>\n",
       "</div>"
      ],
      "text/plain": [
       "      Correlation            Name of Company                Industry\n",
       "MMC      0.604549           Marsh & McLennan              Financials\n",
       "PG       0.604204           Procter & Gamble        Consumer Staples\n",
       "MA       0.590886            Mastercard Inc.  Information Technology\n",
       "ADP      0.589445  Automatic Data Processing  Information Technology\n",
       "SBUX     0.583705            Starbucks Corp.  Consumer Discretionary"
      ]
     },
     "execution_count": 23,
     "metadata": {},
     "output_type": "execute_result"
    }
   ],
   "source": [
    "pd.DataFrame(highLowCorrelation(corMatrix, 'MSFT')[0])"
   ]
  },
  {
   "cell_type": "code",
   "execution_count": 24,
   "metadata": {
    "collapsed": false
   },
   "outputs": [
    {
     "data": {
      "text/html": [
       "<div>\n",
       "<table border=\"1\" class=\"dataframe\">\n",
       "  <thead>\n",
       "    <tr style=\"text-align: right;\">\n",
       "      <th></th>\n",
       "      <th>Correlation</th>\n",
       "      <th>Name of Company</th>\n",
       "      <th>Industry</th>\n",
       "    </tr>\n",
       "  </thead>\n",
       "  <tbody>\n",
       "    <tr>\n",
       "      <th>SRCL</th>\n",
       "      <td>0.028887</td>\n",
       "      <td>Stericycle Inc</td>\n",
       "      <td>Industrials</td>\n",
       "    </tr>\n",
       "    <tr>\n",
       "      <th>NRG</th>\n",
       "      <td>0.090761</td>\n",
       "      <td>NRG Energy</td>\n",
       "      <td>Utilities</td>\n",
       "    </tr>\n",
       "    <tr>\n",
       "      <th>RIG</th>\n",
       "      <td>0.113785</td>\n",
       "      <td>Transocean</td>\n",
       "      <td>Energy</td>\n",
       "    </tr>\n",
       "    <tr>\n",
       "      <th>SWN</th>\n",
       "      <td>0.114787</td>\n",
       "      <td>Southwestern Energy</td>\n",
       "      <td>Energy</td>\n",
       "    </tr>\n",
       "    <tr>\n",
       "      <th>URBN</th>\n",
       "      <td>0.128788</td>\n",
       "      <td>Urban Outfitters</td>\n",
       "      <td>Consumer Discretionary</td>\n",
       "    </tr>\n",
       "  </tbody>\n",
       "</table>\n",
       "</div>"
      ],
      "text/plain": [
       "      Correlation      Name of Company                Industry\n",
       "SRCL     0.028887       Stericycle Inc             Industrials\n",
       "NRG      0.090761           NRG Energy               Utilities\n",
       "RIG      0.113785           Transocean                  Energy\n",
       "SWN      0.114787  Southwestern Energy                  Energy\n",
       "URBN     0.128788     Urban Outfitters  Consumer Discretionary"
      ]
     },
     "execution_count": 24,
     "metadata": {},
     "output_type": "execute_result"
    }
   ],
   "source": [
    "pd.DataFrame(highLowCorrelation(corMatrix, 'MSFT')[1])"
   ]
  },
  {
   "cell_type": "markdown",
   "metadata": {},
   "source": [
    "For Microsoft, $2$ out of the top $5$ correlated stocks are from the same industry."
   ]
  },
  {
   "cell_type": "code",
   "execution_count": 25,
   "metadata": {
    "collapsed": false
   },
   "outputs": [
    {
     "data": {
      "text/html": [
       "<div>\n",
       "<table border=\"1\" class=\"dataframe\">\n",
       "  <thead>\n",
       "    <tr style=\"text-align: right;\">\n",
       "      <th></th>\n",
       "      <th>Correlation</th>\n",
       "      <th>Name of Company</th>\n",
       "      <th>Industry</th>\n",
       "    </tr>\n",
       "  </thead>\n",
       "  <tbody>\n",
       "    <tr>\n",
       "      <th>FISV</th>\n",
       "      <td>0.619667</td>\n",
       "      <td>Fiserv Inc</td>\n",
       "      <td>Information Technology</td>\n",
       "    </tr>\n",
       "    <tr>\n",
       "      <th>MA</th>\n",
       "      <td>0.617659</td>\n",
       "      <td>Mastercard Inc.</td>\n",
       "      <td>Information Technology</td>\n",
       "    </tr>\n",
       "    <tr>\n",
       "      <th>SBUX</th>\n",
       "      <td>0.598190</td>\n",
       "      <td>Starbucks Corp.</td>\n",
       "      <td>Consumer Discretionary</td>\n",
       "    </tr>\n",
       "    <tr>\n",
       "      <th>GOOGL</th>\n",
       "      <td>0.586548</td>\n",
       "      <td>Alphabet Inc Class A</td>\n",
       "      <td>Information Technology</td>\n",
       "    </tr>\n",
       "    <tr>\n",
       "      <th>TSS</th>\n",
       "      <td>0.580214</td>\n",
       "      <td>Total System Services</td>\n",
       "      <td>Information Technology</td>\n",
       "    </tr>\n",
       "  </tbody>\n",
       "</table>\n",
       "</div>"
      ],
      "text/plain": [
       "       Correlation        Name of Company                Industry\n",
       "FISV      0.619667             Fiserv Inc  Information Technology\n",
       "MA        0.617659        Mastercard Inc.  Information Technology\n",
       "SBUX      0.598190        Starbucks Corp.  Consumer Discretionary\n",
       "GOOGL     0.586548   Alphabet Inc Class A  Information Technology\n",
       "TSS       0.580214  Total System Services  Information Technology"
      ]
     },
     "execution_count": 25,
     "metadata": {},
     "output_type": "execute_result"
    }
   ],
   "source": [
    "pd.DataFrame(highLowCorrelation(corMatrix, 'FB')[0])"
   ]
  },
  {
   "cell_type": "code",
   "execution_count": 26,
   "metadata": {
    "collapsed": false
   },
   "outputs": [
    {
     "data": {
      "text/html": [
       "<div>\n",
       "<table border=\"1\" class=\"dataframe\">\n",
       "  <thead>\n",
       "    <tr style=\"text-align: right;\">\n",
       "      <th></th>\n",
       "      <th>Correlation</th>\n",
       "      <th>Name of Company</th>\n",
       "      <th>Industry</th>\n",
       "    </tr>\n",
       "  </thead>\n",
       "  <tbody>\n",
       "    <tr>\n",
       "      <th>NEM</th>\n",
       "      <td>-0.002832</td>\n",
       "      <td>Newmont Mining Corp. (Hldg. Co.)</td>\n",
       "      <td>Materials</td>\n",
       "    </tr>\n",
       "    <tr>\n",
       "      <th>RIG</th>\n",
       "      <td>0.013327</td>\n",
       "      <td>Transocean</td>\n",
       "      <td>Energy</td>\n",
       "    </tr>\n",
       "    <tr>\n",
       "      <th>SWN</th>\n",
       "      <td>0.047667</td>\n",
       "      <td>Southwestern Energy</td>\n",
       "      <td>Energy</td>\n",
       "    </tr>\n",
       "    <tr>\n",
       "      <th>DO</th>\n",
       "      <td>0.054310</td>\n",
       "      <td>Diamond Offshore Drilling</td>\n",
       "      <td>Energy</td>\n",
       "    </tr>\n",
       "    <tr>\n",
       "      <th>CHK</th>\n",
       "      <td>0.058682</td>\n",
       "      <td>Chesapeake Energy</td>\n",
       "      <td>Energy</td>\n",
       "    </tr>\n",
       "  </tbody>\n",
       "</table>\n",
       "</div>"
      ],
      "text/plain": [
       "     Correlation                   Name of Company   Industry\n",
       "NEM    -0.002832  Newmont Mining Corp. (Hldg. Co.)  Materials\n",
       "RIG     0.013327                        Transocean     Energy\n",
       "SWN     0.047667               Southwestern Energy     Energy\n",
       "DO      0.054310         Diamond Offshore Drilling     Energy\n",
       "CHK     0.058682                 Chesapeake Energy     Energy"
      ]
     },
     "execution_count": 26,
     "metadata": {},
     "output_type": "execute_result"
    }
   ],
   "source": [
    "pd.DataFrame(highLowCorrelation(corMatrix, 'FB')[1])"
   ]
  },
  {
   "cell_type": "markdown",
   "metadata": {},
   "source": [
    "For Facebook, $4$ out of $5$ of the top correlated companies are in the IT industry. Starbucks also appears in the top 5 for Facebook, surprisingly."
   ]
  },
  {
   "cell_type": "code",
   "execution_count": 27,
   "metadata": {
    "collapsed": false
   },
   "outputs": [
    {
     "data": {
      "text/html": [
       "<div>\n",
       "<table border=\"1\" class=\"dataframe\">\n",
       "  <thead>\n",
       "    <tr style=\"text-align: right;\">\n",
       "      <th></th>\n",
       "      <th>Correlation</th>\n",
       "      <th>Name of Company</th>\n",
       "      <th>Industry</th>\n",
       "    </tr>\n",
       "  </thead>\n",
       "  <tbody>\n",
       "    <tr>\n",
       "      <th>ITW</th>\n",
       "      <td>0.601265</td>\n",
       "      <td>Illinois Tool Works</td>\n",
       "      <td>Industrials</td>\n",
       "    </tr>\n",
       "    <tr>\n",
       "      <th>NOC</th>\n",
       "      <td>0.589368</td>\n",
       "      <td>Northrop Grumman Corp.</td>\n",
       "      <td>Industrials</td>\n",
       "    </tr>\n",
       "    <tr>\n",
       "      <th>HON</th>\n",
       "      <td>0.576730</td>\n",
       "      <td>Honeywell Int'l Inc.</td>\n",
       "      <td>Industrials</td>\n",
       "    </tr>\n",
       "    <tr>\n",
       "      <th>FISV</th>\n",
       "      <td>0.573935</td>\n",
       "      <td>Fiserv Inc</td>\n",
       "      <td>Information Technology</td>\n",
       "    </tr>\n",
       "    <tr>\n",
       "      <th>SWKS</th>\n",
       "      <td>0.573350</td>\n",
       "      <td>Skyworks Solutions</td>\n",
       "      <td>Information Technology</td>\n",
       "    </tr>\n",
       "  </tbody>\n",
       "</table>\n",
       "</div>"
      ],
      "text/plain": [
       "      Correlation         Name of Company                Industry\n",
       "ITW      0.601265     Illinois Tool Works             Industrials\n",
       "NOC      0.589368  Northrop Grumman Corp.             Industrials\n",
       "HON      0.576730    Honeywell Int'l Inc.             Industrials\n",
       "FISV     0.573935              Fiserv Inc  Information Technology\n",
       "SWKS     0.573350      Skyworks Solutions  Information Technology"
      ]
     },
     "execution_count": 27,
     "metadata": {},
     "output_type": "execute_result"
    }
   ],
   "source": [
    "pd.DataFrame(highLowCorrelation(corMatrix, 'AAPL')[0])"
   ]
  },
  {
   "cell_type": "code",
   "execution_count": 28,
   "metadata": {
    "collapsed": false
   },
   "outputs": [
    {
     "data": {
      "text/html": [
       "<div>\n",
       "<table border=\"1\" class=\"dataframe\">\n",
       "  <thead>\n",
       "    <tr style=\"text-align: right;\">\n",
       "      <th></th>\n",
       "      <th>Correlation</th>\n",
       "      <th>Name of Company</th>\n",
       "      <th>Industry</th>\n",
       "    </tr>\n",
       "  </thead>\n",
       "  <tbody>\n",
       "    <tr>\n",
       "      <th>RRC</th>\n",
       "      <td>0.112711</td>\n",
       "      <td>Range Resources Corp.</td>\n",
       "      <td>Energy</td>\n",
       "    </tr>\n",
       "    <tr>\n",
       "      <th>CMG</th>\n",
       "      <td>0.130501</td>\n",
       "      <td>Chipotle Mexican Grill</td>\n",
       "      <td>Consumer Discretionary</td>\n",
       "    </tr>\n",
       "    <tr>\n",
       "      <th>NEM</th>\n",
       "      <td>0.143713</td>\n",
       "      <td>Newmont Mining Corp. (Hldg. Co.)</td>\n",
       "      <td>Materials</td>\n",
       "    </tr>\n",
       "    <tr>\n",
       "      <th>RIG</th>\n",
       "      <td>0.144045</td>\n",
       "      <td>Transocean</td>\n",
       "      <td>Energy</td>\n",
       "    </tr>\n",
       "    <tr>\n",
       "      <th>SWN</th>\n",
       "      <td>0.146811</td>\n",
       "      <td>Southwestern Energy</td>\n",
       "      <td>Energy</td>\n",
       "    </tr>\n",
       "  </tbody>\n",
       "</table>\n",
       "</div>"
      ],
      "text/plain": [
       "     Correlation                   Name of Company                Industry\n",
       "RRC     0.112711             Range Resources Corp.                  Energy\n",
       "CMG     0.130501            Chipotle Mexican Grill  Consumer Discretionary\n",
       "NEM     0.143713  Newmont Mining Corp. (Hldg. Co.)               Materials\n",
       "RIG     0.144045                        Transocean                  Energy\n",
       "SWN     0.146811               Southwestern Energy                  Energy"
      ]
     },
     "execution_count": 28,
     "metadata": {},
     "output_type": "execute_result"
    }
   ],
   "source": [
    "pd.DataFrame(highLowCorrelation(corMatrix, 'AAPL')[1])"
   ]
  },
  {
   "cell_type": "markdown",
   "metadata": {},
   "source": [
    "For Apple, surprisingly its top $3$ correlated stocks are all from the Industrials sector, with the subsequent $2$ being from the IT industry. These results are interesting, as the companies do not appear to have any relation to Apple."
   ]
  },
  {
   "cell_type": "code",
   "execution_count": 29,
   "metadata": {
    "collapsed": false
   },
   "outputs": [
    {
     "data": {
      "text/html": [
       "<div>\n",
       "<table border=\"1\" class=\"dataframe\">\n",
       "  <thead>\n",
       "    <tr style=\"text-align: right;\">\n",
       "      <th></th>\n",
       "      <th>Correlation</th>\n",
       "      <th>Name of Company</th>\n",
       "      <th>Industry</th>\n",
       "    </tr>\n",
       "  </thead>\n",
       "  <tbody>\n",
       "    <tr>\n",
       "      <th>GOOGL</th>\n",
       "      <td>0.989365</td>\n",
       "      <td>Alphabet Inc Class A</td>\n",
       "      <td>Information Technology</td>\n",
       "    </tr>\n",
       "    <tr>\n",
       "      <th>AMZN</th>\n",
       "      <td>0.584337</td>\n",
       "      <td>Amazon.com Inc</td>\n",
       "      <td>Consumer Discretionary</td>\n",
       "    </tr>\n",
       "    <tr>\n",
       "      <th>FB</th>\n",
       "      <td>0.569256</td>\n",
       "      <td>Facebook</td>\n",
       "      <td>Information Technology</td>\n",
       "    </tr>\n",
       "    <tr>\n",
       "      <th>PGR</th>\n",
       "      <td>0.547913</td>\n",
       "      <td>Progressive Corp.</td>\n",
       "      <td>Financials</td>\n",
       "    </tr>\n",
       "    <tr>\n",
       "      <th>MSFT</th>\n",
       "      <td>0.520563</td>\n",
       "      <td>Microsoft Corp.</td>\n",
       "      <td>Information Technology</td>\n",
       "    </tr>\n",
       "  </tbody>\n",
       "</table>\n",
       "</div>"
      ],
      "text/plain": [
       "       Correlation       Name of Company                Industry\n",
       "GOOGL     0.989365  Alphabet Inc Class A  Information Technology\n",
       "AMZN      0.584337        Amazon.com Inc  Consumer Discretionary\n",
       "FB        0.569256              Facebook  Information Technology\n",
       "PGR       0.547913     Progressive Corp.              Financials\n",
       "MSFT      0.520563       Microsoft Corp.  Information Technology"
      ]
     },
     "execution_count": 29,
     "metadata": {},
     "output_type": "execute_result"
    }
   ],
   "source": [
    "pd.DataFrame(highLowCorrelation(corMatrix, 'GOOG')[0])"
   ]
  },
  {
   "cell_type": "code",
   "execution_count": 30,
   "metadata": {
    "collapsed": false
   },
   "outputs": [
    {
     "data": {
      "text/html": [
       "<div>\n",
       "<table border=\"1\" class=\"dataframe\">\n",
       "  <thead>\n",
       "    <tr style=\"text-align: right;\">\n",
       "      <th></th>\n",
       "      <th>Correlation</th>\n",
       "      <th>Name of Company</th>\n",
       "      <th>Industry</th>\n",
       "    </tr>\n",
       "  </thead>\n",
       "  <tbody>\n",
       "    <tr>\n",
       "      <th>SRCL</th>\n",
       "      <td>0.017149</td>\n",
       "      <td>Stericycle Inc</td>\n",
       "      <td>Industrials</td>\n",
       "    </tr>\n",
       "    <tr>\n",
       "      <th>RIG</th>\n",
       "      <td>0.023044</td>\n",
       "      <td>Transocean</td>\n",
       "      <td>Energy</td>\n",
       "    </tr>\n",
       "    <tr>\n",
       "      <th>DO</th>\n",
       "      <td>0.053734</td>\n",
       "      <td>Diamond Offshore Drilling</td>\n",
       "      <td>Energy</td>\n",
       "    </tr>\n",
       "    <tr>\n",
       "      <th>RRC</th>\n",
       "      <td>0.056774</td>\n",
       "      <td>Range Resources Corp.</td>\n",
       "      <td>Energy</td>\n",
       "    </tr>\n",
       "    <tr>\n",
       "      <th>URBN</th>\n",
       "      <td>0.067461</td>\n",
       "      <td>Urban Outfitters</td>\n",
       "      <td>Consumer Discretionary</td>\n",
       "    </tr>\n",
       "  </tbody>\n",
       "</table>\n",
       "</div>"
      ],
      "text/plain": [
       "      Correlation            Name of Company                Industry\n",
       "SRCL     0.017149             Stericycle Inc             Industrials\n",
       "RIG      0.023044                 Transocean                  Energy\n",
       "DO       0.053734  Diamond Offshore Drilling                  Energy\n",
       "RRC      0.056774      Range Resources Corp.                  Energy\n",
       "URBN     0.067461           Urban Outfitters  Consumer Discretionary"
      ]
     },
     "execution_count": 30,
     "metadata": {},
     "output_type": "execute_result"
    }
   ],
   "source": [
    "pd.DataFrame(highLowCorrelation(corMatrix, 'GOOG')[1])"
   ]
  },
  {
   "cell_type": "code",
   "execution_count": 31,
   "metadata": {
    "collapsed": false
   },
   "outputs": [
    {
     "data": {
      "text/html": [
       "<div>\n",
       "<table border=\"1\" class=\"dataframe\">\n",
       "  <thead>\n",
       "    <tr style=\"text-align: right;\">\n",
       "      <th></th>\n",
       "      <th>Correlation</th>\n",
       "      <th>Name of Company</th>\n",
       "      <th>Industry</th>\n",
       "    </tr>\n",
       "  </thead>\n",
       "  <tbody>\n",
       "    <tr>\n",
       "      <th>GOOG</th>\n",
       "      <td>0.989365</td>\n",
       "      <td>Alphabet Inc Class C</td>\n",
       "      <td>Information Technology</td>\n",
       "    </tr>\n",
       "    <tr>\n",
       "      <th>FB</th>\n",
       "      <td>0.586548</td>\n",
       "      <td>Facebook</td>\n",
       "      <td>Information Technology</td>\n",
       "    </tr>\n",
       "    <tr>\n",
       "      <th>AMZN</th>\n",
       "      <td>0.585553</td>\n",
       "      <td>Amazon.com Inc</td>\n",
       "      <td>Consumer Discretionary</td>\n",
       "    </tr>\n",
       "    <tr>\n",
       "      <th>PGR</th>\n",
       "      <td>0.556862</td>\n",
       "      <td>Progressive Corp.</td>\n",
       "      <td>Financials</td>\n",
       "    </tr>\n",
       "    <tr>\n",
       "      <th>MA</th>\n",
       "      <td>0.515583</td>\n",
       "      <td>Mastercard Inc.</td>\n",
       "      <td>Information Technology</td>\n",
       "    </tr>\n",
       "  </tbody>\n",
       "</table>\n",
       "</div>"
      ],
      "text/plain": [
       "      Correlation       Name of Company                Industry\n",
       "GOOG     0.989365  Alphabet Inc Class C  Information Technology\n",
       "FB       0.586548              Facebook  Information Technology\n",
       "AMZN     0.585553        Amazon.com Inc  Consumer Discretionary\n",
       "PGR      0.556862     Progressive Corp.              Financials\n",
       "MA       0.515583       Mastercard Inc.  Information Technology"
      ]
     },
     "execution_count": 31,
     "metadata": {},
     "output_type": "execute_result"
    }
   ],
   "source": [
    "pd.DataFrame(highLowCorrelation(corMatrix, 'GOOGL')[0])"
   ]
  },
  {
   "cell_type": "code",
   "execution_count": 32,
   "metadata": {
    "collapsed": false
   },
   "outputs": [
    {
     "data": {
      "text/html": [
       "<div>\n",
       "<table border=\"1\" class=\"dataframe\">\n",
       "  <thead>\n",
       "    <tr style=\"text-align: right;\">\n",
       "      <th></th>\n",
       "      <th>Correlation</th>\n",
       "      <th>Name of Company</th>\n",
       "      <th>Industry</th>\n",
       "    </tr>\n",
       "  </thead>\n",
       "  <tbody>\n",
       "    <tr>\n",
       "      <th>RIG</th>\n",
       "      <td>0.009523</td>\n",
       "      <td>Transocean</td>\n",
       "      <td>Energy</td>\n",
       "    </tr>\n",
       "    <tr>\n",
       "      <th>RRC</th>\n",
       "      <td>0.043924</td>\n",
       "      <td>Range Resources Corp.</td>\n",
       "      <td>Energy</td>\n",
       "    </tr>\n",
       "    <tr>\n",
       "      <th>DO</th>\n",
       "      <td>0.045733</td>\n",
       "      <td>Diamond Offshore Drilling</td>\n",
       "      <td>Energy</td>\n",
       "    </tr>\n",
       "    <tr>\n",
       "      <th>SWN</th>\n",
       "      <td>0.062425</td>\n",
       "      <td>Southwestern Energy</td>\n",
       "      <td>Energy</td>\n",
       "    </tr>\n",
       "    <tr>\n",
       "      <th>SRCL</th>\n",
       "      <td>0.062576</td>\n",
       "      <td>Stericycle Inc</td>\n",
       "      <td>Industrials</td>\n",
       "    </tr>\n",
       "  </tbody>\n",
       "</table>\n",
       "</div>"
      ],
      "text/plain": [
       "      Correlation            Name of Company     Industry\n",
       "RIG      0.009523                 Transocean       Energy\n",
       "RRC      0.043924      Range Resources Corp.       Energy\n",
       "DO       0.045733  Diamond Offshore Drilling       Energy\n",
       "SWN      0.062425        Southwestern Energy       Energy\n",
       "SRCL     0.062576             Stericycle Inc  Industrials"
      ]
     },
     "execution_count": 32,
     "metadata": {},
     "output_type": "execute_result"
    }
   ],
   "source": [
    "pd.DataFrame(highLowCorrelation(corMatrix, 'GOOGL')[1])"
   ]
  },
  {
   "cell_type": "markdown",
   "metadata": {},
   "source": [
    "Alphabet Inc. is the parent company of Google and has two types of stocks (`GOOG` and `GOOGL`), which are Class A and Class C share respectively. The difference between the two is that the owner of Class A share are allowed to vote, whereas the owners of Class C shares are not. \n",
    "The top 5 correlated shares for `GOOG` and `GOOGL` are the same, aside from Microsoft for `GOOG` and Mastercard Inc for `GOOGL`. It is not surprising that the highest stock correlation for `GOOG` is `GOOGL` at 0.98 and vice versa, since they are under the same parent company."
   ]
  },
  {
   "cell_type": "markdown",
   "metadata": {},
   "source": [
    "Most of the lowest correlated stocks for each of the aforementioned tech companies are from companies in the Energy/Industrials/Materials sector, whose stock prices move in conjunction with commodity prices such as oil and gas based on global supply and demand. Thus, it is not surprising that their stock prices have such low correlation with the stock prices of tech companies.\n",
    "\n",
    "For the companies which appear to have no relation to the above tech companies but have correlated stocks, this may be due to chance, as the time period we are looking at is only a year. It would be interesting to see if this correlation is sustained throughout a longer time period, to see if there is really a correlation between the two stocks. This will be investigated further in the in-depth analysis section of the report.\n",
    "\n",
    "Another interesting thing to note is that there appears to be no stocks in the S&P 500 which are strongly negatively correlated with the stocks from above tech companies. "
   ]
  },
  {
   "cell_type": "markdown",
   "metadata": {},
   "source": [
    "### 3. Clustering algorithm"
   ]
  },
  {
   "cell_type": "markdown",
   "metadata": {},
   "source": [
    "We will now use the similarity information of the companies based on their correlations to divide them into clusters. The clusters will indicate companies with similar performance over the year 2015 and will be performed using a *greedy* algorithm design which is described as follows:\n",
    "\n",
    "1. Sort the edges in the graph by their weight (ie the correlation)\n",
    "2. Create a single-node set from each node in the graph\n",
    "3. Repeat k times:\n",
    "    1. Pick the highest-weight edge\n",
    "    2. Merge the sets containing the source and the destination of the edge\n",
    "    3. Repeat from A. with the next-highest weight edge\n",
    "    \n",
    "4. Return the remaining sets"
   ]
  },
  {
   "cell_type": "markdown",
   "metadata": {},
   "source": [
    "To perform the clustering, we define two new functions, `sortCorrelations` and `clusteringAlg`, that perform the following tasks:\n",
    "\n",
    "* `sortCorrelations`: Takes as input the correlation matrix of the companies and returns an ordered list of tuples in descending order based on the correlations of the companies. Each tuple has the following format:\n",
    "\n",
    "$$(correlation, company_1, company_2)$$\n",
    "\n",
    "* `clusteringAlg`: takes as input the list of tuples created by the previous function and a constant $k$, which represents the iterations of the algorithm, and clusters the companies based on the algorithm described previously. The output of the function is a list of sets, where each set represents a cluster of companies and a list of integers where each integer represents the number of clusters at each iteration."
   ]
  },
  {
   "cell_type": "code",
   "execution_count": 33,
   "metadata": {
    "collapsed": true
   },
   "outputs": [],
   "source": [
    "def sortCorrelations(corMatrix):\n",
    "    n = int(corMatrix.shape[0])\n",
    "    corList = []\n",
    "    for i in range(1, n):\n",
    "        for j in range(0, i):\n",
    "            corList.append((corMatrix.iloc[i, j], corMatrix.columns.values[i], \\\n",
    "                            corMatrix.columns.values[j]))\n",
    "    return sorted(corList, reverse = True)"
   ]
  },
  {
   "cell_type": "code",
   "execution_count": 34,
   "metadata": {
    "collapsed": true
   },
   "outputs": [],
   "source": [
    "def clusteringAlg(corList, k = 0):\n",
    "    \"\"\"\n",
    "    Input:  \n",
    "    corList: The ordered list of tuples which include the\n",
    "              correlations between firms and the firms themselves\n",
    "    k: The number of iterations for the clustering algorithm\n",
    "    Output: \n",
    "    A list of sets where each set represents an individual \n",
    "    cluster\n",
    "    \"\"\"\n",
    "    # Initialize the list of sets. Each set represents a cluster\n",
    "    # which initialy includes only one firm\n",
    "    sets = []\n",
    "    noOfClusters = []\n",
    "    for i in range(len(corList)):\n",
    "        if not({corList[i][1]} in sets):\n",
    "            sets.append({corList[i][1]})\n",
    "        if not({corList[i][2]} in sets):\n",
    "            sets.append({corList[i][2]}) \n",
    "    inNoOfClusters = len(sets)\n",
    "    # Repeat the algorithm k times\n",
    "    # In each iteration we check the k-th tuple of correlations list\n",
    "    # and whether the 2 firms in that tuple are already in the same\n",
    "    # set. If they do, we move on to the next tuple, otherwise we merge\n",
    "    for j in range(min(k, len(corList))):\n",
    "        nd1 = corList[j][1]\n",
    "        nd2 = corList[j][2]\n",
    "        fl1, fl2 = False, False \n",
    "        noOfClusters.append(inNoOfClusters - len(sets))\n",
    "        for i in range(len(sets)):\n",
    "            if (nd1 in sets[i]) and fl1 == False:\n",
    "                idx1 = i\n",
    "                fl1 = True\n",
    "            if (nd2 in sets[i]) and fl2 == False:\n",
    "                idx2 = i\n",
    "                fl2 = True\n",
    "        if idx1 != idx2:\n",
    "            sets[idx1] = sets[idx1].union(sets[idx2])\n",
    "            sets.remove(sets[idx2])\n",
    "    # Return the final list of sets\n",
    "    return sets, noOfClusters"
   ]
  },
  {
   "cell_type": "code",
   "execution_count": 35,
   "metadata": {
    "collapsed": false
   },
   "outputs": [],
   "source": [
    "corList = sortCorrelations(corMatrix)"
   ]
  },
  {
   "cell_type": "code",
   "execution_count": 36,
   "metadata": {
    "collapsed": false
   },
   "outputs": [],
   "source": [
    "clusters, noClusters = clusteringAlg(corList, k = 10000)"
   ]
  },
  {
   "cell_type": "markdown",
   "metadata": {},
   "source": [
    "In the following diagram we observe how the number of clusters increases as the number of iterations increases from $1$ to $10,000$. We define clusters as groups of companies that include more than one company. We observe that the slope of the line is more steep during the first iterations but as the number of iterations increases, the number of clusters increases at a slower pace. "
   ]
  },
  {
   "cell_type": "code",
   "execution_count": 37,
   "metadata": {
    "collapsed": false
   },
   "outputs": [
    {
     "data": {
      "image/png": "[encoded data removed]",
      "text/plain": [
       "<matplotlib.figure.Figure at 0x118b65c50>"
      ]
     },
     "metadata": {},
     "output_type": "display_data"
    }
   ],
   "source": [
    "t = np.arange(1, 10001)\n",
    "plt.plot(t, noClusters, '-')\n",
    "plt.xlabel('Number of iterations')\n",
    "plt.ylabel('Number of clusters')\n",
    "plt.title('Clusters of length >1 versus iterations')\n",
    "plt.show()"
   ]
  },
  {
   "cell_type": "markdown",
   "metadata": {},
   "source": [
    "The clustering algorithm implemented above is called **single-linkage clustering** and is one of the many methods of **hierarchical clustering**. Single-linkage clustering is based on agglomerative clustering. It involves starting with each firm in a cluster of its own and then combining two clusters at each iteration of the algorithm. It chooses the two clusters that are 'close to' i.e. highly correlated with each other.\n",
    "\n",
    "Single-linkage clustering is the same as the **Kruskal's algorithm** used for minimum spanning trees. The algorithm deals with a connected weighted graph. It first finds the edge with the lowest weight and then adds edges in increasing order of weight until it forms a minimum spanning tree which is a subset of the tree that connects all the vertices and minimizes the total weight of all the edges. The Kruskal's algorithm is similar to single-linkage clustering because it also chooses vertices that are 'close to' each other, where closeness is defined by the weight of the edge between vertices."
   ]
  },
  {
   "cell_type": "markdown",
   "metadata": {},
   "source": [
    "In order to evaluate our clustering algorithm, we will focus on the resulting clusters for different values of $k$ and see if the companies included in those have similarities between them and whether their stock prices and daily returns perform in a similar way."
   ]
  },
  {
   "cell_type": "markdown",
   "metadata": {},
   "source": [
    "For that purpose we define the function `companyTracker` which take as input the correlation list previously computed, the symbol of a company, the dataframe which contains the companies information and three integers, which specify the different values of $k$ for which we will execute the clustering algorithm."
   ]
  },
  {
   "cell_type": "code",
   "execution_count": 38,
   "metadata": {
    "collapsed": false
   },
   "outputs": [],
   "source": [
    "def companyTracker(corList, company, firms, ks, kf, kint):\n",
    "    kValues = np.arange(ks, kf, kint)\n",
    "    sets = []\n",
    "    for k in kValues:\n",
    "        clusters = clusteringAlg(corList, k)[0]\n",
    "        print('k = ' + str(k))\n",
    "        for i in range(len(clusters)):\n",
    "            if company in clusters[i]:\n",
    "                if len(clusters[i]) == 1:\n",
    "                    display(firms.loc[ticker, :])\n",
    "                else:\n",
    "                    display(firms.loc[clusters[i], :].sort_values(['Sector', 'Name']))"
   ]
  },
  {
   "cell_type": "markdown",
   "metadata": {},
   "source": [
    "We will see how the aforementioned companies are clustered when the number of iterations $k = \\{30, 50, 100, 500, 1000\\}$."
   ]
  },
  {
   "cell_type": "code",
   "execution_count": 39,
   "metadata": {
    "collapsed": false
   },
   "outputs": [
    {
     "name": "stdout",
     "output_type": "stream",
     "text": [
      "k = 30\n"
     ]
    },
    {
     "data": {
      "text/html": [
       "<div>\n",
       "<table border=\"1\" class=\"dataframe\">\n",
       "  <thead>\n",
       "    <tr style=\"text-align: right;\">\n",
       "      <th></th>\n",
       "      <th>Name</th>\n",
       "      <th>Sector</th>\n",
       "    </tr>\n",
       "    <tr>\n",
       "      <th>Symbol</th>\n",
       "      <th></th>\n",
       "      <th></th>\n",
       "    </tr>\n",
       "  </thead>\n",
       "  <tbody>\n",
       "    <tr>\n",
       "      <th>BAC</th>\n",
       "      <td>Bank of America Corp</td>\n",
       "      <td>Financials</td>\n",
       "    </tr>\n",
       "    <tr>\n",
       "      <th>C</th>\n",
       "      <td>Citigroup Inc.</td>\n",
       "      <td>Financials</td>\n",
       "    </tr>\n",
       "    <tr>\n",
       "      <th>JPM</th>\n",
       "      <td>JPMorgan Chase &amp; Co.</td>\n",
       "      <td>Financials</td>\n",
       "    </tr>\n",
       "  </tbody>\n",
       "</table>\n",
       "</div>"
      ],
      "text/plain": [
       "                        Name      Sector\n",
       "Symbol                                  \n",
       "BAC     Bank of America Corp  Financials\n",
       "C             Citigroup Inc.  Financials\n",
       "JPM     JPMorgan Chase & Co.  Financials"
      ]
     },
     "metadata": {},
     "output_type": "display_data"
    }
   ],
   "source": [
    "companyTracker(corList, 'BAC', firms, 30, 60, 30)"
   ]
  },
  {
   "cell_type": "code",
   "execution_count": 40,
   "metadata": {
    "collapsed": false
   },
   "outputs": [
    {
     "name": "stdout",
     "output_type": "stream",
     "text": [
      "k = 50\n"
     ]
    },
    {
     "data": {
      "text/html": [
       "<div>\n",
       "<table border=\"1\" class=\"dataframe\">\n",
       "  <thead>\n",
       "    <tr style=\"text-align: right;\">\n",
       "      <th></th>\n",
       "      <th>Name</th>\n",
       "      <th>Sector</th>\n",
       "    </tr>\n",
       "    <tr>\n",
       "      <th>Symbol</th>\n",
       "      <th></th>\n",
       "      <th></th>\n",
       "    </tr>\n",
       "  </thead>\n",
       "  <tbody>\n",
       "    <tr>\n",
       "      <th>BBT</th>\n",
       "      <td>BB&amp;T Corporation</td>\n",
       "      <td>Financials</td>\n",
       "    </tr>\n",
       "    <tr>\n",
       "      <th>BAC</th>\n",
       "      <td>Bank of America Corp</td>\n",
       "      <td>Financials</td>\n",
       "    </tr>\n",
       "    <tr>\n",
       "      <th>C</th>\n",
       "      <td>Citigroup Inc.</td>\n",
       "      <td>Financials</td>\n",
       "    </tr>\n",
       "    <tr>\n",
       "      <th>CMA</th>\n",
       "      <td>Comerica Inc.</td>\n",
       "      <td>Financials</td>\n",
       "    </tr>\n",
       "    <tr>\n",
       "      <th>HBAN</th>\n",
       "      <td>Huntington Bancshares</td>\n",
       "      <td>Financials</td>\n",
       "    </tr>\n",
       "    <tr>\n",
       "      <th>JPM</th>\n",
       "      <td>JPMorgan Chase &amp; Co.</td>\n",
       "      <td>Financials</td>\n",
       "    </tr>\n",
       "    <tr>\n",
       "      <th>KEY</th>\n",
       "      <td>KeyCorp</td>\n",
       "      <td>Financials</td>\n",
       "    </tr>\n",
       "    <tr>\n",
       "      <th>PNC</th>\n",
       "      <td>PNC Financial Services</td>\n",
       "      <td>Financials</td>\n",
       "    </tr>\n",
       "    <tr>\n",
       "      <th>RF</th>\n",
       "      <td>Regions Financial Corp.</td>\n",
       "      <td>Financials</td>\n",
       "    </tr>\n",
       "    <tr>\n",
       "      <th>STI</th>\n",
       "      <td>SunTrust Banks</td>\n",
       "      <td>Financials</td>\n",
       "    </tr>\n",
       "    <tr>\n",
       "      <th>USB</th>\n",
       "      <td>U.S. Bancorp</td>\n",
       "      <td>Financials</td>\n",
       "    </tr>\n",
       "    <tr>\n",
       "      <th>WFC</th>\n",
       "      <td>Wells Fargo</td>\n",
       "      <td>Financials</td>\n",
       "    </tr>\n",
       "    <tr>\n",
       "      <th>ZION</th>\n",
       "      <td>Zions Bancorp</td>\n",
       "      <td>Financials</td>\n",
       "    </tr>\n",
       "  </tbody>\n",
       "</table>\n",
       "</div>"
      ],
      "text/plain": [
       "                           Name      Sector\n",
       "Symbol                                     \n",
       "BBT            BB&T Corporation  Financials\n",
       "BAC        Bank of America Corp  Financials\n",
       "C                Citigroup Inc.  Financials\n",
       "CMA               Comerica Inc.  Financials\n",
       "HBAN      Huntington Bancshares  Financials\n",
       "JPM        JPMorgan Chase & Co.  Financials\n",
       "KEY                     KeyCorp  Financials\n",
       "PNC      PNC Financial Services  Financials\n",
       "RF      Regions Financial Corp.  Financials\n",
       "STI              SunTrust Banks  Financials\n",
       "USB                U.S. Bancorp  Financials\n",
       "WFC                 Wells Fargo  Financials\n",
       "ZION              Zions Bancorp  Financials"
      ]
     },
     "metadata": {},
     "output_type": "display_data"
    }
   ],
   "source": [
    "companyTracker(corList, 'BAC', firms, 50, 100, 50)"
   ]
  },
  {
   "cell_type": "code",
   "execution_count": 41,
   "metadata": {
    "collapsed": false
   },
   "outputs": [
    {
     "name": "stdout",
     "output_type": "stream",
     "text": [
      "k = 100\n"
     ]
    },
    {
     "data": {
      "text/html": [
       "<div>\n",
       "<table border=\"1\" class=\"dataframe\">\n",
       "  <thead>\n",
       "    <tr style=\"text-align: right;\">\n",
       "      <th></th>\n",
       "      <th>Name</th>\n",
       "      <th>Sector</th>\n",
       "    </tr>\n",
       "    <tr>\n",
       "      <th>Symbol</th>\n",
       "      <th></th>\n",
       "      <th></th>\n",
       "    </tr>\n",
       "  </thead>\n",
       "  <tbody>\n",
       "    <tr>\n",
       "      <th>BBT</th>\n",
       "      <td>BB&amp;T Corporation</td>\n",
       "      <td>Financials</td>\n",
       "    </tr>\n",
       "    <tr>\n",
       "      <th>BAC</th>\n",
       "      <td>Bank of America Corp</td>\n",
       "      <td>Financials</td>\n",
       "    </tr>\n",
       "    <tr>\n",
       "      <th>C</th>\n",
       "      <td>Citigroup Inc.</td>\n",
       "      <td>Financials</td>\n",
       "    </tr>\n",
       "    <tr>\n",
       "      <th>CMA</th>\n",
       "      <td>Comerica Inc.</td>\n",
       "      <td>Financials</td>\n",
       "    </tr>\n",
       "    <tr>\n",
       "      <th>FITB</th>\n",
       "      <td>Fifth Third Bancorp</td>\n",
       "      <td>Financials</td>\n",
       "    </tr>\n",
       "    <tr>\n",
       "      <th>GS</th>\n",
       "      <td>Goldman Sachs Group</td>\n",
       "      <td>Financials</td>\n",
       "    </tr>\n",
       "    <tr>\n",
       "      <th>HBAN</th>\n",
       "      <td>Huntington Bancshares</td>\n",
       "      <td>Financials</td>\n",
       "    </tr>\n",
       "    <tr>\n",
       "      <th>JPM</th>\n",
       "      <td>JPMorgan Chase &amp; Co.</td>\n",
       "      <td>Financials</td>\n",
       "    </tr>\n",
       "    <tr>\n",
       "      <th>KEY</th>\n",
       "      <td>KeyCorp</td>\n",
       "      <td>Financials</td>\n",
       "    </tr>\n",
       "    <tr>\n",
       "      <th>MS</th>\n",
       "      <td>Morgan Stanley</td>\n",
       "      <td>Financials</td>\n",
       "    </tr>\n",
       "    <tr>\n",
       "      <th>PNC</th>\n",
       "      <td>PNC Financial Services</td>\n",
       "      <td>Financials</td>\n",
       "    </tr>\n",
       "    <tr>\n",
       "      <th>RF</th>\n",
       "      <td>Regions Financial Corp.</td>\n",
       "      <td>Financials</td>\n",
       "    </tr>\n",
       "    <tr>\n",
       "      <th>STI</th>\n",
       "      <td>SunTrust Banks</td>\n",
       "      <td>Financials</td>\n",
       "    </tr>\n",
       "    <tr>\n",
       "      <th>USB</th>\n",
       "      <td>U.S. Bancorp</td>\n",
       "      <td>Financials</td>\n",
       "    </tr>\n",
       "    <tr>\n",
       "      <th>WFC</th>\n",
       "      <td>Wells Fargo</td>\n",
       "      <td>Financials</td>\n",
       "    </tr>\n",
       "    <tr>\n",
       "      <th>ZION</th>\n",
       "      <td>Zions Bancorp</td>\n",
       "      <td>Financials</td>\n",
       "    </tr>\n",
       "  </tbody>\n",
       "</table>\n",
       "</div>"
      ],
      "text/plain": [
       "                           Name      Sector\n",
       "Symbol                                     \n",
       "BBT            BB&T Corporation  Financials\n",
       "BAC        Bank of America Corp  Financials\n",
       "C                Citigroup Inc.  Financials\n",
       "CMA               Comerica Inc.  Financials\n",
       "FITB        Fifth Third Bancorp  Financials\n",
       "GS          Goldman Sachs Group  Financials\n",
       "HBAN      Huntington Bancshares  Financials\n",
       "JPM        JPMorgan Chase & Co.  Financials\n",
       "KEY                     KeyCorp  Financials\n",
       "MS               Morgan Stanley  Financials\n",
       "PNC      PNC Financial Services  Financials\n",
       "RF      Regions Financial Corp.  Financials\n",
       "STI              SunTrust Banks  Financials\n",
       "USB                U.S. Bancorp  Financials\n",
       "WFC                 Wells Fargo  Financials\n",
       "ZION              Zions Bancorp  Financials"
      ]
     },
     "metadata": {},
     "output_type": "display_data"
    }
   ],
   "source": [
    "companyTracker(corList, 'BAC', firms, 100, 200, 100)"
   ]
  },
  {
   "cell_type": "code",
   "execution_count": 42,
   "metadata": {
    "collapsed": false
   },
   "outputs": [
    {
     "name": "stdout",
     "output_type": "stream",
     "text": [
      "k = 500\n"
     ]
    },
    {
     "data": {
      "text/html": [
       "<div>\n",
       "<table border=\"1\" class=\"dataframe\">\n",
       "  <thead>\n",
       "    <tr style=\"text-align: right;\">\n",
       "      <th></th>\n",
       "      <th>Name</th>\n",
       "      <th>Sector</th>\n",
       "    </tr>\n",
       "    <tr>\n",
       "      <th>Symbol</th>\n",
       "      <th></th>\n",
       "      <th></th>\n",
       "    </tr>\n",
       "  </thead>\n",
       "  <tbody>\n",
       "    <tr>\n",
       "      <th>AFL</th>\n",
       "      <td>AFLAC Inc</td>\n",
       "      <td>Financials</td>\n",
       "    </tr>\n",
       "    <tr>\n",
       "      <th>AMP</th>\n",
       "      <td>Ameriprise Financial</td>\n",
       "      <td>Financials</td>\n",
       "    </tr>\n",
       "    <tr>\n",
       "      <th>AON</th>\n",
       "      <td>Aon plc</td>\n",
       "      <td>Financials</td>\n",
       "    </tr>\n",
       "    <tr>\n",
       "      <th>BBT</th>\n",
       "      <td>BB&amp;T Corporation</td>\n",
       "      <td>Financials</td>\n",
       "    </tr>\n",
       "    <tr>\n",
       "      <th>BAC</th>\n",
       "      <td>Bank of America Corp</td>\n",
       "      <td>Financials</td>\n",
       "    </tr>\n",
       "    <tr>\n",
       "      <th>BRK-B</th>\n",
       "      <td>Berkshire Hathaway</td>\n",
       "      <td>Financials</td>\n",
       "    </tr>\n",
       "    <tr>\n",
       "      <th>SCHW</th>\n",
       "      <td>Charles Schwab Corporation</td>\n",
       "      <td>Financials</td>\n",
       "    </tr>\n",
       "    <tr>\n",
       "      <th>CB</th>\n",
       "      <td>Chubb Limited</td>\n",
       "      <td>Financials</td>\n",
       "    </tr>\n",
       "    <tr>\n",
       "      <th>CINF</th>\n",
       "      <td>Cincinnati Financial</td>\n",
       "      <td>Financials</td>\n",
       "    </tr>\n",
       "    <tr>\n",
       "      <th>C</th>\n",
       "      <td>Citigroup Inc.</td>\n",
       "      <td>Financials</td>\n",
       "    </tr>\n",
       "    <tr>\n",
       "      <th>CMA</th>\n",
       "      <td>Comerica Inc.</td>\n",
       "      <td>Financials</td>\n",
       "    </tr>\n",
       "    <tr>\n",
       "      <th>ETFC</th>\n",
       "      <td>E*Trade</td>\n",
       "      <td>Financials</td>\n",
       "    </tr>\n",
       "    <tr>\n",
       "      <th>FITB</th>\n",
       "      <td>Fifth Third Bancorp</td>\n",
       "      <td>Financials</td>\n",
       "    </tr>\n",
       "    <tr>\n",
       "      <th>GS</th>\n",
       "      <td>Goldman Sachs Group</td>\n",
       "      <td>Financials</td>\n",
       "    </tr>\n",
       "    <tr>\n",
       "      <th>HBAN</th>\n",
       "      <td>Huntington Bancshares</td>\n",
       "      <td>Financials</td>\n",
       "    </tr>\n",
       "    <tr>\n",
       "      <th>JPM</th>\n",
       "      <td>JPMorgan Chase &amp; Co.</td>\n",
       "      <td>Financials</td>\n",
       "    </tr>\n",
       "    <tr>\n",
       "      <th>KEY</th>\n",
       "      <td>KeyCorp</td>\n",
       "      <td>Financials</td>\n",
       "    </tr>\n",
       "    <tr>\n",
       "      <th>LNC</th>\n",
       "      <td>Lincoln National</td>\n",
       "      <td>Financials</td>\n",
       "    </tr>\n",
       "    <tr>\n",
       "      <th>MTB</th>\n",
       "      <td>M&amp;T Bank Corp.</td>\n",
       "      <td>Financials</td>\n",
       "    </tr>\n",
       "    <tr>\n",
       "      <th>MMC</th>\n",
       "      <td>Marsh &amp; McLennan</td>\n",
       "      <td>Financials</td>\n",
       "    </tr>\n",
       "    <tr>\n",
       "      <th>MET</th>\n",
       "      <td>MetLife Inc.</td>\n",
       "      <td>Financials</td>\n",
       "    </tr>\n",
       "    <tr>\n",
       "      <th>MS</th>\n",
       "      <td>Morgan Stanley</td>\n",
       "      <td>Financials</td>\n",
       "    </tr>\n",
       "    <tr>\n",
       "      <th>NTRS</th>\n",
       "      <td>Northern Trust Corp.</td>\n",
       "      <td>Financials</td>\n",
       "    </tr>\n",
       "    <tr>\n",
       "      <th>PNC</th>\n",
       "      <td>PNC Financial Services</td>\n",
       "      <td>Financials</td>\n",
       "    </tr>\n",
       "    <tr>\n",
       "      <th>PBCT</th>\n",
       "      <td>People's United Financial</td>\n",
       "      <td>Financials</td>\n",
       "    </tr>\n",
       "    <tr>\n",
       "      <th>PFG</th>\n",
       "      <td>Principal Financial Group</td>\n",
       "      <td>Financials</td>\n",
       "    </tr>\n",
       "    <tr>\n",
       "      <th>PRU</th>\n",
       "      <td>Prudential Financial</td>\n",
       "      <td>Financials</td>\n",
       "    </tr>\n",
       "    <tr>\n",
       "      <th>RF</th>\n",
       "      <td>Regions Financial Corp.</td>\n",
       "      <td>Financials</td>\n",
       "    </tr>\n",
       "    <tr>\n",
       "      <th>STT</th>\n",
       "      <td>State Street Corp.</td>\n",
       "      <td>Financials</td>\n",
       "    </tr>\n",
       "    <tr>\n",
       "      <th>STI</th>\n",
       "      <td>SunTrust Banks</td>\n",
       "      <td>Financials</td>\n",
       "    </tr>\n",
       "    <tr>\n",
       "      <th>BK</th>\n",
       "      <td>The Bank of New York Mellon Corp.</td>\n",
       "      <td>Financials</td>\n",
       "    </tr>\n",
       "    <tr>\n",
       "      <th>TRV</th>\n",
       "      <td>The Travelers Companies Inc.</td>\n",
       "      <td>Financials</td>\n",
       "    </tr>\n",
       "    <tr>\n",
       "      <th>TMK</th>\n",
       "      <td>Torchmark Corp.</td>\n",
       "      <td>Financials</td>\n",
       "    </tr>\n",
       "    <tr>\n",
       "      <th>USB</th>\n",
       "      <td>U.S. Bancorp</td>\n",
       "      <td>Financials</td>\n",
       "    </tr>\n",
       "    <tr>\n",
       "      <th>UNM</th>\n",
       "      <td>Unum Group</td>\n",
       "      <td>Financials</td>\n",
       "    </tr>\n",
       "    <tr>\n",
       "      <th>WFC</th>\n",
       "      <td>Wells Fargo</td>\n",
       "      <td>Financials</td>\n",
       "    </tr>\n",
       "    <tr>\n",
       "      <th>ZION</th>\n",
       "      <td>Zions Bancorp</td>\n",
       "      <td>Financials</td>\n",
       "    </tr>\n",
       "  </tbody>\n",
       "</table>\n",
       "</div>"
      ],
      "text/plain": [
       "                                     Name      Sector\n",
       "Symbol                                               \n",
       "AFL                             AFLAC Inc  Financials\n",
       "AMP                  Ameriprise Financial  Financials\n",
       "AON                               Aon plc  Financials\n",
       "BBT                      BB&T Corporation  Financials\n",
       "BAC                  Bank of America Corp  Financials\n",
       "BRK-B                  Berkshire Hathaway  Financials\n",
       "SCHW           Charles Schwab Corporation  Financials\n",
       "CB                          Chubb Limited  Financials\n",
       "CINF                 Cincinnati Financial  Financials\n",
       "C                          Citigroup Inc.  Financials\n",
       "CMA                         Comerica Inc.  Financials\n",
       "ETFC                              E*Trade  Financials\n",
       "FITB                  Fifth Third Bancorp  Financials\n",
       "GS                    Goldman Sachs Group  Financials\n",
       "HBAN                Huntington Bancshares  Financials\n",
       "JPM                  JPMorgan Chase & Co.  Financials\n",
       "KEY                               KeyCorp  Financials\n",
       "LNC                      Lincoln National  Financials\n",
       "MTB                        M&T Bank Corp.  Financials\n",
       "MMC                      Marsh & McLennan  Financials\n",
       "MET                          MetLife Inc.  Financials\n",
       "MS                         Morgan Stanley  Financials\n",
       "NTRS                 Northern Trust Corp.  Financials\n",
       "PNC                PNC Financial Services  Financials\n",
       "PBCT            People's United Financial  Financials\n",
       "PFG             Principal Financial Group  Financials\n",
       "PRU                  Prudential Financial  Financials\n",
       "RF                Regions Financial Corp.  Financials\n",
       "STT                    State Street Corp.  Financials\n",
       "STI                        SunTrust Banks  Financials\n",
       "BK      The Bank of New York Mellon Corp.  Financials\n",
       "TRV          The Travelers Companies Inc.  Financials\n",
       "TMK                       Torchmark Corp.  Financials\n",
       "USB                          U.S. Bancorp  Financials\n",
       "UNM                            Unum Group  Financials\n",
       "WFC                           Wells Fargo  Financials\n",
       "ZION                        Zions Bancorp  Financials"
      ]
     },
     "metadata": {},
     "output_type": "display_data"
    }
   ],
   "source": [
    "companyTracker(corList, 'BAC', firms, 500, 1000, 500)"
   ]
  },
  {
   "cell_type": "code",
   "execution_count": 43,
   "metadata": {
    "collapsed": false
   },
   "outputs": [
    {
     "name": "stdout",
     "output_type": "stream",
     "text": [
      "k = 1000\n"
     ]
    },
    {
     "data": {
      "text/html": [
       "<div>\n",
       "<table border=\"1\" class=\"dataframe\">\n",
       "  <thead>\n",
       "    <tr style=\"text-align: right;\">\n",
       "      <th></th>\n",
       "      <th>Name</th>\n",
       "      <th>Sector</th>\n",
       "    </tr>\n",
       "    <tr>\n",
       "      <th>Symbol</th>\n",
       "      <th></th>\n",
       "      <th></th>\n",
       "    </tr>\n",
       "  </thead>\n",
       "  <tbody>\n",
       "    <tr>\n",
       "      <th>SNA</th>\n",
       "      <td>Snap-On Inc.</td>\n",
       "      <td>Consumer Discretionary</td>\n",
       "    </tr>\n",
       "    <tr>\n",
       "      <th>SWK</th>\n",
       "      <td>Stanley Black &amp; Decker</td>\n",
       "      <td>Consumer Discretionary</td>\n",
       "    </tr>\n",
       "    <tr>\n",
       "      <th>AFL</th>\n",
       "      <td>AFLAC Inc</td>\n",
       "      <td>Financials</td>\n",
       "    </tr>\n",
       "    <tr>\n",
       "      <th>AMG</th>\n",
       "      <td>Affiliated Managers Group Inc</td>\n",
       "      <td>Financials</td>\n",
       "    </tr>\n",
       "    <tr>\n",
       "      <th>AIG</th>\n",
       "      <td>American International Group, Inc.</td>\n",
       "      <td>Financials</td>\n",
       "    </tr>\n",
       "    <tr>\n",
       "      <th>AMP</th>\n",
       "      <td>Ameriprise Financial</td>\n",
       "      <td>Financials</td>\n",
       "    </tr>\n",
       "    <tr>\n",
       "      <th>AON</th>\n",
       "      <td>Aon plc</td>\n",
       "      <td>Financials</td>\n",
       "    </tr>\n",
       "    <tr>\n",
       "      <th>AJG</th>\n",
       "      <td>Arthur J. Gallagher &amp; Co.</td>\n",
       "      <td>Financials</td>\n",
       "    </tr>\n",
       "    <tr>\n",
       "      <th>BBT</th>\n",
       "      <td>BB&amp;T Corporation</td>\n",
       "      <td>Financials</td>\n",
       "    </tr>\n",
       "    <tr>\n",
       "      <th>BAC</th>\n",
       "      <td>Bank of America Corp</td>\n",
       "      <td>Financials</td>\n",
       "    </tr>\n",
       "    <tr>\n",
       "      <th>BRK-B</th>\n",
       "      <td>Berkshire Hathaway</td>\n",
       "      <td>Financials</td>\n",
       "    </tr>\n",
       "    <tr>\n",
       "      <th>BLK</th>\n",
       "      <td>BlackRock</td>\n",
       "      <td>Financials</td>\n",
       "    </tr>\n",
       "    <tr>\n",
       "      <th>SCHW</th>\n",
       "      <td>Charles Schwab Corporation</td>\n",
       "      <td>Financials</td>\n",
       "    </tr>\n",
       "    <tr>\n",
       "      <th>CB</th>\n",
       "      <td>Chubb Limited</td>\n",
       "      <td>Financials</td>\n",
       "    </tr>\n",
       "    <tr>\n",
       "      <th>CINF</th>\n",
       "      <td>Cincinnati Financial</td>\n",
       "      <td>Financials</td>\n",
       "    </tr>\n",
       "    <tr>\n",
       "      <th>C</th>\n",
       "      <td>Citigroup Inc.</td>\n",
       "      <td>Financials</td>\n",
       "    </tr>\n",
       "    <tr>\n",
       "      <th>CMA</th>\n",
       "      <td>Comerica Inc.</td>\n",
       "      <td>Financials</td>\n",
       "    </tr>\n",
       "    <tr>\n",
       "      <th>ETFC</th>\n",
       "      <td>E*Trade</td>\n",
       "      <td>Financials</td>\n",
       "    </tr>\n",
       "    <tr>\n",
       "      <th>FITB</th>\n",
       "      <td>Fifth Third Bancorp</td>\n",
       "      <td>Financials</td>\n",
       "    </tr>\n",
       "    <tr>\n",
       "      <th>BEN</th>\n",
       "      <td>Franklin Resources</td>\n",
       "      <td>Financials</td>\n",
       "    </tr>\n",
       "    <tr>\n",
       "      <th>GS</th>\n",
       "      <td>Goldman Sachs Group</td>\n",
       "      <td>Financials</td>\n",
       "    </tr>\n",
       "    <tr>\n",
       "      <th>HIG</th>\n",
       "      <td>Hartford Financial Svc.Gp.</td>\n",
       "      <td>Financials</td>\n",
       "    </tr>\n",
       "    <tr>\n",
       "      <th>HBAN</th>\n",
       "      <td>Huntington Bancshares</td>\n",
       "      <td>Financials</td>\n",
       "    </tr>\n",
       "    <tr>\n",
       "      <th>IVZ</th>\n",
       "      <td>Invesco Ltd.</td>\n",
       "      <td>Financials</td>\n",
       "    </tr>\n",
       "    <tr>\n",
       "      <th>JPM</th>\n",
       "      <td>JPMorgan Chase &amp; Co.</td>\n",
       "      <td>Financials</td>\n",
       "    </tr>\n",
       "    <tr>\n",
       "      <th>KEY</th>\n",
       "      <td>KeyCorp</td>\n",
       "      <td>Financials</td>\n",
       "    </tr>\n",
       "    <tr>\n",
       "      <th>LM</th>\n",
       "      <td>Legg Mason</td>\n",
       "      <td>Financials</td>\n",
       "    </tr>\n",
       "    <tr>\n",
       "      <th>LNC</th>\n",
       "      <td>Lincoln National</td>\n",
       "      <td>Financials</td>\n",
       "    </tr>\n",
       "    <tr>\n",
       "      <th>L</th>\n",
       "      <td>Loews Corp.</td>\n",
       "      <td>Financials</td>\n",
       "    </tr>\n",
       "    <tr>\n",
       "      <th>MTB</th>\n",
       "      <td>M&amp;T Bank Corp.</td>\n",
       "      <td>Financials</td>\n",
       "    </tr>\n",
       "    <tr>\n",
       "      <th>...</th>\n",
       "      <td>...</td>\n",
       "      <td>...</td>\n",
       "    </tr>\n",
       "    <tr>\n",
       "      <th>PGR</th>\n",
       "      <td>Progressive Corp.</td>\n",
       "      <td>Financials</td>\n",
       "    </tr>\n",
       "    <tr>\n",
       "      <th>PRU</th>\n",
       "      <td>Prudential Financial</td>\n",
       "      <td>Financials</td>\n",
       "    </tr>\n",
       "    <tr>\n",
       "      <th>RF</th>\n",
       "      <td>Regions Financial Corp.</td>\n",
       "      <td>Financials</td>\n",
       "    </tr>\n",
       "    <tr>\n",
       "      <th>STT</th>\n",
       "      <td>State Street Corp.</td>\n",
       "      <td>Financials</td>\n",
       "    </tr>\n",
       "    <tr>\n",
       "      <th>STI</th>\n",
       "      <td>SunTrust Banks</td>\n",
       "      <td>Financials</td>\n",
       "    </tr>\n",
       "    <tr>\n",
       "      <th>TROW</th>\n",
       "      <td>T. Rowe Price Group</td>\n",
       "      <td>Financials</td>\n",
       "    </tr>\n",
       "    <tr>\n",
       "      <th>BK</th>\n",
       "      <td>The Bank of New York Mellon Corp.</td>\n",
       "      <td>Financials</td>\n",
       "    </tr>\n",
       "    <tr>\n",
       "      <th>TRV</th>\n",
       "      <td>The Travelers Companies Inc.</td>\n",
       "      <td>Financials</td>\n",
       "    </tr>\n",
       "    <tr>\n",
       "      <th>TMK</th>\n",
       "      <td>Torchmark Corp.</td>\n",
       "      <td>Financials</td>\n",
       "    </tr>\n",
       "    <tr>\n",
       "      <th>USB</th>\n",
       "      <td>U.S. Bancorp</td>\n",
       "      <td>Financials</td>\n",
       "    </tr>\n",
       "    <tr>\n",
       "      <th>UNM</th>\n",
       "      <td>Unum Group</td>\n",
       "      <td>Financials</td>\n",
       "    </tr>\n",
       "    <tr>\n",
       "      <th>WFC</th>\n",
       "      <td>Wells Fargo</td>\n",
       "      <td>Financials</td>\n",
       "    </tr>\n",
       "    <tr>\n",
       "      <th>XL</th>\n",
       "      <td>XL Capital</td>\n",
       "      <td>Financials</td>\n",
       "    </tr>\n",
       "    <tr>\n",
       "      <th>ZION</th>\n",
       "      <td>Zions Bancorp</td>\n",
       "      <td>Financials</td>\n",
       "    </tr>\n",
       "    <tr>\n",
       "      <th>JNJ</th>\n",
       "      <td>Johnson &amp; Johnson</td>\n",
       "      <td>Health Care</td>\n",
       "    </tr>\n",
       "    <tr>\n",
       "      <th>MMM</th>\n",
       "      <td>3M Company</td>\n",
       "      <td>Industrials</td>\n",
       "    </tr>\n",
       "    <tr>\n",
       "      <th>AME</th>\n",
       "      <td>Ametek</td>\n",
       "      <td>Industrials</td>\n",
       "    </tr>\n",
       "    <tr>\n",
       "      <th>DHR</th>\n",
       "      <td>Danaher Corp.</td>\n",
       "      <td>Industrials</td>\n",
       "    </tr>\n",
       "    <tr>\n",
       "      <th>ETN</th>\n",
       "      <td>Eaton Corporation</td>\n",
       "      <td>Industrials</td>\n",
       "    </tr>\n",
       "    <tr>\n",
       "      <th>HON</th>\n",
       "      <td>Honeywell Int'l Inc.</td>\n",
       "      <td>Industrials</td>\n",
       "    </tr>\n",
       "    <tr>\n",
       "      <th>ITW</th>\n",
       "      <td>Illinois Tool Works</td>\n",
       "      <td>Industrials</td>\n",
       "    </tr>\n",
       "    <tr>\n",
       "      <th>LMT</th>\n",
       "      <td>Lockheed Martin Corp.</td>\n",
       "      <td>Industrials</td>\n",
       "    </tr>\n",
       "    <tr>\n",
       "      <th>NOC</th>\n",
       "      <td>Northrop Grumman Corp.</td>\n",
       "      <td>Industrials</td>\n",
       "    </tr>\n",
       "    <tr>\n",
       "      <th>PH</th>\n",
       "      <td>Parker-Hannifin</td>\n",
       "      <td>Industrials</td>\n",
       "    </tr>\n",
       "    <tr>\n",
       "      <th>ROP</th>\n",
       "      <td>Roper Industries</td>\n",
       "      <td>Industrials</td>\n",
       "    </tr>\n",
       "    <tr>\n",
       "      <th>ADP</th>\n",
       "      <td>Automatic Data Processing</td>\n",
       "      <td>Information Technology</td>\n",
       "    </tr>\n",
       "    <tr>\n",
       "      <th>FISV</th>\n",
       "      <td>Fiserv Inc</td>\n",
       "      <td>Information Technology</td>\n",
       "    </tr>\n",
       "    <tr>\n",
       "      <th>MA</th>\n",
       "      <td>Mastercard Inc.</td>\n",
       "      <td>Information Technology</td>\n",
       "    </tr>\n",
       "    <tr>\n",
       "      <th>PAYX</th>\n",
       "      <td>Paychex Inc.</td>\n",
       "      <td>Information Technology</td>\n",
       "    </tr>\n",
       "    <tr>\n",
       "      <th>V</th>\n",
       "      <td>Visa Inc.</td>\n",
       "      <td>Information Technology</td>\n",
       "    </tr>\n",
       "  </tbody>\n",
       "</table>\n",
       "<p>67 rows × 2 columns</p>\n",
       "</div>"
      ],
      "text/plain": [
       "                                      Name                  Sector\n",
       "Symbol                                                            \n",
       "SNA                           Snap-On Inc.  Consumer Discretionary\n",
       "SWK                 Stanley Black & Decker  Consumer Discretionary\n",
       "AFL                              AFLAC Inc              Financials\n",
       "AMG          Affiliated Managers Group Inc              Financials\n",
       "AIG     American International Group, Inc.              Financials\n",
       "AMP                   Ameriprise Financial              Financials\n",
       "AON                                Aon plc              Financials\n",
       "AJG              Arthur J. Gallagher & Co.              Financials\n",
       "BBT                       BB&T Corporation              Financials\n",
       "BAC                   Bank of America Corp              Financials\n",
       "BRK-B                   Berkshire Hathaway              Financials\n",
       "BLK                              BlackRock              Financials\n",
       "SCHW            Charles Schwab Corporation              Financials\n",
       "CB                           Chubb Limited              Financials\n",
       "CINF                  Cincinnati Financial              Financials\n",
       "C                           Citigroup Inc.              Financials\n",
       "CMA                          Comerica Inc.              Financials\n",
       "ETFC                               E*Trade              Financials\n",
       "FITB                   Fifth Third Bancorp              Financials\n",
       "BEN                     Franklin Resources              Financials\n",
       "GS                     Goldman Sachs Group              Financials\n",
       "HIG             Hartford Financial Svc.Gp.              Financials\n",
       "HBAN                 Huntington Bancshares              Financials\n",
       "IVZ                           Invesco Ltd.              Financials\n",
       "JPM                   JPMorgan Chase & Co.              Financials\n",
       "KEY                                KeyCorp              Financials\n",
       "LM                              Legg Mason              Financials\n",
       "LNC                       Lincoln National              Financials\n",
       "L                              Loews Corp.              Financials\n",
       "MTB                         M&T Bank Corp.              Financials\n",
       "...                                    ...                     ...\n",
       "PGR                      Progressive Corp.              Financials\n",
       "PRU                   Prudential Financial              Financials\n",
       "RF                 Regions Financial Corp.              Financials\n",
       "STT                     State Street Corp.              Financials\n",
       "STI                         SunTrust Banks              Financials\n",
       "TROW                   T. Rowe Price Group              Financials\n",
       "BK       The Bank of New York Mellon Corp.              Financials\n",
       "TRV           The Travelers Companies Inc.              Financials\n",
       "TMK                        Torchmark Corp.              Financials\n",
       "USB                           U.S. Bancorp              Financials\n",
       "UNM                             Unum Group              Financials\n",
       "WFC                            Wells Fargo              Financials\n",
       "XL                              XL Capital              Financials\n",
       "ZION                         Zions Bancorp              Financials\n",
       "JNJ                      Johnson & Johnson             Health Care\n",
       "MMM                             3M Company             Industrials\n",
       "AME                                 Ametek             Industrials\n",
       "DHR                          Danaher Corp.             Industrials\n",
       "ETN                      Eaton Corporation             Industrials\n",
       "HON                   Honeywell Int'l Inc.             Industrials\n",
       "ITW                    Illinois Tool Works             Industrials\n",
       "LMT                  Lockheed Martin Corp.             Industrials\n",
       "NOC                 Northrop Grumman Corp.             Industrials\n",
       "PH                         Parker-Hannifin             Industrials\n",
       "ROP                       Roper Industries             Industrials\n",
       "ADP              Automatic Data Processing  Information Technology\n",
       "FISV                            Fiserv Inc  Information Technology\n",
       "MA                         Mastercard Inc.  Information Technology\n",
       "PAYX                          Paychex Inc.  Information Technology\n",
       "V                                Visa Inc.  Information Technology\n",
       "\n",
       "[67 rows x 2 columns]"
      ]
     },
     "metadata": {},
     "output_type": "display_data"
    }
   ],
   "source": [
    "companyTracker(corList, 'BAC', firms, 1000, 2000, 1000)"
   ]
  },
  {
   "cell_type": "markdown",
   "metadata": {},
   "source": [
    "After running the clustering algorithm, for increasing values of $k$, it is observed that as $k$ increases more elements are added to the existing clusters and more new clusters are formed. Clusters are formed with stocks belonging to firms within the same industry. However, after a certain value of $k$, we see clusters merging and becoming more 'broad' – for example, what was initially two clusters – insurance and banking – becomes a general 'finance' cluster. \n",
    "\n",
    "In the above tables, *Bank of America Merrill Lynch* was tracked for different values of $k$ to see how the composition of its cluster changes when $k=\\{30, 50, 100, 500, 1000\\}$. For values of $k$ equal or less than $500$, we can only see companies from the Financial sector within its cluster. For $k = 1000$, firms from the Consumer Discretionary, Industrial and Information Technology sector join the sector. This may happen because one or two stocks from these indsutries may have a lower correlation with companies from the Financial sector."
   ]
  },
  {
   "cell_type": "markdown",
   "metadata": {},
   "source": [
    "Next, we define the function `plotSetPrices` which takes as inputs the stock prices of the S&P 500 companies, the resulting clusters of the clustering algorithm and the symbol of a company. What the function does is to plot the normalised prices of all the the companies that belong to the cluster of the specified company."
   ]
  },
  {
   "cell_type": "code",
   "execution_count": 44,
   "metadata": {
    "collapsed": false
   },
   "outputs": [],
   "source": [
    "def plotSetPrices(stockPrices, clusters, company):\n",
    "    \n",
    "    for i in range(len(clusters)):\n",
    "            if company in clusters[i]:\n",
    "                normPrices = stockPrices.loc[:, clusters[i]]\n",
    "                normPrices = normPrices / normPrices.iloc[0, :]\n",
    "                normPrices.plot(legend = True);"
   ]
  },
  {
   "cell_type": "code",
   "execution_count": 45,
   "metadata": {
    "collapsed": false
   },
   "outputs": [
    {
     "data": {
      "image/png": "[encoded data removed]",
      "text/plain": [
       "<matplotlib.figure.Figure at 0x118682e80>"
      ]
     },
     "metadata": {},
     "output_type": "display_data"
    }
   ],
   "source": [
    "clusters, noClusters = clusteringAlg(corList, k = 30)\n",
    "plotSetPrices(stockPrices, clusters, 'BAC')"
   ]
  },
  {
   "cell_type": "markdown",
   "metadata": {},
   "source": [
    "We can see from the above that in this case, the clusters do seem to \"make sense\" in the sense that they seem to have a similar pattern of price changes over the period."
   ]
  },
  {
   "cell_type": "markdown",
   "metadata": {},
   "source": [
    "## The extra part "
   ]
  },
  {
   "cell_type": "markdown",
   "metadata": {},
   "source": [
    "### In-depth analysis"
   ]
  },
  {
   "cell_type": "markdown",
   "metadata": {},
   "source": [
    "#### Algorithm Properties and Complexity"
   ]
  },
  {
   "cell_type": "markdown",
   "metadata": {},
   "source": [
    "The complexity of the clustering algorithm as discussed above is dependent on both $n$ and $k$, where n is the number of firms, and k is the number of iterations. The number of edges/correlations, $m$, is in this case $e=n(n+1)/2$\n",
    "\n",
    "The main loop is run k times, up to the point where k > m, at which point the algorithm is no longer able to loop through any more correlations.\n",
    "\n",
    "A few of properties of the algorithm are as follows:\n",
    "* After the $k$th iteration, the maximum number of firms in a cluster is min(k+1,n), as one can simply add a link to a \"new\" node in every iteration, starting from k=0 where all clusters are of size 1, and one can do this up until all nodes have been connected.\n",
    "* After the $k$th iteration, the minimum number of clusters is max(1,n-k), which corresponds to the case above.\n",
    "* After the $k$th iteration, the maximum number of clusters is between n and n-k, in fact the maximum number of clusters is n minus the maximum number that when triangled, is less than or equal to n.\n",
    "\n",
    "For the below, we are interested in cases where k is <= m.\n",
    "\n",
    "The complexity of the algorithm is O($n^2logn + nk$):\n",
    "\n",
    "##George\n",
    "1. Sort the edges in the graph by their weight (ie the correlation) - O($mlogm$), so O($n^2logn$)\n",
    "2. Create a single-node set from each node in the graph - O($n$)\n",
    "3. Repeat k times\n",
    "    1. Pick the highest-weight edge - O($1$) as the list is sorted.\n",
    "    2. Check whether the clusters are already in the same set - O($n$) to check whether either  the source or destination nodes are in any of the sets.\n",
    "    3. Merge the sets containing the source and the destination of the edge - O(length(set1) + length(set2)) which is maximally O($n$) if you are making a union of the set of n nodes with itself.\n",
    "    4. Repeat from A. with the next-highest weight edge\n",
    "4. Return the remaining sets - O($1$).\n",
    "\n",
    "##Louise\n",
    "1. Sort the edges in the graph by their weight (ie the correlation) - O($mlogm$), so O($n^2logn$)\n",
    "2. Create a single-node set from each node in the graph - O($n$)\n",
    "3. Repeat k times\n",
    "    1. Pick the highest-weight edge - O($1$) as the list is sorted.\n",
    "    2. Check whether the clusters are already in the same set - O($n$) to check the top and bottom node of the source and destination - sets can be maximally n-nodes long\n",
    "    3. Merge the sets containing the source and the destination of the edge - O(1)\n",
    "    4. Repeat from A. with the next-highest weight edge\n",
    "4. Return the remaining sets - O($n$) by looping through all start nodes and all following nodes to add them each to the set."
   ]
  },
  {
   "cell_type": "markdown",
   "metadata": {},
   "source": [
    "In practice, at least for the data we have, the implementation of this algorithm can be improved. Two alternative algorithms have been created and their running time for multiple ks compared. \n",
    "\n",
    "* Algorithm 1 : As per the above.\n",
    "* Algorithm 2 : Takes a graph as input, sorts the list of correlations (edges), initialises all firms to be in their own set, then loops k times to merge the source and target set together, and stores the merged in the dictionary once for each firm in the set, after those k iterations it de-duplicates the sets and returns them.\n",
    "* Algorithm 3 : As per the assignment description, sorts the list of correlations, points all firms to themselves, and then loops k times to find the \"bottom node\" and \"top node\" to check if the firms are in the same set, if not then points the bottom node of the source to the start node of the destination, after those k iterations it returns the list of sets based on following each start node to its bottom node.\n",
    "\n",
    "Our analysis below shows that keeping n constant, Algorithm 1 is less sensitive to k than Algorithm 2, which is in turn less sensitive to k than Algorithm 3. Algorithm 3 seems from our data to be quite linear in k, (the time doubling as k goes from 50,000 to 100,000), whereas for our sample sizes, Algorithm 1 outperforms the others when k is large.\n",
    "\n",
    "These algorithms are kept in a separate file and are imported for this analysis, their algorithmic complexity is also outlined in the file \"ClusteringAlgorithmComparison2\"."
   ]
  },
  {
   "cell_type": "code",
   "execution_count": 57,
   "metadata": {
    "collapsed": true
   },
   "outputs": [],
   "source": [
    "import ClusteringAlgorithmComparison as cac\n",
    "import ClusteringAlgorithm2Preprocessing as cpp"
   ]
  },
  {
   "cell_type": "code",
   "execution_count": 58,
   "metadata": {
    "collapsed": true
   },
   "outputs": [],
   "source": [
    "##Pre processing for algorithm 2\n",
    "dailyReturn = cpp.stockReturns(stockPrices)\n",
    "corr, corrGraph = cpp.calCorrelations(dailyReturn)"
   ]
  },
  {
   "cell_type": "markdown",
   "metadata": {},
   "source": [
    "For **k=5,000**, the results of the clustering algorithms 1,2,3 are shown below in order:"
   ]
  },
  {
   "cell_type": "code",
   "execution_count": 59,
   "metadata": {
    "collapsed": false
   },
   "outputs": [
    {
     "name": "stdout",
     "output_type": "stream",
     "text": [
      "1 loop, best of 3: 1.48 s per loop\n"
     ]
    }
   ],
   "source": [
    "%timeit results = cac.clusteringAlg1(corList, 5000)"
   ]
  },
  {
   "cell_type": "code",
   "execution_count": 60,
   "metadata": {
    "collapsed": false
   },
   "outputs": [
    {
     "name": "stdout",
     "output_type": "stream",
     "text": [
      "1 loop, best of 3: 242 ms per loop\n"
     ]
    }
   ],
   "source": [
    "%timeit results = cac.clusteringAlg2(corrGraph, 5000)"
   ]
  },
  {
   "cell_type": "code",
   "execution_count": 61,
   "metadata": {
    "collapsed": false
   },
   "outputs": [
    {
     "name": "stdout",
     "output_type": "stream",
     "text": [
      "1 loop, best of 3: 294 ms per loop\n"
     ]
    }
   ],
   "source": [
    "%timeit results = cac.clusteringAlg3(corList, 5000)"
   ]
  },
  {
   "cell_type": "markdown",
   "metadata": {},
   "source": [
    "For **k=50,000**, the results of the clustering algorithms 1,2,3 are shown below in order:"
   ]
  },
  {
   "cell_type": "code",
   "execution_count": 62,
   "metadata": {
    "collapsed": false
   },
   "outputs": [
    {
     "name": "stdout",
     "output_type": "stream",
     "text": [
      "1 loop, best of 3: 1.65 s per loop\n"
     ]
    }
   ],
   "source": [
    "%timeit results = cac.clusteringAlg1(corList, 50000)"
   ]
  },
  {
   "cell_type": "code",
   "execution_count": 63,
   "metadata": {
    "collapsed": false
   },
   "outputs": [
    {
     "name": "stdout",
     "output_type": "stream",
     "text": [
      "1 loop, best of 3: 1.49 s per loop\n"
     ]
    }
   ],
   "source": [
    "%timeit resultslf = cac.clusteringAlg2(corrGraph, 50000)"
   ]
  },
  {
   "cell_type": "code",
   "execution_count": 64,
   "metadata": {
    "collapsed": false
   },
   "outputs": [
    {
     "name": "stdout",
     "output_type": "stream",
     "text": [
      "1 loop, best of 3: 5.35 s per loop\n"
     ]
    }
   ],
   "source": [
    "%timeit results = cac.clusteringAlg3(corList, 50000)"
   ]
  },
  {
   "cell_type": "markdown",
   "metadata": {},
   "source": [
    "For **k=100,000**, the results of the clustering algorithms 1,2,3 are shown below in order:"
   ]
  },
  {
   "cell_type": "code",
   "execution_count": 65,
   "metadata": {
    "collapsed": false
   },
   "outputs": [
    {
     "name": "stdout",
     "output_type": "stream",
     "text": [
      "1 loop, best of 3: 1.81 s per loop\n"
     ]
    }
   ],
   "source": [
    "%timeit results = cac.clusteringAlg1(corList, 100000)"
   ]
  },
  {
   "cell_type": "code",
   "execution_count": 66,
   "metadata": {
    "collapsed": false
   },
   "outputs": [
    {
     "name": "stdout",
     "output_type": "stream",
     "text": [
      "1 loop, best of 3: 2.95 s per loop\n"
     ]
    }
   ],
   "source": [
    "%timeit resultslf = cac.clusteringAlg2(corrGraph, 100000)"
   ]
  },
  {
   "cell_type": "code",
   "execution_count": 67,
   "metadata": {
    "collapsed": false
   },
   "outputs": [
    {
     "name": "stdout",
     "output_type": "stream",
     "text": [
      "1 loop, best of 3: 10.9 s per loop\n"
     ]
    }
   ],
   "source": [
    "%timeit resultslf = cac.clusteringAlg3(corList, 100000)"
   ]
  },
  {
   "cell_type": "markdown",
   "metadata": {
    "collapsed": true
   },
   "source": [
    "#### Stock correlations of the 5 tech stocks in 2014"
   ]
  },
  {
   "cell_type": "markdown",
   "metadata": {},
   "source": [
    "In the main section of the report, we looked at the top correlated stocks with the 5 tech companies in 2015. We will now look to see whether these correlations exist in 2014 as well. Stock prices of the S&P500 companies in 2014 were drawn from the Yahoo Finance website and correlations are calculated based on the data."
   ]
  },
  {
   "cell_type": "code",
   "execution_count": null,
   "metadata": {
    "collapsed": true
   },
   "outputs": [],
   "source": [
    "#pull stock tickers from S&P500 list and convert them into a list\n",
    "\n",
    "stocktickers = corMatrix.columns\n",
    "stocktickers = list(stocktickers)"
   ]
  },
  {
   "cell_type": "markdown",
   "metadata": {},
   "source": [
    "To pull data from the Yahoo Finance website, we used helper functions from hw2.py to generate the helper function `getStockfromYahoo`, which requires two inputs: the year of the data and the list of stock tickers of interest. It returns a dataframe of stock prices over the year for the specified stocks."
   ]
  },
  {
   "cell_type": "code",
   "execution_count": null,
   "metadata": {
    "collapsed": true
   },
   "outputs": [],
   "source": [
    "import pandas_datareader.data as web\n",
    "from datetime import datetime\n",
    "\n",
    "#additional helper functions from hw2.py file\n",
    "\n",
    "def getStock(symbol, start, end):\n",
    "    \"\"\"\n",
    "    Downloads stock price data from Yahoo Finance\n",
    "    Returns a pandas dataframe.\n",
    "    \"\"\"\n",
    "    df =  web.DataReader(symbol, 'yahoo', start, end)\n",
    "    return df\n",
    "\n",
    "def getClose(df):\n",
    "    \"\"\"\n",
    "    Returns stock price dataframe's adjusted closing price as a list\n",
    "    \"\"\"\n",
    "    L = df['Adj Close'].values.tolist()\n",
    "    return L"
   ]
  },
  {
   "cell_type": "code",
   "execution_count": null,
   "metadata": {
    "collapsed": true
   },
   "outputs": [],
   "source": [
    "def getStockfromYahoo(year, stocktickers):\n",
    "    start = datetime(year,1,1)\n",
    "    finish = datetime(year,12,31)\n",
    "    stockdf = DataFrame()\n",
    "    a = 0\n",
    "    \n",
    "    for i in stocktickers:\n",
    "        try:\n",
    "            if a == 0:\n",
    "                stock = getStock(i,start, finish)\n",
    "                stock = stock.loc[:, 'Close']\n",
    "                stockdf = DataFrame(stock)\n",
    "                stockdf = stockdf.rename(columns={'Close': i})\n",
    "                a = a + 1\n",
    "            else:            \n",
    "                stock = getStock(i,start, finish)\n",
    "                stock = stock.loc[:, 'Close']\n",
    "                stockdf = stockdf.join(stock)\n",
    "                stockdf = stockdf.rename(columns={'Close': i})\n",
    "        except:\n",
    "            pass\n",
    "    \n",
    "    return stockdf"
   ]
  },
  {
   "cell_type": "code",
   "execution_count": null,
   "metadata": {
    "collapsed": false
   },
   "outputs": [],
   "source": [
    "#create dataframe with stock prices\n",
    "\n",
    "data_2014 = getStockfromYahoo(2014, stocktickers)"
   ]
  },
  {
   "cell_type": "code",
   "execution_count": null,
   "metadata": {
    "collapsed": true
   },
   "outputs": [],
   "source": [
    "#calculate stock returns for 2014 data\n",
    "\n",
    "sr_2014 = stockReturns(data_2014)"
   ]
  },
  {
   "cell_type": "code",
   "execution_count": null,
   "metadata": {
    "collapsed": true
   },
   "outputs": [],
   "source": [
    "#create correlation matrix for 2014\n",
    "\n",
    "corr_2014 = calCorrelations(sr_2014)[0]"
   ]
  },
  {
   "cell_type": "code",
   "execution_count": null,
   "metadata": {
    "collapsed": false
   },
   "outputs": [],
   "source": [
    "#top and bottom correlated companies for FB\n",
    "\n",
    "pd.DataFrame(highLowCorrelation(corr_2014, 'FB')[0])"
   ]
  },
  {
   "cell_type": "code",
   "execution_count": null,
   "metadata": {
    "collapsed": false
   },
   "outputs": [],
   "source": [
    "pd.DataFrame(highLowCorrelation(corr_2014, 'FB')[1])"
   ]
  },
  {
   "cell_type": "code",
   "execution_count": null,
   "metadata": {
    "collapsed": false
   },
   "outputs": [],
   "source": [
    "#correlation between BRK-B and MSFT\n",
    "\n",
    "cal2CompCor(corr_2014, firms, 'BRK-B', 'MSFT')"
   ]
  },
  {
   "cell_type": "markdown",
   "metadata": {},
   "source": [
    "When we looked at the top and bottom correlated stocks for the 5 tech companies in 2014, we saw a change in the results. For example, for Facebook in 2015, the top correlated companies were mostly from the IT industry, but in 2014, it was most highly correlated with companies from the healthcare industry.\n",
    "\n",
    "Overall, most of the companies which had the highest correlation with the 5 tech companies in 2015 did not appear in the top 5 correlated companies in 2014, which suggests that many of the surprising results seen before e.g. Starbucks stocks having high correlation with Facebook stocks in 2015, were probably due to chance. (Starbucks stocks and Facebook stocks have a correlation of 0.60 and 0.34 in 2015 and 2014 respectively)\n",
    "\n",
    "On the other hand, for Microsoft and Berkshire-Hathaway, we still find positive correlation between the two stocks in 2014, though not as strong (0.59 in 2015, 0.43 in 2014). This is interesting because though the two companies are from different industries, their stocks are moderately correlated over a period of two years. This may warrant further investigation, to see whether this relationship exists over an even longer period of time."
   ]
  },
  {
   "cell_type": "markdown",
   "metadata": {},
   "source": [
    "### Exploring other clustering methods"
   ]
  },
  {
   "cell_type": "code",
   "execution_count": null,
   "metadata": {
    "collapsed": true
   },
   "outputs": [],
   "source": [
    "def getStockDetails(ticker, clusterSets, firmDF):\n",
    "    \n",
    "    # if the ticker given is in a single set cluster\n",
    "    if {ticker} in clusterSets:\n",
    "        return firmDF.loc[ticker, :]\n",
    "    else:\n",
    "        for i in range(len(clusterSets)):\n",
    "            if ticker in clusterSets[i]:\n",
    "                return firmDF.loc[clusterSets[i], :].sort_values(['Sector', 'Name'])"
   ]
  },
  {
   "cell_type": "markdown",
   "metadata": {},
   "source": [
    "#### Average Linkage Clustering \n",
    "\n",
    "The first alternative clustering algorithm we will be looking at is Average Linkage Clustering. Both Average-Linkage Clustering and Single-Linkage Clustering are subtypes of Agglomerative Hierarchical Clustering. The difference between these two clustering methods is the definition of 'shortest distance'. Note that in our earlier example, correlation between stocks was used to represent similarities. We can think of correlation as the inverse of 'distance' between the nodes.  \n",
    "\n",
    "In single-linkage clustering, the distance between two clusters is determined by a single element pair (one from each cluster) which are closest to each other. The algorithm always chooses the shortest of these links while merging two clusters. While merging cluster, other than the aforementioned element pair, single-linkage clustering disregards the distances to all other elements in the cluster. Consequently, it tends to produce large cluster where certain pairs of elements are dissimilar to each other.  \n",
    "\n",
    "However, in average-linkage clustering, the distance between two clusters is defined as the average of all distances between pairs of objects (each from the two distinct clusters). This helps to prevent the so-called chaining phenomenon experienced by single-linkage clustering, where many of the elements in each cluster may be very dissimilar.  \n",
    "\n",
    "##### Python Code  \n",
    "\n",
    "The following section includes the Python code in performing average-linkage clustering using scikit-learn. Since the scikit-learn function requires a distance matrix, we will need to convert the correlation matrix into distance matrix.    \n",
    "\n",
    "Convert the correlation matrix into distance matrix. Correlation is within the interval [-1, 1] and a higher value reflects greater similarity. We'll need to transform correlation value into distance, hence we get the absolute value of (correlation - 1). The resulting value will be a distance within interval [0, 2] and a higher value reflects lower similarity.  "
   ]
  },
  {
   "cell_type": "code",
   "execution_count": null,
   "metadata": {
    "collapsed": true
   },
   "outputs": [],
   "source": [
    "from sklearn.cluster import AgglomerativeClustering\n",
    "\n",
    "def stockClusteringAgglomerative(corrDF, num_clusters):\n",
    "    \n",
    "    # Store column names as company's ticker symbol\n",
    "    compTickers = corrDF.columns\n",
    "    \n",
    "    # Transform correlation matrix into distance matrix\n",
    "    affinityMatrix = abs(corrDF.as_matrix() - 1)\n",
    "    \n",
    "    # Run agglomerative clustering with average-linkage with precomputed distance matrix\n",
    "    model = AgglomerativeClustering(linkage = 'average', affinity = 'precomputed', n_clusters = num_clusters)\n",
    "    aggFit = model.fit(affinityMatrix)\n",
    "    \n",
    "    resultSets = [set()] * num_clusters\n",
    "    i = 0\n",
    "    \n",
    "    # Return the clustering results in the form of \"list of sets\", each set representing a cluster\n",
    "    for l in aggFit.labels_:\n",
    "        resultSets[l] = resultSets[l].union({compTickers[i]})\n",
    "        i += 1\n",
    "        \n",
    "    return resultSets"
   ]
  },
  {
   "cell_type": "markdown",
   "metadata": {},
   "source": [
    "#### K-Means Clustering \n",
    "\n",
    "The second clustering algorithm we use is K-Means Clustering. To use K-Means clustering, we need to define the \"features\" of each node. Correlation only provides the distance between each node and hence is not sufficient for K-Means clustering. In this case, we define the features to be daily price change (in percentage) of each individual stock. This information is contained in the daily return matrix where each column contains the daily price change in terms of percentage.  \n",
    "\n",
    "K-Means clustering attempts to fit K number of centroids to the dataset such that the total sum of distance from each node to its corresponding centroid is minimised. One characterisitc of K-Means clustering is that it tends to separate data into clusters of roughly equal size. In other words, it assumes the data distribution to be separable with K spherical clusters. This might not work well on certain data where this assumption does not hold true.  \n",
    "\n",
    "Lastly, since K-Means clustering assumes the data to be separable using K spherical clusters of roughly equal size, the choice of K value is key. A bad choice of K can lead to bad results. We will explore this in later section.  \n",
    "\n",
    "##### Python Code  \n",
    "\n",
    "The following section includes the Python code in performing K-Means clustering using scikit-learn. As mentioned above, K-Means clustering function requires a list of vectors defining the \"features\" of each stock. We will use the daily return for K-Means clustering algorithm.  "
   ]
  },
  {
   "cell_type": "code",
   "execution_count": null,
   "metadata": {
    "collapsed": true
   },
   "outputs": [],
   "source": [
    "from sklearn.cluster import KMeans\n",
    "\n",
    "def stockClusteringKMeans(dailyReturn, num_clusters):\n",
    "    \n",
    "    # Store column names as company's ticker symbol\n",
    "    compTickers = dailyReturn.columns\n",
    "    \n",
    "    # Transpose the daily return matrix so that each row contains all the price changes of a particular stock\n",
    "    dailyReturnArray = dailyReturn.as_matrix().transpose()\n",
    "    \n",
    "    # Run K-Means clustering with random centroid initialisation\n",
    "    kmeans = KMeans(n_clusters = num_clusters, random_state = 0).fit(dailyReturnArray)\n",
    "    \n",
    "    resultSets = [set()] * num_clusters\n",
    "    i = 0\n",
    "    \n",
    "    # Return the clustering results in the form of \"list of sets\", each set representing a cluster\n",
    "    for l in kmeans.labels_:\n",
    "        resultSets[l] = resultSets[l].union({compTickers[i]})\n",
    "        i += 1\n",
    "    \n",
    "    return resultSets"
   ]
  },
  {
   "cell_type": "markdown",
   "metadata": {},
   "source": [
    "#### Clustering Results Comparison\n",
    "\n",
    "##### Single-Linkage Clustering (K = 1000, Number of Clusters = 327)\n",
    "\n",
    "As seen in earlier section, the \"greedy\" clustering algorithm (a.k.a. single-linkage clustering) tends to produce a very large cluster with dissimilar elements within the same cluster when K is large. For instance, it groups the following stocks within the same cluster as Bank of America (BAC).  "
   ]
  },
  {
   "cell_type": "code",
   "execution_count": null,
   "metadata": {
    "collapsed": false
   },
   "outputs": [],
   "source": [
    "clusters, noClusters = clusteringAlg(corList, k = 1000)\n",
    "\n",
    "getStockDetails('BAC', clusters, firms)"
   ]
  },
  {
   "cell_type": "markdown",
   "metadata": {},
   "source": [
    "We can notice that there are many non-financials stocks in this cluster. Many Consumer Discretionary, Health Care, Industrials and Information Technology stocks have been mis-classified under this cluster. This demonstrates the weakness of single-linkage clustering: it produces long thin clusters where nearby elements are similar, but elements at the opposite ends of a cluster may be very dissimilar.  \n",
    "\n",
    "##### Average-Linkage Clustering (Number of Clusters = 327)\n",
    "\n",
    "Next, we will see how average linkage clustering addresses this issue. The average-linkage clustering is invoked to produce equally many clusters as the \"greedy\" single-linkage clustering algorithm.  \n",
    "\n",
    "The below table tabulates the list of companies within the same cluster as Bank of America if average-linkage clustering is used.  "
   ]
  },
  {
   "cell_type": "code",
   "execution_count": null,
   "metadata": {
    "collapsed": false
   },
   "outputs": [],
   "source": [
    "# Call cluster-linkage clustering using correlation DF, and num_cluster = number of clusters produced earlier\n",
    "clusterAggAveLinkage = stockClusteringAgglomerative(corMatrix, len(clusters))\n",
    "\n",
    "getStockDetails('BAC', clusterAggAveLinkage, firms)"
   ]
  },
  {
   "cell_type": "markdown",
   "metadata": {},
   "source": [
    "As we can see, this cluster remains of manageable size and all the companies within this cluster are financials companies. All the elements are rather similar to each other, compared with the results obtained from single-linkage clustering.  \n",
    "\n",
    "While computing the distance between two clusters, average-linkage clustering considers the average distance between all the element pairs from the two clusters and this has evidently produced a better clustering results than the \"greedy\" single-linkage clustering.  \n",
    "\n",
    "### K-Means Clustering (K = 327)\n",
    "\n",
    "Lastly, we shall inspect the clusters formed using K-Means clustering algorithm. We shall invoke the K-Means clustering algorithm to produce equally many clusters as the \"greedy\" single-linkage clustering algorithm.  \n",
    "\n",
    "Let's find out which cluster Bank of America belongs to.  "
   ]
  },
  {
   "cell_type": "code",
   "execution_count": null,
   "metadata": {
    "collapsed": false,
    "scrolled": true
   },
   "outputs": [],
   "source": [
    "# Construct the daily returns data frame again\n",
    "dailyReturns = stockReturns(stockPrices)\n",
    "\n",
    "# Call K-Means clustering using daily return DF, and num_cluster = number of clusters produced earlier\n",
    "clusterKMeans = stockClusteringKMeans(dailyReturns, len(clusters))\n",
    "\n",
    "getStockDetails('BAC', clusterKMeans, firms)"
   ]
  },
  {
   "cell_type": "markdown",
   "metadata": {},
   "source": [
    "As mentioned in earlier section, K-Means clustering tends to separate the data into clusters of equal size. A high value of K would separate the companies into many small clusters. As we can see from the above table, the cluster (which Bank of America belong to) is a much smaller cluster with only 8 financials companies.  \n",
    "\n",
    "Other financials companies are separated into different clusters, such as Zions Bancrop:"
   ]
  },
  {
   "cell_type": "code",
   "execution_count": null,
   "metadata": {
    "collapsed": false
   },
   "outputs": [],
   "source": [
    "getStockDetails('ZION', clusterKMeans, firms)"
   ]
  },
  {
   "cell_type": "markdown",
   "metadata": {},
   "source": [
    "And U.S. Bancorp:"
   ]
  },
  {
   "cell_type": "code",
   "execution_count": null,
   "metadata": {
    "collapsed": false
   },
   "outputs": [],
   "source": [
    "getStockDetails('USB', clusterKMeans, firms)"
   ]
  },
  {
   "cell_type": "markdown",
   "metadata": {},
   "source": [
    "In this run of the K-Means Clustering algorithm, K is a very high number, 327. As we can see, a high number of K performs very granular division and separates similar financials companies into different clusters. A smaller number of K might potentially yield better results.  "
   ]
  },
  {
   "cell_type": "markdown",
   "metadata": {},
   "source": [
    "### K-Means Clustering Revisited (K = 50)  \n",
    "\n",
    "Since a high K value may give us too many small and granular clusters, we shall now try a lower value of K. In this section, we will rerun the algorithm with K = 50 and find out what other companies are in the same cluster as Bank of America.  "
   ]
  },
  {
   "cell_type": "code",
   "execution_count": null,
   "metadata": {
    "collapsed": false
   },
   "outputs": [],
   "source": [
    "# Re-run K-Means clustering with num_cluster = 50\n",
    "clusterKMeans = stockClusteringKMeans(dailyReturns, 50)\n",
    "\n",
    "getStockDetails('BAC', clusterKMeans, firms)"
   ]
  },
  {
   "cell_type": "markdown",
   "metadata": {},
   "source": [
    "This time, the cluster is much larger and contains the other relevant financials companies. By reducing K, K-Means clustering divides the companies into a bigger cluster of similar companies.  \n",
    "\n",
    "However, recall that K-Means clustering expects all the clusters to be of similar size. Reducing K also result in an unnecessarily large cluster like below.  "
   ]
  },
  {
   "cell_type": "code",
   "execution_count": null,
   "metadata": {
    "collapsed": false
   },
   "outputs": [],
   "source": [
    "getStockDetails('JNJ', clusterKMeans, firms)"
   ]
  },
  {
   "cell_type": "markdown",
   "metadata": {},
   "source": [
    "Johnson & Johnson, a pharmaceutical company, is correctly placed under the Health Care cluster. However, some companies in other sectors (such as Consumer Discretionary, Consumer Staples, Financials and Industrials) are also placed in the same cluster. As we can see, a lower K value results in overly large clusters with dissimilar companies.  \n",
    "\n",
    "In conclusion, the choice of K is crucial in producing an accurate clustering result. Some diagnostic checks can be performed on the data in order to determine the near-optimal choice. Also, the assumption of near-equal sized spherical cluster may not hold true for certain data distribution and it may be better to use other clustering algorithms in our case (in clustering different stocks within S&P 500)."
   ]
  },
  {
   "cell_type": "markdown",
   "metadata": {},
   "source": [
    "# Notes"
   ]
  },
  {
   "cell_type": "markdown",
   "metadata": {},
   "source": [
    "*Any notes or comments about the report to be listed here:*\n",
    "\n",
    "* "
   ]
  },
  {
   "cell_type": "code",
   "execution_count": null,
   "metadata": {
    "collapsed": true
   },
   "outputs": [],
   "source": []
  }
 ],
 "metadata": {
  "anaconda-cloud": {},
  "kernelspec": {
   "display_name": "Python [Root]",
   "language": "python",
   "name": "Python [Root]"
  },
  "language_info": {
   "codemirror_mode": {
    "name": "ipython",
    "version": 3
   },
   "file_extension": ".py",
   "mimetype": "text/x-python",
   "name": "python",
   "nbconvert_exporter": "python",
   "pygments_lexer": "ipython3",
   "version": "3.5.2"
  }
 },
 "nbformat": 4,
 "nbformat_minor": 0
}
