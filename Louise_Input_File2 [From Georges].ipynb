{
 "cells": [
  {
   "cell_type": "code",
   "execution_count": 1,
   "metadata": {
    "collapsed": false
   },
   "outputs": [
    {
     "name": "stdout",
     "output_type": "stream",
     "text": [
      "  Symbol                 Name                  Sector\n",
      "0    MMM           3M Company             Industrials\n",
      "1    ABT  Abbott Laboratories             Health Care\n",
      "2   ABBV               AbbVie             Health Care\n",
      "3    ACN        Accenture plc  Information Technology\n",
      "4   ATVI  Activision Blizzard  Information Technology\n"
     ]
    }
   ],
   "source": [
    "import pandas as pd # for dataframes manipulation\n",
    "#import matplotlib.pyplot as plt\n",
    "\n",
    "# Import the data\n",
    "firms = pd.read_csv('SP_500_firms.csv')\n",
    "close_prices = pd.read_csv('SP_500_close_2015.csv')\n",
    "\n",
    "# Create subset of the original dataset which includes\n",
    "# only 10 firms - used for test purposes\n",
    "firms_small = firms.iloc[:10, :]\n",
    "close_prices_small = close_prices.iloc[:, :11]\n",
    "\n",
    "print(firms_small[:5])"
   ]
  },
  {
   "cell_type": "code",
   "execution_count": 2,
   "metadata": {
    "collapsed": false
   },
   "outputs": [
    {
     "name": "stdout",
     "output_type": "stream",
     "text": [
      "         Date         MMM        ABT       ABBV        ACN       ATVI  \\\n",
      "0  2015-01-02  156.678596  43.160459  61.986410  86.129228  19.765196   \n",
      "1  2015-01-05  153.145069  43.170070  60.819874  84.674997  19.490271   \n",
      "2  2015-01-06  151.511999  42.679830  60.518833  84.064223  19.126976   \n",
      "3  2015-01-07  152.610267  43.025880  62.964797  85.828689  18.714587   \n",
      "4  2015-01-08  156.267949  43.910238  63.623323  87.137495  18.901144   \n",
      "\n",
      "          AYI       ADBE         AAP        AES        AET  \n",
      "0  139.234407  72.339996  158.132353  12.860543  87.354435  \n",
      "1  135.889914  71.980003  156.047994  12.494440  86.173965  \n",
      "2  134.187800  70.529999  155.938290  12.212822  86.301853  \n",
      "3  136.566769  71.110001  159.289228  12.231597  88.033197  \n",
      "4  141.344618  72.919998  160.685446  12.419342  90.885990  \n"
     ]
    }
   ],
   "source": [
    "print(close_prices_small[:5])"
   ]
  },
  {
   "cell_type": "code",
   "execution_count": 3,
   "metadata": {
    "collapsed": false
   },
   "outputs": [],
   "source": [
    "# ### 1 ###\n",
    "# Create a function that takes a dataframe with closing prices \n",
    "# and returns a dataframe with daily returns\n",
    "# Date is to define whether the dataframe has a first\n",
    "def StockReturns(cl_p, Date = True):\n",
    "    \"\"\"\n",
    "    Input:  The dataframe with the prices of the stocks\n",
    "            A logical argument that equals True if the first column\n",
    "            in the dataframe represents dates, False otherwise\n",
    "    Output: A dataframe with the daily returns of the stocks - same \n",
    "            number of columns as the input vector and one row less \n",
    "            than the input vector\n",
    "    \"\"\"    \n",
    "    if Date:\n",
    "        d_ret = pd.DataFrame(cl_p.iloc[1:, 0], columns=['Date'])\n",
    "        j = 1\n",
    "    else:\n",
    "        d_ret = pd.DataFrame()\n",
    "        j = 0\n",
    "    for i in range(j, cl_p.shape[1]):\n",
    "        d_ret[cl_p.columns[i]] = (cl_p.iloc[1:,i].values - cl_p.iloc[:-1,i].values) / cl_p.iloc[:-1,i].values\n",
    "    return d_ret"
   ]
  },
  {
   "cell_type": "code",
   "execution_count": 4,
   "metadata": {
    "collapsed": false
   },
   "outputs": [
    {
     "name": "stdout",
     "output_type": "stream",
     "text": [
      "         Date       MMM       ABT      ABBV       ACN\n",
      "1  2015-01-05 -0.022553  0.000223 -0.018819 -0.016884\n",
      "2  2015-01-06 -0.010664 -0.011356 -0.004950 -0.007213\n",
      "3  2015-01-07  0.007249  0.008108  0.040417  0.020989\n",
      "4  2015-01-08  0.023967  0.020554  0.010459  0.015249\n",
      "5  2015-01-09 -0.012284 -0.010508 -0.027355 -0.001113\n",
      "        MMM       ABT      ABBV       ACN      ATVI\n",
      "0 -0.022553  0.000223 -0.018819 -0.016884 -0.013910\n",
      "1 -0.010664 -0.011356 -0.004950 -0.007213 -0.018640\n",
      "2  0.007249  0.008108  0.040417  0.020989 -0.021561\n",
      "3  0.023967  0.020554  0.010459  0.015249  0.009969\n",
      "4 -0.012284 -0.010508 -0.027355 -0.001113 -0.018182\n"
     ]
    }
   ],
   "source": [
    "# Test the previous function on the small dataset\n",
    "\n",
    "# Daily returns including the Date column    \n",
    "daily_returns = StockReturns(close_prices_small) \n",
    "print(daily_returns.iloc[:5, :5])\n",
    "\n",
    "# Daily returns excluding the Date column\n",
    "daily_returns_2 = StockReturns(close_prices_small.iloc[:, 1:], Date = False)\n",
    "print(daily_returns_2.iloc[:5, :5])   "
   ]
  },
  {
   "cell_type": "code",
   "execution_count": null,
   "metadata": {
    "collapsed": false
   },
   "outputs": [],
   "source": []
  },
  {
   "cell_type": "code",
   "execution_count": 5,
   "metadata": {
    "collapsed": true
   },
   "outputs": [],
   "source": [
    "# ### 2 ###\n",
    "# Create a function that returns a list of correlations between all the\n",
    "# firms\n",
    "def Correlations(d_ret):\n",
    "    \"\"\"\n",
    "    Input:  A dataframe with the daily returns of the stocks - The \n",
    "            first column can either indicate dates or not\n",
    "    Output: A list of tuples. Each tuple in the list have 3 elements:\n",
    "            1. The correlation between two firms\n",
    "            2 and 3. The firms for which we compute the correlation\n",
    "    \"\"\"\n",
    "    cor = d_ret.corr()\n",
    "    n = int(cor.shape[0])\n",
    "    cor_list = []\n",
    "    for i in range(1, n):\n",
    "        for j in range(0, i):\n",
    "            cor_list.append((cor.iloc[i, j], cor.columns.values[i], cor.columns.values[j]))\n",
    "    return cor_list"
   ]
  },
  {
   "cell_type": "code",
   "execution_count": 6,
   "metadata": {
    "collapsed": false
   },
   "outputs": [
    {
     "name": "stdout",
     "output_type": "stream",
     "text": [
      "[(0.59866616402973749, 'ABT', 'MMM'), (0.32263699601940204, 'ABBV', 'MMM'), (0.48366885347180477, 'ABBV', 'ABT'), (0.63205934885601844, 'ACN', 'MMM'), (0.64408052989752662, 'ACN', 'ABT')]\n"
     ]
    }
   ],
   "source": [
    "# Test the previous function on the small dataset\n",
    "\n",
    "# Correlation list\n",
    "correlation_list = Correlations(daily_returns)\n",
    "print(correlation_list[:5])"
   ]
  },
  {
   "cell_type": "code",
   "execution_count": 7,
   "metadata": {
    "collapsed": true
   },
   "outputs": [],
   "source": [
    "# Create a function that sorts the list based on the correlation in \n",
    "# decreasing order\n",
    "def SortCorrs(cor_list): \n",
    "    \"\"\"\n",
    "    Input:  A list of tuples. Each tuple in the list have 3 elements:\n",
    "            1. The correlation between two firms\n",
    "            2 and 3. The firms for which we compute the correlation\n",
    "    Output: Returns the same list of tuples ordered based on the\n",
    "            first element of the tuples, e.g. the correlation\n",
    "    \"\"\"\n",
    "    return sorted(cor_list, reverse = True)"
   ]
  },
  {
   "cell_type": "code",
   "execution_count": 8,
   "metadata": {
    "collapsed": false
   },
   "outputs": [
    {
     "name": "stdout",
     "output_type": "stream",
     "text": [
      "[(0.64408052989752662, 'ACN', 'ABT'), (0.63205934885601844, 'ACN', 'MMM'), (0.59866616402973749, 'ABT', 'MMM'), (0.58567123295127221, 'ADBE', 'ABT'), (0.56075923030727226, 'ADBE', 'ACN')]\n"
     ]
    }
   ],
   "source": [
    "# Test the previous function\n",
    "\n",
    "ordered_list = SortCorrs(correlation_list)\n",
    "print(ordered_list[:5])"
   ]
  },
  {
   "cell_type": "code",
   "execution_count": 9,
   "metadata": {
    "collapsed": false
   },
   "outputs": [
    {
     "data": {
      "text/plain": [
       "{'AAP', 'ABBV', 'ABT', 'ACN', 'ADBE', 'AES', 'AET', 'ATVI', 'AYI', 'MMM'}"
      ]
     },
     "execution_count": 9,
     "metadata": {},
     "output_type": "execute_result"
    }
   ],
   "source": [
    "firmset = set(firms_small['Symbol'])\n",
    "firmset\n"
   ]
  },
  {
   "cell_type": "code",
   "execution_count": 10,
   "metadata": {
    "collapsed": false
   },
   "outputs": [],
   "source": [
    "firmdict = {}\n",
    "for firm in firmset:\n",
    "    firmdict[firm] = [firm, firm]"
   ]
  },
  {
   "cell_type": "code",
   "execution_count": 14,
   "metadata": {
    "collapsed": false
   },
   "outputs": [],
   "source": [
    "def findBottomNode(firm, firmDict):\n",
    "    if (firmDict[firm][1] == firm):\n",
    "        return firm\n",
    "    else:\n",
    "        return(findBottomNode(firmDict[firm][1],firmDict))"
   ]
  },
  {
   "cell_type": "code",
   "execution_count": 15,
   "metadata": {
    "collapsed": false
   },
   "outputs": [],
   "source": [
    "def findTopNode(firm, firmDict):\n",
    "    if (firmDict[firm][0] == firm):\n",
    "        return firm\n",
    "    else:\n",
    "        return(findTopNode(firmDict[firm][0],firmDict))"
   ]
  },
  {
   "cell_type": "code",
   "execution_count": 16,
   "metadata": {
    "collapsed": false
   },
   "outputs": [
    {
     "data": {
      "text/plain": [
       "(0.63205934885601844, 'ACN', 'MMM')"
      ]
     },
     "execution_count": 16,
     "metadata": {},
     "output_type": "execute_result"
    }
   ],
   "source": [
    "coritem = ordered_list.pop(0)\n",
    "coritem"
   ]
  },
  {
   "cell_type": "code",
   "execution_count": 17,
   "metadata": {
    "collapsed": false
   },
   "outputs": [],
   "source": [
    "lastnodefromsource = findBottomNode(coritem[1],firmdict)\n",
    "lastnodefromdest = findBottomNode(coritem[2],firmdict)\n",
    "if (lastnodefromsource == lastnodefromdest):\n",
    "    pass\n",
    "else:\n",
    "    firstnodefromdest = findTopNode(coritem[2],firmdict)\n",
    "    firmdict[lastnodefromsource][1] = firstnodefromdest\n",
    "    firmdict[firstnodefromdest][0] = lastnodefromsource"
   ]
  },
  {
   "cell_type": "code",
   "execution_count": 18,
   "metadata": {
    "collapsed": false
   },
   "outputs": [
    {
     "data": {
      "text/plain": [
       "{'AAP': ['AAP', 'AAP'],\n",
       " 'ABBV': ['ABBV', 'ABBV'],\n",
       " 'ABT': ['ABT', 'ABT'],\n",
       " 'ACN': ['ACN', 'MMM'],\n",
       " 'ADBE': ['ADBE', 'ADBE'],\n",
       " 'AES': ['AES', 'AES'],\n",
       " 'AET': ['AET', 'AET'],\n",
       " 'ATVI': ['ATVI', 'ATVI'],\n",
       " 'AYI': ['AYI', 'AYI'],\n",
       " 'MMM': ['ACN', 'MMM']}"
      ]
     },
     "execution_count": 18,
     "metadata": {},
     "output_type": "execute_result"
    }
   ],
   "source": [
    "firmdict"
   ]
  },
  {
   "cell_type": "code",
   "execution_count": 19,
   "metadata": {
    "collapsed": false
   },
   "outputs": [
    {
     "data": {
      "text/plain": [
       "(0.59866616402973749, 'ABT', 'MMM')"
      ]
     },
     "execution_count": 19,
     "metadata": {},
     "output_type": "execute_result"
    }
   ],
   "source": [
    "coritem = ordered_list.pop(0)\n",
    "coritem"
   ]
  },
  {
   "cell_type": "code",
   "execution_count": 20,
   "metadata": {
    "collapsed": false
   },
   "outputs": [],
   "source": [
    "lastnodefromsource = findBottomNode(coritem[1],firmdict)\n",
    "lastnodefromdest = findBottomNode(coritem[2],firmdict)\n",
    "if (lastnodefromsource == lastnodefromdest):\n",
    "    pass\n",
    "else:\n",
    "    firstnodefromdest = findTopNode(coritem[2],firmdict)\n",
    "    firmdict[lastnodefromsource][1] = firstnodefromdest\n",
    "    firmdict[firstnodefromdest][0] = lastnodefromsource"
   ]
  },
  {
   "cell_type": "code",
   "execution_count": 21,
   "metadata": {
    "collapsed": false
   },
   "outputs": [
    {
     "data": {
      "text/plain": [
       "{'AAP': ['AAP', 'AAP'],\n",
       " 'ABBV': ['ABBV', 'ABBV'],\n",
       " 'ABT': ['ABT', 'ACN'],\n",
       " 'ACN': ['ABT', 'MMM'],\n",
       " 'ADBE': ['ADBE', 'ADBE'],\n",
       " 'AES': ['AES', 'AES'],\n",
       " 'AET': ['AET', 'AET'],\n",
       " 'ATVI': ['ATVI', 'ATVI'],\n",
       " 'AYI': ['AYI', 'AYI'],\n",
       " 'MMM': ['ACN', 'MMM']}"
      ]
     },
     "execution_count": 21,
     "metadata": {},
     "output_type": "execute_result"
    }
   ],
   "source": [
    "firmdict"
   ]
  },
  {
   "cell_type": "code",
   "execution_count": 22,
   "metadata": {
    "collapsed": false
   },
   "outputs": [
    {
     "data": {
      "text/plain": [
       "(0.58567123295127221, 'ADBE', 'ABT')"
      ]
     },
     "execution_count": 22,
     "metadata": {},
     "output_type": "execute_result"
    }
   ],
   "source": [
    "coritem = ordered_list.pop(0)\n",
    "coritem"
   ]
  },
  {
   "cell_type": "code",
   "execution_count": 23,
   "metadata": {
    "collapsed": false
   },
   "outputs": [],
   "source": [
    "lastnodefromsource = findBottomNode(coritem[1],firmdict)\n",
    "lastnodefromdest = findBottomNode(coritem[2],firmdict)\n",
    "if (lastnodefromsource == lastnodefromdest):\n",
    "    pass\n",
    "else:\n",
    "    firstnodefromdest = findTopNode(coritem[2],firmdict)\n",
    "    firmdict[lastnodefromsource][1] = firstnodefromdest\n",
    "    firmdict[firstnodefromdest][0] = lastnodefromsource"
   ]
  },
  {
   "cell_type": "code",
   "execution_count": 24,
   "metadata": {
    "collapsed": false
   },
   "outputs": [
    {
     "data": {
      "text/plain": [
       "{'AAP': ['AAP', 'AAP'],\n",
       " 'ABBV': ['ABBV', 'ABBV'],\n",
       " 'ABT': ['ADBE', 'ACN'],\n",
       " 'ACN': ['ABT', 'MMM'],\n",
       " 'ADBE': ['ADBE', 'ABT'],\n",
       " 'AES': ['AES', 'AES'],\n",
       " 'AET': ['AET', 'AET'],\n",
       " 'ATVI': ['ATVI', 'ATVI'],\n",
       " 'AYI': ['AYI', 'AYI'],\n",
       " 'MMM': ['ACN', 'MMM']}"
      ]
     },
     "execution_count": 24,
     "metadata": {},
     "output_type": "execute_result"
    }
   ],
   "source": [
    "firmdict"
   ]
  },
  {
   "cell_type": "code",
   "execution_count": 25,
   "metadata": {
    "collapsed": false
   },
   "outputs": [],
   "source": [
    "# ### 3 ###\n",
    "# Create the function that performs the clustering algorithm\n",
    "def ClusteringAlg2(firm_set, ord_list, k = 5):\n",
    "    '''\n",
    "    Input:\n",
    "        - A set of strings (expected to be a set of firm stock ticker strings)\n",
    "        - An ordered list of items with:\n",
    "            - A ranked value (expected to be stock correlations)\n",
    "            - An element from the set (expected to be a firm stock ticker string)\n",
    "            - Another element from the set (expected to be a firm stock ticker string)\n",
    "        - An integer, which determines the number of iterations\n",
    "    '''\n",
    "    \n",
    "    ##change the firm_set into a dictionary which has\n",
    "    ##a key - which is the firm name\n",
    "    ##a list - including\n",
    "    ##    a \"prev\" firm name\n",
    "    ##    and a \"next\" firm name\n",
    "    firmdict = {}\n",
    "    for firm in firm_set:\n",
    "        firmdict[firm] = [firm, firm]\n",
    "    setOfStartNodes = set(firm_set)\n",
    "    \n",
    "    ##complete the loop k times\n",
    "    for i in range(0,k):\n",
    "        \n",
    "        #take an item from the ordered list\n",
    "        coritem = ord_list.pop(0)\n",
    "        \n",
    "        ##error handling - check that both the source and destination\n",
    "        ##elements are in the list of firms\n",
    "        if(coritem[1] not in firm_set or coritem[2] not in firm_set):\n",
    "            return(\"The ordered list must contain elements from the set\")\n",
    "        \n",
    "        ##check if the firms are already in the same \"set\"\n",
    "        ##i.e. have the same bottom node\n",
    "        lastnodefromsource = findBottomNode(coritem[1],firmdict)\n",
    "        lastnodefromdest = findBottomNode(coritem[2],firmdict)\n",
    "        if (lastnodefromsource == lastnodefromdest):\n",
    "            pass\n",
    "        \n",
    "        else:\n",
    "        ## Otherwise, get the top node of the destination\n",
    "            firstnodefromdest = findTopNode(coritem[2],firmdict)\n",
    "        ## set the bottom node of the source to have a\n",
    "        ## \"next\" pointer to the top node of the destination       \n",
    "            firmdict[lastnodefromsource][1] = firstnodefromdest\n",
    "        ## & visa versa set the \"prev\" pointer of the top node of the\n",
    "        ## destination to the bottom node of the source\n",
    "        ## i.e. join the sets such that there is only one \"line\"\n",
    "        ## from start to finish\n",
    "            firmdict[firstnodefromdest][0] = lastnodefromsource\n",
    "        ## Remove the start node of the destination from start nodes\n",
    "        ## as it now has a previous node, and is not a start.\n",
    "            setOfStartNodes.remove(firstnodefromdest)\n",
    "    \n",
    "    return (firmdict, setOfStartNodes)"
   ]
  },
  {
   "cell_type": "code",
   "execution_count": 26,
   "metadata": {
    "collapsed": false
   },
   "outputs": [
    {
     "data": {
      "text/plain": [
       "({'AAP': ['AAP', 'AAP'],\n",
       "  'ABBV': ['ABBV', 'AYI'],\n",
       "  'ABT': ['AYI', 'ABT'],\n",
       "  'ACN': ['ADBE', 'ATVI'],\n",
       "  'ADBE': ['ADBE', 'ACN'],\n",
       "  'AES': ['AES', 'AES'],\n",
       "  'AET': ['AET', 'AET'],\n",
       "  'ATVI': ['ACN', 'ATVI'],\n",
       "  'AYI': ['ABBV', 'ABT'],\n",
       "  'MMM': ['MMM', 'MMM']},\n",
       " {'AAP', 'ABBV', 'ADBE', 'AES', 'AET', 'MMM'})"
      ]
     },
     "execution_count": 26,
     "metadata": {},
     "output_type": "execute_result"
    }
   ],
   "source": [
    "firmset = set(firms_small['Symbol'])\n",
    "firmset\n",
    "ClusteringAlg2(firmset, ordered_list[0:4], k = 4)"
   ]
  },
  {
   "cell_type": "code",
   "execution_count": 30,
   "metadata": {
    "collapsed": false
   },
   "outputs": [],
   "source": [
    "def ReturnClusters(firmdict, setOfStartNodes):\n",
    "    startnodes = set(setOfStartNodes)\n",
    "    listoflists = []\n",
    "    while (len(startnodes) != 0):\n",
    "        currentnode = startnodes.pop()\n",
    "        currentlist = [currentnode]\n",
    "        while (firmdict[currentnode][1] != currentnode):\n",
    "            currentnode = firmdict[currentnode][1]\n",
    "            currentlist.append(currentnode)\n",
    "        listoflists.append(currentlist)\n",
    "    return listoflists"
   ]
  },
  {
   "cell_type": "code",
   "execution_count": 33,
   "metadata": {
    "collapsed": false
   },
   "outputs": [
    {
     "data": {
      "text/plain": [
       "[['AET'],\n",
       " ['ABBV'],\n",
       " ['AAP'],\n",
       " ['ATVI'],\n",
       " ['AYI'],\n",
       " ['ADBE', 'ACN', 'ABT', 'MMM'],\n",
       " ['AES']]"
      ]
     },
     "execution_count": 33,
     "metadata": {},
     "output_type": "execute_result"
    }
   ],
   "source": [
    "ordered_list = SortCorrs(correlation_list)\n",
    "ordered_list[0:4]\n",
    "a, b = ClusteringAlg2(firmset, ordered_list[0:4], k = 4)\n",
    "ReturnClusters(a,b)"
   ]
  },
  {
   "cell_type": "code",
   "execution_count": 34,
   "metadata": {
    "collapsed": false
   },
   "outputs": [],
   "source": [
    "# ### 3 - full model.###\n",
    "# Create the function that performs the clustering algorithm\n",
    "def ClusteringAlg3(firm_set, ord_list, k = 5):\n",
    "    '''\n",
    "    Input:\n",
    "        - A set of strings (expected to be a set of firm stock ticker strings)\n",
    "        - An ordered list of items with:\n",
    "            - A ranked value (expected to be stock correlations)\n",
    "            - An element from the set (expected to be a firm stock ticker string)\n",
    "            - Another element from the set (expected to be a firm stock ticker string)\n",
    "        - An integer, which determines the number of iterations\n",
    "    '''\n",
    "    \n",
    "    ##change the firm_set into a dictionary which has\n",
    "    ##a key - which is the firm name\n",
    "    ##a list - including\n",
    "    ##    a \"prev\" firm name\n",
    "    ##    and a \"next\" firm name\n",
    "    firmdict = {}\n",
    "    for firm in firm_set:\n",
    "        firmdict[firm] = [firm, firm]\n",
    "    setOfStartNodes = set(firm_set)\n",
    "    \n",
    "    ##complete the loop k times\n",
    "    for i in range(0,k):\n",
    "        \n",
    "        #take an item from the ordered list\n",
    "        coritem = ord_list.pop(0)\n",
    "        \n",
    "        ##error handling - check that both the source and destination\n",
    "        ##elements are in the list of firms\n",
    "        if(coritem[1] not in firm_set or coritem[2] not in firm_set):\n",
    "            return(\"The ordered list must contain elements from the set\")\n",
    "        \n",
    "        ##check if the firms are already in the same \"set\"\n",
    "        ##i.e. have the same bottom node\n",
    "        lastnodefromsource = findBottomNode(coritem[1],firmdict)\n",
    "        lastnodefromdest = findBottomNode(coritem[2],firmdict)\n",
    "        if (lastnodefromsource == lastnodefromdest):\n",
    "            pass\n",
    "        \n",
    "        else:\n",
    "        ## Otherwise, get the top node of the destination\n",
    "            firstnodefromdest = findTopNode(coritem[2],firmdict)\n",
    "        ## set the bottom node of the source to have a\n",
    "        ## \"next\" pointer to the top node of the destination       \n",
    "            firmdict[lastnodefromsource][1] = firstnodefromdest\n",
    "        ## & visa versa set the \"prev\" pointer of the top node of the\n",
    "        ## destination to the bottom node of the source\n",
    "        ## i.e. join the sets such that there is only one \"line\"\n",
    "        ## from start to finish\n",
    "            firmdict[firstnodefromdest][0] = lastnodefromsource\n",
    "        ## Remove the start node of the destination from start nodes\n",
    "        ## as it now has a previous node, and is not a start.\n",
    "            setOfStartNodes.remove(firstnodefromdest)\n",
    "    \n",
    "    return (ReturnClusters(firmdict, setOfStartNodes))"
   ]
  },
  {
   "cell_type": "code",
   "execution_count": 32,
   "metadata": {
    "collapsed": false
   },
   "outputs": [
    {
     "data": {
      "text/plain": [
       "[['AET'],\n",
       " ['ABBV'],\n",
       " ['AAP'],\n",
       " ['ATVI'],\n",
       " ['AYI'],\n",
       " ['ADBE', 'ACN', 'ABT', 'MMM'],\n",
       " ['AES']]"
      ]
     },
     "execution_count": 32,
     "metadata": {},
     "output_type": "execute_result"
    }
   ],
   "source": [
    "ordered_list = SortCorrs(correlation_list)\n",
    "ordered_list[0:4]\n",
    "ClusteringAlg3(firmset, ordered_list[0:4], k = 4)"
   ]
  },
  {
   "cell_type": "markdown",
   "metadata": {},
   "source": [
    "To do: plot the sets with different colours on the linegraph\n"
   ]
  }
 ],
 "metadata": {
  "anaconda-cloud": {},
  "kernelspec": {
   "display_name": "Python [conda root]",
   "language": "python",
   "name": "conda-root-py"
  },
  "language_info": {
   "codemirror_mode": {
    "name": "ipython",
    "version": 3
   },
   "file_extension": ".py",
   "mimetype": "text/x-python",
   "name": "python",
   "nbconvert_exporter": "python",
   "pygments_lexer": "ipython3",
   "version": "3.5.2"
  }
 },
 "nbformat": 4,
 "nbformat_minor": 0
}
